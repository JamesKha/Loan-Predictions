{
  "nbformat": 4,
  "nbformat_minor": 0,
  "metadata": {
    "kernelspec": {
      "display_name": "Python 3",
      "language": "python",
      "name": "python3"
    },
    "language_info": {
      "codemirror_mode": {
        "name": "ipython",
        "version": 3
      },
      "file_extension": ".py",
      "mimetype": "text/x-python",
      "name": "python",
      "nbconvert_exporter": "python",
      "pygments_lexer": "ipython3",
      "version": "3.7.6"
    },
    "colab": {
      "name": "mini-project-IV.ipynb",
      "provenance": [],
      "collapsed_sections": [],
      "include_colab_link": true
    }
  },
  "cells": [
    {
      "cell_type": "markdown",
      "metadata": {
        "id": "view-in-github",
        "colab_type": "text"
      },
      "source": [
        "<a href=\"https://colab.research.google.com/github/JamesKha/mini-project4/blob/main/mini_project_IV.ipynb\" target=\"_parent\"><img src=\"https://colab.research.google.com/assets/colab-badge.svg\" alt=\"Open In Colab\"/></a>"
      ]
    },
    {
      "cell_type": "code",
      "metadata": {
        "colab": {
          "base_uri": "https://localhost:8080/"
        },
        "id": "4VsHkKIbI-TJ",
        "outputId": "366704b0-4757-406e-8d02-a168f6779c71"
      },
      "source": [
        "!pip install category_encoders\n",
        "!pip install flask\n",
        "!pip install flask_restful"
      ],
      "execution_count": null,
      "outputs": [
        {
          "output_type": "stream",
          "text": [
            "Requirement already satisfied: category_encoders in /usr/local/lib/python3.7/dist-packages (2.2.2)\n",
            "Requirement already satisfied: scikit-learn>=0.20.0 in /usr/local/lib/python3.7/dist-packages (from category_encoders) (0.22.2.post1)\n",
            "Requirement already satisfied: patsy>=0.5.1 in /usr/local/lib/python3.7/dist-packages (from category_encoders) (0.5.1)\n",
            "Requirement already satisfied: statsmodels>=0.9.0 in /usr/local/lib/python3.7/dist-packages (from category_encoders) (0.10.2)\n",
            "Requirement already satisfied: scipy>=1.0.0 in /usr/local/lib/python3.7/dist-packages (from category_encoders) (1.4.1)\n",
            "Requirement already satisfied: numpy>=1.14.0 in /usr/local/lib/python3.7/dist-packages (from category_encoders) (1.19.5)\n",
            "Requirement already satisfied: pandas>=0.21.1 in /usr/local/lib/python3.7/dist-packages (from category_encoders) (1.1.5)\n",
            "Requirement already satisfied: pytz>=2017.2 in /usr/local/lib/python3.7/dist-packages (from pandas>=0.21.1->category_encoders) (2018.9)\n",
            "Requirement already satisfied: python-dateutil>=2.7.3 in /usr/local/lib/python3.7/dist-packages (from pandas>=0.21.1->category_encoders) (2.8.1)\n",
            "Requirement already satisfied: six in /usr/local/lib/python3.7/dist-packages (from patsy>=0.5.1->category_encoders) (1.15.0)\n",
            "Requirement already satisfied: joblib>=0.11 in /usr/local/lib/python3.7/dist-packages (from scikit-learn>=0.20.0->category_encoders) (1.0.1)\n",
            "Requirement already satisfied: flask in /usr/local/lib/python3.7/dist-packages (1.1.4)\n",
            "Requirement already satisfied: click<8.0,>=5.1 in /usr/local/lib/python3.7/dist-packages (from flask) (7.1.2)\n",
            "Requirement already satisfied: Jinja2<3.0,>=2.10.1 in /usr/local/lib/python3.7/dist-packages (from flask) (2.11.3)\n",
            "Requirement already satisfied: itsdangerous<2.0,>=0.24 in /usr/local/lib/python3.7/dist-packages (from flask) (1.1.0)\n",
            "Requirement already satisfied: Werkzeug<2.0,>=0.15 in /usr/local/lib/python3.7/dist-packages (from flask) (1.0.1)\n",
            "Requirement already satisfied: MarkupSafe>=0.23 in /usr/local/lib/python3.7/dist-packages (from Jinja2<3.0,>=2.10.1->flask) (2.0.1)\n",
            "Requirement already satisfied: flask_restful in /usr/local/lib/python3.7/dist-packages (0.3.9)\n",
            "Requirement already satisfied: Flask>=0.8 in /usr/local/lib/python3.7/dist-packages (from flask_restful) (1.1.4)\n",
            "Requirement already satisfied: six>=1.3.0 in /usr/local/lib/python3.7/dist-packages (from flask_restful) (1.15.0)\n",
            "Requirement already satisfied: pytz in /usr/local/lib/python3.7/dist-packages (from flask_restful) (2018.9)\n",
            "Requirement already satisfied: aniso8601>=0.82 in /usr/local/lib/python3.7/dist-packages (from flask_restful) (9.0.1)\n",
            "Requirement already satisfied: itsdangerous<2.0,>=0.24 in /usr/local/lib/python3.7/dist-packages (from Flask>=0.8->flask_restful) (1.1.0)\n",
            "Requirement already satisfied: click<8.0,>=5.1 in /usr/local/lib/python3.7/dist-packages (from Flask>=0.8->flask_restful) (7.1.2)\n",
            "Requirement already satisfied: Werkzeug<2.0,>=0.15 in /usr/local/lib/python3.7/dist-packages (from Flask>=0.8->flask_restful) (1.0.1)\n",
            "Requirement already satisfied: Jinja2<3.0,>=2.10.1 in /usr/local/lib/python3.7/dist-packages (from Flask>=0.8->flask_restful) (2.11.3)\n",
            "Requirement already satisfied: MarkupSafe>=0.23 in /usr/local/lib/python3.7/dist-packages (from Jinja2<3.0,>=2.10.1->Flask>=0.8->flask_restful) (2.0.1)\n"
          ],
          "name": "stdout"
        }
      ]
    },
    {
      "cell_type": "markdown",
      "metadata": {
        "id": "ekMvd1V5w9__"
      },
      "source": [
        "# Loan predictions\n",
        "\n",
        "## Problem Statement\n",
        "\n",
        "We want to automate the loan eligibility process based on customer details that are provided as online application forms are being filled. You can find the dataset [here](https://drive.google.com/file/d/1h_jl9xqqqHflI5PsuiQd_soNYxzFfjKw/view?usp=sharing). These details concern the customer's Gender, Marital Status, Education, Number of Dependents, Income, Loan Amount, Credit History and other things as well. \n",
        "\n",
        "|Variable| Description|\n",
        "|: ------------- |:-------------|\n",
        "|Loan_ID| Unique Loan ID|\n",
        "|Gender| Male/ Female|\n",
        "|Married| Applicant married (Y/N)|\n",
        "|Dependents| Number of dependents|\n",
        "|Education| Applicant Education (Graduate/ Under Graduate)|\n",
        "|Self_Employed| Self employed (Y/N)|\n",
        "|ApplicantIncome| Applicant income|\n",
        "|CoapplicantIncome| Coapplicant income|\n",
        "|LoanAmount| Loan amount in thousands|\n",
        "|Loan_Amount_Term| Term of loan in months|\n",
        "|Credit_History| credit history meets guidelines|\n",
        "|Property_Area| Urban/ Semi Urban/ Rural|\n",
        "|Loan_Status| Loan approved (Y/N)\n",
        "\n",
        "\n",
        "\n",
        "### Explore the problem in following stages:\n",
        "\n",
        "1. Hypothesis Generation – understanding the problem better by brainstorming possible factors that can impact the outcome\n",
        "2. Data Exploration – looking at categorical and continuous feature summaries and making inferences about the data.\n",
        "3. Data Cleaning – imputing missing values in the data and checking for outliers\n",
        "4. Feature Engineering – modifying existing variables and creating new ones for analysis\n",
        "5. Model Building – making predictive models on the data"
      ]
    },
    {
      "cell_type": "code",
      "metadata": {
        "id": "HMpRqIGVHYdX"
      },
      "source": [
        "import copy\n",
        "import numpy"
      ],
      "execution_count": null,
      "outputs": []
    },
    {
      "cell_type": "markdown",
      "metadata": {
        "id": "KFH-Si4ow-AB"
      },
      "source": [
        "## 1. Hypothesis Generation\n",
        "\n",
        "Generating a hypothesis is a major step in the process of analyzing data. This involves understanding the problem and formulating a meaningful hypothesis about what could potentially have a good impact on the outcome. This is done BEFORE looking at the data, and we end up creating a laundry list of the different analyses which we can potentially perform if data is available.\n",
        "\n",
        "#### Possible hypotheses\n",
        "Which applicants are more likely to get a loan\n",
        "\n",
        "1. Applicants having a credit history \n",
        "2. Applicants with higher applicant and co-applicant incomes\n",
        "3. Applicants with higher education level\n",
        "4. Properties in urban areas with high growth perspectives\n",
        "\n",
        "Do more brainstorming and create some hypotheses of your own. Remember that the data might not be sufficient to test all of these, but forming these enables a better understanding of the problem."
      ]
    },
    {
      "cell_type": "code",
      "metadata": {
        "colab": {
          "base_uri": "https://localhost:8080/"
        },
        "id": "HwakZRi8xV-F",
        "outputId": "1d33df1d-84cd-4598-8926-3b41e516b14d"
      },
      "source": [
        "from google.colab import drive\n",
        "drive.mount('/gdrive')\n",
        "%cd /gdrive"
      ],
      "execution_count": null,
      "outputs": [
        {
          "output_type": "stream",
          "text": [
            "Mounted at /gdrive\n",
            "/gdrive\n"
          ],
          "name": "stdout"
        }
      ]
    },
    {
      "cell_type": "code",
      "metadata": {
        "id": "slDOq_9qxq7k",
        "colab": {
          "base_uri": "https://localhost:8080/"
        },
        "outputId": "4eef1af7-f8aa-4d4a-f73f-410e0f262dae"
      },
      "source": [
        "from google.colab import drive\n",
        "drive.mount('/content/drive')"
      ],
      "execution_count": null,
      "outputs": [
        {
          "output_type": "stream",
          "text": [
            "Mounted at /content/drive\n"
          ],
          "name": "stdout"
        }
      ]
    },
    {
      "cell_type": "code",
      "metadata": {
        "id": "6ViGv3CPfQBV"
      },
      "source": [
        "from sklearn.preprocessing import FunctionTransformer"
      ],
      "execution_count": null,
      "outputs": []
    },
    {
      "cell_type": "markdown",
      "metadata": {
        "id": "wtTLNei9w-AC"
      },
      "source": [
        "## 2. Data Exploration\n",
        "Let's do some basic data exploration here and come up with some inferences about the data. Go ahead and try to figure out some irregularities and address them in the next section. "
      ]
    },
    {
      "cell_type": "code",
      "metadata": {
        "jupyter": {
          "outputs_hidden": false
        },
        "id": "PNQaLWsVw-AF",
        "colab": {
          "base_uri": "https://localhost:8080/",
          "height": 243
        },
        "outputId": "16625d24-0cd8-43c4-d8f6-d57ef0306d96"
      },
      "source": [
        "import pandas as pd\n",
        "import numpy as np\n",
        "from matplotlib import pyplot as plt\n",
        "from sklearn.preprocessing import StandardScaler,PowerTransformer\n",
        "pd.options.mode.chained_assignment = None \n",
        "\n",
        "df = pd.read_csv(\"/content/drive/MyDrive/data.csv\") \n",
        "df.head()"
      ],
      "execution_count": null,
      "outputs": [
        {
          "output_type": "execute_result",
          "data": {
            "text/html": [
              "<div>\n",
              "<style scoped>\n",
              "    .dataframe tbody tr th:only-of-type {\n",
              "        vertical-align: middle;\n",
              "    }\n",
              "\n",
              "    .dataframe tbody tr th {\n",
              "        vertical-align: top;\n",
              "    }\n",
              "\n",
              "    .dataframe thead th {\n",
              "        text-align: right;\n",
              "    }\n",
              "</style>\n",
              "<table border=\"1\" class=\"dataframe\">\n",
              "  <thead>\n",
              "    <tr style=\"text-align: right;\">\n",
              "      <th></th>\n",
              "      <th>Loan_ID</th>\n",
              "      <th>Gender</th>\n",
              "      <th>Married</th>\n",
              "      <th>Dependents</th>\n",
              "      <th>Education</th>\n",
              "      <th>Self_Employed</th>\n",
              "      <th>ApplicantIncome</th>\n",
              "      <th>CoapplicantIncome</th>\n",
              "      <th>LoanAmount</th>\n",
              "      <th>Loan_Amount_Term</th>\n",
              "      <th>Credit_History</th>\n",
              "      <th>Property_Area</th>\n",
              "      <th>Loan_Status</th>\n",
              "    </tr>\n",
              "  </thead>\n",
              "  <tbody>\n",
              "    <tr>\n",
              "      <th>0</th>\n",
              "      <td>LP001002</td>\n",
              "      <td>Male</td>\n",
              "      <td>No</td>\n",
              "      <td>0</td>\n",
              "      <td>Graduate</td>\n",
              "      <td>No</td>\n",
              "      <td>5849</td>\n",
              "      <td>0.0</td>\n",
              "      <td>NaN</td>\n",
              "      <td>360.0</td>\n",
              "      <td>1.0</td>\n",
              "      <td>Urban</td>\n",
              "      <td>Y</td>\n",
              "    </tr>\n",
              "    <tr>\n",
              "      <th>1</th>\n",
              "      <td>LP001003</td>\n",
              "      <td>Male</td>\n",
              "      <td>Yes</td>\n",
              "      <td>1</td>\n",
              "      <td>Graduate</td>\n",
              "      <td>No</td>\n",
              "      <td>4583</td>\n",
              "      <td>1508.0</td>\n",
              "      <td>128.0</td>\n",
              "      <td>360.0</td>\n",
              "      <td>1.0</td>\n",
              "      <td>Rural</td>\n",
              "      <td>N</td>\n",
              "    </tr>\n",
              "    <tr>\n",
              "      <th>2</th>\n",
              "      <td>LP001005</td>\n",
              "      <td>Male</td>\n",
              "      <td>Yes</td>\n",
              "      <td>0</td>\n",
              "      <td>Graduate</td>\n",
              "      <td>Yes</td>\n",
              "      <td>3000</td>\n",
              "      <td>0.0</td>\n",
              "      <td>66.0</td>\n",
              "      <td>360.0</td>\n",
              "      <td>1.0</td>\n",
              "      <td>Urban</td>\n",
              "      <td>Y</td>\n",
              "    </tr>\n",
              "    <tr>\n",
              "      <th>3</th>\n",
              "      <td>LP001006</td>\n",
              "      <td>Male</td>\n",
              "      <td>Yes</td>\n",
              "      <td>0</td>\n",
              "      <td>Not Graduate</td>\n",
              "      <td>No</td>\n",
              "      <td>2583</td>\n",
              "      <td>2358.0</td>\n",
              "      <td>120.0</td>\n",
              "      <td>360.0</td>\n",
              "      <td>1.0</td>\n",
              "      <td>Urban</td>\n",
              "      <td>Y</td>\n",
              "    </tr>\n",
              "    <tr>\n",
              "      <th>4</th>\n",
              "      <td>LP001008</td>\n",
              "      <td>Male</td>\n",
              "      <td>No</td>\n",
              "      <td>0</td>\n",
              "      <td>Graduate</td>\n",
              "      <td>No</td>\n",
              "      <td>6000</td>\n",
              "      <td>0.0</td>\n",
              "      <td>141.0</td>\n",
              "      <td>360.0</td>\n",
              "      <td>1.0</td>\n",
              "      <td>Urban</td>\n",
              "      <td>Y</td>\n",
              "    </tr>\n",
              "  </tbody>\n",
              "</table>\n",
              "</div>"
            ],
            "text/plain": [
              "    Loan_ID Gender Married  ... Credit_History Property_Area Loan_Status\n",
              "0  LP001002   Male      No  ...            1.0         Urban           Y\n",
              "1  LP001003   Male     Yes  ...            1.0         Rural           N\n",
              "2  LP001005   Male     Yes  ...            1.0         Urban           Y\n",
              "3  LP001006   Male     Yes  ...            1.0         Urban           Y\n",
              "4  LP001008   Male      No  ...            1.0         Urban           Y\n",
              "\n",
              "[5 rows x 13 columns]"
            ]
          },
          "metadata": {
            "tags": []
          },
          "execution_count": 6
        }
      ]
    },
    {
      "cell_type": "code",
      "metadata": {
        "colab": {
          "base_uri": "https://localhost:8080/",
          "height": 320
        },
        "id": "rwZ-1sFuSJtj",
        "outputId": "31b08a75-2bfc-433d-9b52-dbb8a124cc73"
      },
      "source": [
        "df.describe()"
      ],
      "execution_count": null,
      "outputs": [
        {
          "output_type": "execute_result",
          "data": {
            "text/html": [
              "<div>\n",
              "<style scoped>\n",
              "    .dataframe tbody tr th:only-of-type {\n",
              "        vertical-align: middle;\n",
              "    }\n",
              "\n",
              "    .dataframe tbody tr th {\n",
              "        vertical-align: top;\n",
              "    }\n",
              "\n",
              "    .dataframe thead th {\n",
              "        text-align: right;\n",
              "    }\n",
              "</style>\n",
              "<table border=\"1\" class=\"dataframe\">\n",
              "  <thead>\n",
              "    <tr style=\"text-align: right;\">\n",
              "      <th></th>\n",
              "      <th>ApplicantIncome</th>\n",
              "      <th>CoapplicantIncome</th>\n",
              "      <th>LoanAmount</th>\n",
              "      <th>Loan_Amount_Term</th>\n",
              "      <th>Credit_History</th>\n",
              "    </tr>\n",
              "  </thead>\n",
              "  <tbody>\n",
              "    <tr>\n",
              "      <th>count</th>\n",
              "      <td>614.000000</td>\n",
              "      <td>614.000000</td>\n",
              "      <td>592.000000</td>\n",
              "      <td>600.00000</td>\n",
              "      <td>564.000000</td>\n",
              "    </tr>\n",
              "    <tr>\n",
              "      <th>mean</th>\n",
              "      <td>5403.459283</td>\n",
              "      <td>1621.245798</td>\n",
              "      <td>146.412162</td>\n",
              "      <td>342.00000</td>\n",
              "      <td>0.842199</td>\n",
              "    </tr>\n",
              "    <tr>\n",
              "      <th>std</th>\n",
              "      <td>6109.041673</td>\n",
              "      <td>2926.248369</td>\n",
              "      <td>85.587325</td>\n",
              "      <td>65.12041</td>\n",
              "      <td>0.364878</td>\n",
              "    </tr>\n",
              "    <tr>\n",
              "      <th>min</th>\n",
              "      <td>150.000000</td>\n",
              "      <td>0.000000</td>\n",
              "      <td>9.000000</td>\n",
              "      <td>12.00000</td>\n",
              "      <td>0.000000</td>\n",
              "    </tr>\n",
              "    <tr>\n",
              "      <th>25%</th>\n",
              "      <td>2877.500000</td>\n",
              "      <td>0.000000</td>\n",
              "      <td>100.000000</td>\n",
              "      <td>360.00000</td>\n",
              "      <td>1.000000</td>\n",
              "    </tr>\n",
              "    <tr>\n",
              "      <th>50%</th>\n",
              "      <td>3812.500000</td>\n",
              "      <td>1188.500000</td>\n",
              "      <td>128.000000</td>\n",
              "      <td>360.00000</td>\n",
              "      <td>1.000000</td>\n",
              "    </tr>\n",
              "    <tr>\n",
              "      <th>75%</th>\n",
              "      <td>5795.000000</td>\n",
              "      <td>2297.250000</td>\n",
              "      <td>168.000000</td>\n",
              "      <td>360.00000</td>\n",
              "      <td>1.000000</td>\n",
              "    </tr>\n",
              "    <tr>\n",
              "      <th>max</th>\n",
              "      <td>81000.000000</td>\n",
              "      <td>41667.000000</td>\n",
              "      <td>700.000000</td>\n",
              "      <td>480.00000</td>\n",
              "      <td>1.000000</td>\n",
              "    </tr>\n",
              "  </tbody>\n",
              "</table>\n",
              "</div>"
            ],
            "text/plain": [
              "       ApplicantIncome  CoapplicantIncome  ...  Loan_Amount_Term  Credit_History\n",
              "count       614.000000         614.000000  ...         600.00000      564.000000\n",
              "mean       5403.459283        1621.245798  ...         342.00000        0.842199\n",
              "std        6109.041673        2926.248369  ...          65.12041        0.364878\n",
              "min         150.000000           0.000000  ...          12.00000        0.000000\n",
              "25%        2877.500000           0.000000  ...         360.00000        1.000000\n",
              "50%        3812.500000        1188.500000  ...         360.00000        1.000000\n",
              "75%        5795.000000        2297.250000  ...         360.00000        1.000000\n",
              "max       81000.000000       41667.000000  ...         480.00000        1.000000\n",
              "\n",
              "[8 rows x 5 columns]"
            ]
          },
          "metadata": {
            "tags": []
          },
          "execution_count": 7
        }
      ]
    },
    {
      "cell_type": "code",
      "metadata": {
        "id": "iw4Tx_ljWVQX"
      },
      "source": [
        "Loan_Status = df.loc[df['Loan_Status'] == 'Y'].sample(n=89,random_state=42)\n",
        "noLoan_Status = df.loc[df['Loan_Status'] == 'N']\n",
        "df = pd.concat([Loan_Status, noLoan_Status])\n",
        "X,y = df.drop('Loan_Status',axis=1),df['Loan_Status']\n",
        "\n"
      ],
      "execution_count": null,
      "outputs": []
    },
    {
      "cell_type": "markdown",
      "metadata": {
        "id": "rHpW2F2Uw-AH"
      },
      "source": [
        "One of the key challenges in any data set are missing values. Lets start by checking which columns contain missing values."
      ]
    },
    {
      "cell_type": "code",
      "metadata": {
        "jupyter": {
          "outputs_hidden": false
        },
        "id": "6gDDpbCqw-AI",
        "colab": {
          "base_uri": "https://localhost:8080/"
        },
        "outputId": "a05a427e-baaa-4449-b508-70ae6112d9c0"
      },
      "source": [
        "X.isnull().sum()"
      ],
      "execution_count": null,
      "outputs": [
        {
          "output_type": "execute_result",
          "data": {
            "text/plain": [
              "Loan_ID               0\n",
              "Gender                7\n",
              "Married               0\n",
              "Dependents            7\n",
              "Education             0\n",
              "Self_Employed        16\n",
              "ApplicantIncome       0\n",
              "CoapplicantIncome     0\n",
              "LoanAmount           13\n",
              "Loan_Amount_Term      7\n",
              "Credit_History       21\n",
              "Property_Area         0\n",
              "dtype: int64"
            ]
          },
          "metadata": {
            "tags": []
          },
          "execution_count": 9
        }
      ]
    },
    {
      "cell_type": "markdown",
      "metadata": {
        "id": "4X_O2ofww-AI"
      },
      "source": [
        "Look at some basic statistics for numerical variables."
      ]
    },
    {
      "cell_type": "code",
      "metadata": {
        "jupyter": {
          "outputs_hidden": false
        },
        "id": "zF4GlpUkw-AJ",
        "colab": {
          "base_uri": "https://localhost:8080/",
          "height": 320
        },
        "outputId": "974324a7-9d3d-483e-ef7f-c374205a4519"
      },
      "source": [
        "X.describe()"
      ],
      "execution_count": null,
      "outputs": [
        {
          "output_type": "execute_result",
          "data": {
            "text/html": [
              "<div>\n",
              "<style scoped>\n",
              "    .dataframe tbody tr th:only-of-type {\n",
              "        vertical-align: middle;\n",
              "    }\n",
              "\n",
              "    .dataframe tbody tr th {\n",
              "        vertical-align: top;\n",
              "    }\n",
              "\n",
              "    .dataframe thead th {\n",
              "        text-align: right;\n",
              "    }\n",
              "</style>\n",
              "<table border=\"1\" class=\"dataframe\">\n",
              "  <thead>\n",
              "    <tr style=\"text-align: right;\">\n",
              "      <th></th>\n",
              "      <th>ApplicantIncome</th>\n",
              "      <th>CoapplicantIncome</th>\n",
              "      <th>LoanAmount</th>\n",
              "      <th>Loan_Amount_Term</th>\n",
              "      <th>Credit_History</th>\n",
              "    </tr>\n",
              "  </thead>\n",
              "  <tbody>\n",
              "    <tr>\n",
              "      <th>count</th>\n",
              "      <td>281.000000</td>\n",
              "      <td>281.000000</td>\n",
              "      <td>268.000000</td>\n",
              "      <td>274.000000</td>\n",
              "      <td>260.000000</td>\n",
              "    </tr>\n",
              "    <tr>\n",
              "      <th>mean</th>\n",
              "      <td>5510.113879</td>\n",
              "      <td>1892.071174</td>\n",
              "      <td>153.656716</td>\n",
              "      <td>342.043796</td>\n",
              "      <td>0.676923</td>\n",
              "    </tr>\n",
              "    <tr>\n",
              "      <th>std</th>\n",
              "      <td>6894.704329</td>\n",
              "      <td>3933.291696</td>\n",
              "      <td>91.884238</td>\n",
              "      <td>66.771698</td>\n",
              "      <td>0.468554</td>\n",
              "    </tr>\n",
              "    <tr>\n",
              "      <th>min</th>\n",
              "      <td>150.000000</td>\n",
              "      <td>0.000000</td>\n",
              "      <td>9.000000</td>\n",
              "      <td>36.000000</td>\n",
              "      <td>0.000000</td>\n",
              "    </tr>\n",
              "    <tr>\n",
              "      <th>25%</th>\n",
              "      <td>2787.000000</td>\n",
              "      <td>0.000000</td>\n",
              "      <td>104.000000</td>\n",
              "      <td>360.000000</td>\n",
              "      <td>0.000000</td>\n",
              "    </tr>\n",
              "    <tr>\n",
              "      <th>50%</th>\n",
              "      <td>3617.000000</td>\n",
              "      <td>1255.000000</td>\n",
              "      <td>131.000000</td>\n",
              "      <td>360.000000</td>\n",
              "      <td>1.000000</td>\n",
              "    </tr>\n",
              "    <tr>\n",
              "      <th>75%</th>\n",
              "      <td>5780.000000</td>\n",
              "      <td>2426.000000</td>\n",
              "      <td>175.250000</td>\n",
              "      <td>360.000000</td>\n",
              "      <td>1.000000</td>\n",
              "    </tr>\n",
              "    <tr>\n",
              "      <th>max</th>\n",
              "      <td>81000.000000</td>\n",
              "      <td>41667.000000</td>\n",
              "      <td>700.000000</td>\n",
              "      <td>480.000000</td>\n",
              "      <td>1.000000</td>\n",
              "    </tr>\n",
              "  </tbody>\n",
              "</table>\n",
              "</div>"
            ],
            "text/plain": [
              "       ApplicantIncome  CoapplicantIncome  ...  Loan_Amount_Term  Credit_History\n",
              "count       281.000000         281.000000  ...        274.000000      260.000000\n",
              "mean       5510.113879        1892.071174  ...        342.043796        0.676923\n",
              "std        6894.704329        3933.291696  ...         66.771698        0.468554\n",
              "min         150.000000           0.000000  ...         36.000000        0.000000\n",
              "25%        2787.000000           0.000000  ...        360.000000        0.000000\n",
              "50%        3617.000000        1255.000000  ...        360.000000        1.000000\n",
              "75%        5780.000000        2426.000000  ...        360.000000        1.000000\n",
              "max       81000.000000       41667.000000  ...        480.000000        1.000000\n",
              "\n",
              "[8 rows x 5 columns]"
            ]
          },
          "metadata": {
            "tags": []
          },
          "execution_count": 10
        }
      ]
    },
    {
      "cell_type": "markdown",
      "metadata": {
        "id": "MZPN8Om1w-AK"
      },
      "source": [
        "1. How many applicants have a `Credit_History`? (`Credit_History` has value 1 for those who have a credit history and 0 otherwise)\n",
        "2. Is the `ApplicantIncome` distribution in line with your expectation? Similarly, what about `CoapplicantIncome`?\n",
        "3. Tip: Can you see a possible skewness in the data by comparing the mean to the median, i.e. the 50% figure of a feature.\n",
        "\n"
      ]
    },
    {
      "cell_type": "markdown",
      "metadata": {
        "id": "hwLorl1VyMio"
      },
      "source": [
        "1.Credit History <br>\n",
        "475 people have a credit history <br>\n",
        "89 people do not have a credit history "
      ]
    },
    {
      "cell_type": "code",
      "metadata": {
        "colab": {
          "base_uri": "https://localhost:8080/"
        },
        "id": "nO5eJcsqyK6D",
        "outputId": "82df8b68-f5a5-439c-f26a-6bf8ae50587f"
      },
      "source": [
        "X.Credit_History.value_counts()"
      ],
      "execution_count": null,
      "outputs": [
        {
          "output_type": "execute_result",
          "data": {
            "text/plain": [
              "1.0    176\n",
              "0.0     84\n",
              "Name: Credit_History, dtype: int64"
            ]
          },
          "metadata": {
            "tags": []
          },
          "execution_count": 11
        }
      ]
    },
    {
      "cell_type": "code",
      "metadata": {
        "id": "ba6epOXy7b6e"
      },
      "source": [
        "X = X.replace({'Credit_History': {1.0: 'Yes', 0.0:'No'}})"
      ],
      "execution_count": null,
      "outputs": []
    },
    {
      "cell_type": "code",
      "metadata": {
        "id": "CkQ9CfPJSGB2"
      },
      "source": [
        "X = X.drop('Loan_ID',axis=1)"
      ],
      "execution_count": null,
      "outputs": []
    },
    {
      "cell_type": "code",
      "metadata": {
        "colab": {
          "base_uri": "https://localhost:8080/"
        },
        "id": "I7LUIQQa9IgZ",
        "outputId": "37fd19a8-127c-4d72-a8a6-f09cbb7888ad"
      },
      "source": [
        "X.Credit_History.value_counts()"
      ],
      "execution_count": null,
      "outputs": [
        {
          "output_type": "execute_result",
          "data": {
            "text/plain": [
              "Yes    176\n",
              "No      84\n",
              "Name: Credit_History, dtype: int64"
            ]
          },
          "metadata": {
            "tags": []
          },
          "execution_count": 14
        }
      ]
    },
    {
      "cell_type": "markdown",
      "metadata": {
        "id": "aIaOKcfFw-AL"
      },
      "source": [
        "Let's discuss nominal (categorical) variable. Look at the number of unique values in each of them."
      ]
    },
    {
      "cell_type": "markdown",
      "metadata": {
        "id": "xdZHrZzAw-AM"
      },
      "source": [
        "Explore further using the frequency of different categories in each nominal variable. Exclude the ID obvious reasons."
      ]
    },
    {
      "cell_type": "code",
      "metadata": {
        "jupyter": {
          "outputs_hidden": false
        },
        "id": "Vfp5TTVXw-AM",
        "colab": {
          "base_uri": "https://localhost:8080/"
        },
        "outputId": "36c04d5e-a4b0-4bd3-adf1-fde0a19e5096"
      },
      "source": [
        " for i in X.iloc[:,1:].select_dtypes('object'):\n",
        "   print(i,\":\", len(X[i].unique()))"
      ],
      "execution_count": null,
      "outputs": [
        {
          "output_type": "stream",
          "text": [
            "Married : 2\n",
            "Dependents : 5\n",
            "Education : 2\n",
            "Self_Employed : 3\n",
            "Credit_History : 3\n",
            "Property_Area : 3\n"
          ],
          "name": "stdout"
        }
      ]
    },
    {
      "cell_type": "code",
      "metadata": {
        "jupyter": {
          "outputs_hidden": false
        },
        "id": "1kJTmtpew-AN"
      },
      "source": [
        ""
      ],
      "execution_count": null,
      "outputs": []
    },
    {
      "cell_type": "markdown",
      "metadata": {
        "id": "X0TGV-3dw-AN"
      },
      "source": [
        "### Distribution analysis\n",
        "\n",
        "Study distribution of various variables. Plot the histogram of ApplicantIncome, try different number of bins.\n",
        "\n"
      ]
    },
    {
      "cell_type": "code",
      "metadata": {
        "colab": {
          "base_uri": "https://localhost:8080/"
        },
        "id": "NQzxIMkn2Xjn",
        "outputId": "8e23e63c-072a-42ae-bc7f-32455e237818"
      },
      "source": [
        "X.ApplicantIncome.describe()"
      ],
      "execution_count": null,
      "outputs": [
        {
          "output_type": "execute_result",
          "data": {
            "text/plain": [
              "count      281.000000\n",
              "mean      5510.113879\n",
              "std       6894.704329\n",
              "min        150.000000\n",
              "25%       2787.000000\n",
              "50%       3617.000000\n",
              "75%       5780.000000\n",
              "max      81000.000000\n",
              "Name: ApplicantIncome, dtype: float64"
            ]
          },
          "metadata": {
            "tags": []
          },
          "execution_count": 16
        }
      ]
    },
    {
      "cell_type": "code",
      "metadata": {
        "jupyter": {
          "outputs_hidden": false
        },
        "id": "n83oghbew-AN",
        "colab": {
          "base_uri": "https://localhost:8080/",
          "height": 287
        },
        "outputId": "47aa3a10-701c-49ca-d290-ecaa88ed1a9e"
      },
      "source": [
        "X.ApplicantIncome.plot(kind=\"hist\")"
      ],
      "execution_count": null,
      "outputs": [
        {
          "output_type": "execute_result",
          "data": {
            "text/plain": [
              "<matplotlib.axes._subplots.AxesSubplot at 0x7f35914f8110>"
            ]
          },
          "metadata": {
            "tags": []
          },
          "execution_count": 17
        },
        {
          "output_type": "display_data",
          "data": {
            "image/png": "[encoded data removed]",
            "text/plain": [
              "<Figure size 432x288 with 1 Axes>"
            ]
          },
          "metadata": {
            "tags": [],
            "needs_background": "light"
          }
        }
      ]
    },
    {
      "cell_type": "markdown",
      "metadata": {
        "id": "PrP8mA9mw-AO"
      },
      "source": [
        "\n",
        "Look at box plots to understand the distributions. "
      ]
    },
    {
      "cell_type": "code",
      "metadata": {
        "jupyter": {
          "outputs_hidden": false
        },
        "id": "qfisvfnrw-AO",
        "colab": {
          "base_uri": "https://localhost:8080/",
          "height": 284
        },
        "outputId": "c5c8481a-8a1b-4ac8-9ef1-54438e85a060"
      },
      "source": [
        "X.ApplicantIncome.plot(kind=\"box\",vert=False)"
      ],
      "execution_count": null,
      "outputs": [
        {
          "output_type": "execute_result",
          "data": {
            "text/plain": [
              "<matplotlib.axes._subplots.AxesSubplot at 0x7f35913e46d0>"
            ]
          },
          "metadata": {
            "tags": []
          },
          "execution_count": 18
        },
        {
          "output_type": "display_data",
          "data": {
            "image/png": "[encoded data removed]",
            "text/plain": [
              "<Figure size 432x288 with 1 Axes>"
            ]
          },
          "metadata": {
            "tags": [],
            "needs_background": "light"
          }
        }
      ]
    },
    {
      "cell_type": "markdown",
      "metadata": {
        "id": "RGZs0iV5w-AO"
      },
      "source": [
        "Look at the distribution of income segregated  by `Education`"
      ]
    },
    {
      "cell_type": "code",
      "metadata": {
        "jupyter": {
          "outputs_hidden": false
        },
        "id": "qWqRsHKaw-AO",
        "colab": {
          "base_uri": "https://localhost:8080/",
          "height": 340
        },
        "outputId": "a895e5e5-526f-4c5c-cd46-d604e636b3e5"
      },
      "source": [
        "X.groupby('Education').ApplicantIncome.plot(kind='hist',legend=True)"
      ],
      "execution_count": null,
      "outputs": [
        {
          "output_type": "execute_result",
          "data": {
            "text/plain": [
              "Education\n",
              "Graduate        AxesSubplot(0.125,0.125;0.775x0.755)\n",
              "Not Graduate    AxesSubplot(0.125,0.125;0.775x0.755)\n",
              "Name: ApplicantIncome, dtype: object"
            ]
          },
          "metadata": {
            "tags": []
          },
          "execution_count": 19
        },
        {
          "output_type": "display_data",
          "data": {
            "image/png": "[encoded data removed]",
            "text/plain": [
              "<Figure size 432x288 with 1 Axes>"
            ]
          },
          "metadata": {
            "tags": [],
            "needs_background": "light"
          }
        }
      ]
    },
    {
      "cell_type": "code",
      "metadata": {
        "colab": {
          "base_uri": "https://localhost:8080/",
          "height": 340
        },
        "id": "reY5xu5g4j0K",
        "outputId": "25db26c4-b5eb-4677-eece-9e5390608d7e"
      },
      "source": [
        "df.groupby('Education').ApplicantIncome.plot(kind=\"box\",vert=False)"
      ],
      "execution_count": null,
      "outputs": [
        {
          "output_type": "execute_result",
          "data": {
            "text/plain": [
              "Education\n",
              "Graduate        AxesSubplot(0.125,0.125;0.775x0.755)\n",
              "Not Graduate    AxesSubplot(0.125,0.125;0.775x0.755)\n",
              "Name: ApplicantIncome, dtype: object"
            ]
          },
          "metadata": {
            "tags": []
          },
          "execution_count": 20
        },
        {
          "output_type": "display_data",
          "data": {
            "image/png": "[encoded data removed]",
            "text/plain": [
              "<Figure size 432x288 with 1 Axes>"
            ]
          },
          "metadata": {
            "tags": [],
            "needs_background": "light"
          }
        }
      ]
    },
    {
      "cell_type": "markdown",
      "metadata": {
        "id": "lCbgUoEbw-AO"
      },
      "source": [
        "Look at the histogram and boxplot of LoanAmount"
      ]
    },
    {
      "cell_type": "code",
      "metadata": {
        "jupyter": {
          "outputs_hidden": false
        },
        "id": "F1_VyBJNw-AO",
        "colab": {
          "base_uri": "https://localhost:8080/",
          "height": 284
        },
        "outputId": "7d5bd6db-be66-4d33-be3f-7caa4c0684a3"
      },
      "source": [
        "X.LoanAmount.plot(kind='hist')"
      ],
      "execution_count": null,
      "outputs": [
        {
          "output_type": "execute_result",
          "data": {
            "text/plain": [
              "<matplotlib.axes._subplots.AxesSubplot at 0x7f3590dff390>"
            ]
          },
          "metadata": {
            "tags": []
          },
          "execution_count": 21
        },
        {
          "output_type": "display_data",
          "data": {
            "image/png": "[encoded data removed]",
            "text/plain": [
              "<Figure size 432x288 with 1 Axes>"
            ]
          },
          "metadata": {
            "tags": [],
            "needs_background": "light"
          }
        }
      ]
    },
    {
      "cell_type": "code",
      "metadata": {
        "jupyter": {
          "outputs_hidden": false
        },
        "id": "-_1yPqoqw-AO",
        "colab": {
          "base_uri": "https://localhost:8080/",
          "height": 284
        },
        "outputId": "8728fe69-6a23-4d0b-f70c-2baf303eb724"
      },
      "source": [
        "X.LoanAmount.plot(kind='box',vert=False)"
      ],
      "execution_count": null,
      "outputs": [
        {
          "output_type": "execute_result",
          "data": {
            "text/plain": [
              "<matplotlib.axes._subplots.AxesSubplot at 0x7f3590d19b90>"
            ]
          },
          "metadata": {
            "tags": []
          },
          "execution_count": 22
        },
        {
          "output_type": "display_data",
          "data": {
            "image/png": "[encoded data removed]",
            "text/plain": [
              "<Figure size 432x288 with 1 Axes>"
            ]
          },
          "metadata": {
            "tags": [],
            "needs_background": "light"
          }
        }
      ]
    },
    {
      "cell_type": "code",
      "metadata": {
        "colab": {
          "base_uri": "https://localhost:8080/",
          "height": 496
        },
        "id": "U6ei8IbgW6ms",
        "outputId": "2b1a2379-fd49-4dc9-e2d9-76087b5f4a77"
      },
      "source": [
        "X.select_dtypes('object')"
      ],
      "execution_count": null,
      "outputs": [
        {
          "output_type": "execute_result",
          "data": {
            "text/html": [
              "<div>\n",
              "<style scoped>\n",
              "    .dataframe tbody tr th:only-of-type {\n",
              "        vertical-align: middle;\n",
              "    }\n",
              "\n",
              "    .dataframe tbody tr th {\n",
              "        vertical-align: top;\n",
              "    }\n",
              "\n",
              "    .dataframe thead th {\n",
              "        text-align: right;\n",
              "    }\n",
              "</style>\n",
              "<table border=\"1\" class=\"dataframe\">\n",
              "  <thead>\n",
              "    <tr style=\"text-align: right;\">\n",
              "      <th></th>\n",
              "      <th>Gender</th>\n",
              "      <th>Married</th>\n",
              "      <th>Dependents</th>\n",
              "      <th>Education</th>\n",
              "      <th>Self_Employed</th>\n",
              "      <th>Credit_History</th>\n",
              "      <th>Property_Area</th>\n",
              "    </tr>\n",
              "  </thead>\n",
              "  <tbody>\n",
              "    <tr>\n",
              "      <th>217</th>\n",
              "      <td>Male</td>\n",
              "      <td>Yes</td>\n",
              "      <td>0</td>\n",
              "      <td>Graduate</td>\n",
              "      <td>No</td>\n",
              "      <td>Yes</td>\n",
              "      <td>Semiurban</td>\n",
              "    </tr>\n",
              "    <tr>\n",
              "      <th>485</th>\n",
              "      <td>Male</td>\n",
              "      <td>Yes</td>\n",
              "      <td>1</td>\n",
              "      <td>Not Graduate</td>\n",
              "      <td>No</td>\n",
              "      <td>Yes</td>\n",
              "      <td>Rural</td>\n",
              "    </tr>\n",
              "    <tr>\n",
              "      <th>261</th>\n",
              "      <td>Male</td>\n",
              "      <td>No</td>\n",
              "      <td>0</td>\n",
              "      <td>Graduate</td>\n",
              "      <td>No</td>\n",
              "      <td>Yes</td>\n",
              "      <td>Semiurban</td>\n",
              "    </tr>\n",
              "    <tr>\n",
              "      <th>537</th>\n",
              "      <td>Male</td>\n",
              "      <td>No</td>\n",
              "      <td>2</td>\n",
              "      <td>Graduate</td>\n",
              "      <td>No</td>\n",
              "      <td>Yes</td>\n",
              "      <td>Semiurban</td>\n",
              "    </tr>\n",
              "    <tr>\n",
              "      <th>609</th>\n",
              "      <td>Female</td>\n",
              "      <td>No</td>\n",
              "      <td>0</td>\n",
              "      <td>Graduate</td>\n",
              "      <td>No</td>\n",
              "      <td>Yes</td>\n",
              "      <td>Rural</td>\n",
              "    </tr>\n",
              "    <tr>\n",
              "      <th>...</th>\n",
              "      <td>...</td>\n",
              "      <td>...</td>\n",
              "      <td>...</td>\n",
              "      <td>...</td>\n",
              "      <td>...</td>\n",
              "      <td>...</td>\n",
              "      <td>...</td>\n",
              "    </tr>\n",
              "    <tr>\n",
              "      <th>596</th>\n",
              "      <td>Male</td>\n",
              "      <td>Yes</td>\n",
              "      <td>2</td>\n",
              "      <td>Not Graduate</td>\n",
              "      <td>Yes</td>\n",
              "      <td>Yes</td>\n",
              "      <td>Rural</td>\n",
              "    </tr>\n",
              "    <tr>\n",
              "      <th>597</th>\n",
              "      <td>Male</td>\n",
              "      <td>No</td>\n",
              "      <td>NaN</td>\n",
              "      <td>Graduate</td>\n",
              "      <td>No</td>\n",
              "      <td>No</td>\n",
              "      <td>Semiurban</td>\n",
              "    </tr>\n",
              "    <tr>\n",
              "      <th>600</th>\n",
              "      <td>Female</td>\n",
              "      <td>No</td>\n",
              "      <td>3+</td>\n",
              "      <td>Graduate</td>\n",
              "      <td>NaN</td>\n",
              "      <td>NaN</td>\n",
              "      <td>Urban</td>\n",
              "    </tr>\n",
              "    <tr>\n",
              "      <th>605</th>\n",
              "      <td>Male</td>\n",
              "      <td>Yes</td>\n",
              "      <td>0</td>\n",
              "      <td>Not Graduate</td>\n",
              "      <td>No</td>\n",
              "      <td>Yes</td>\n",
              "      <td>Urban</td>\n",
              "    </tr>\n",
              "    <tr>\n",
              "      <th>613</th>\n",
              "      <td>Female</td>\n",
              "      <td>No</td>\n",
              "      <td>0</td>\n",
              "      <td>Graduate</td>\n",
              "      <td>Yes</td>\n",
              "      <td>No</td>\n",
              "      <td>Semiurban</td>\n",
              "    </tr>\n",
              "  </tbody>\n",
              "</table>\n",
              "<p>281 rows × 7 columns</p>\n",
              "</div>"
            ],
            "text/plain": [
              "     Gender Married Dependents  ... Self_Employed Credit_History Property_Area\n",
              "217    Male     Yes          0  ...            No            Yes     Semiurban\n",
              "485    Male     Yes          1  ...            No            Yes         Rural\n",
              "261    Male      No          0  ...            No            Yes     Semiurban\n",
              "537    Male      No          2  ...            No            Yes     Semiurban\n",
              "609  Female      No          0  ...            No            Yes         Rural\n",
              "..      ...     ...        ...  ...           ...            ...           ...\n",
              "596    Male     Yes          2  ...           Yes            Yes         Rural\n",
              "597    Male      No        NaN  ...            No             No     Semiurban\n",
              "600  Female      No         3+  ...           NaN            NaN         Urban\n",
              "605    Male     Yes          0  ...            No            Yes         Urban\n",
              "613  Female      No          0  ...           Yes             No     Semiurban\n",
              "\n",
              "[281 rows x 7 columns]"
            ]
          },
          "metadata": {
            "tags": []
          },
          "execution_count": 23
        }
      ]
    },
    {
      "cell_type": "code",
      "metadata": {
        "id": "A1w-EDtQWiz1"
      },
      "source": [
        "y = y.astype('category')"
      ],
      "execution_count": null,
      "outputs": []
    },
    {
      "cell_type": "code",
      "metadata": {
        "id": "l_XE1vSuXHM5"
      },
      "source": [
        "y = y.cat.codes"
      ],
      "execution_count": null,
      "outputs": []
    },
    {
      "cell_type": "markdown",
      "metadata": {
        "id": "m9uTq8liw-AP"
      },
      "source": [
        "There might be some extreme values. Both `ApplicantIncome` and `LoanAmount` require some amount of data munging. `LoanAmount` has missing and well as extreme values values, while `ApplicantIncome` has a few extreme values, which demand deeper understanding. "
      ]
    },
    {
      "cell_type": "markdown",
      "metadata": {
        "id": "UpO2N-7Rw-AQ"
      },
      "source": [
        "### Categorical variable analysis\n",
        "\n",
        "Try to understand categorical variables in more details using `pandas.DataFrame.pivot_table` and some visualizations."
      ]
    },
    {
      "cell_type": "code",
      "metadata": {
        "jupyter": {
          "outputs_hidden": false
        },
        "id": "eqC0FTVaw-AQ",
        "colab": {
          "base_uri": "https://localhost:8080/"
        },
        "outputId": "8b7de769-f5a2-4d40-9808-3da8f5952784"
      },
      "source": [
        "for i in X.iloc[:,1:].select_dtypes('object'):\n",
        "  print(pd.pivot_table(X,columns=[i]),\"\\n\\n\")"
      ],
      "execution_count": null,
      "outputs": [
        {
          "output_type": "stream",
          "text": [
            "Married                     No          Yes\n",
            "ApplicantIncome    4801.315789  5993.964072\n",
            "CoapplicantIncome  1707.473684  2018.083832\n",
            "LoanAmount          133.660550   167.364780\n",
            "Loan_Amount_Term    350.918919   336.000000 \n",
            "\n",
            "\n",
            "Dependents                   0            1            2            3+\n",
            "ApplicantIncome    4719.597561  6041.875000  4754.277778  10563.923077\n",
            "CoapplicantIncome  1758.146341  1754.583333  1939.416667   3185.230769\n",
            "LoanAmount          139.942675   166.000000   149.000000    230.500000\n",
            "Loan_Amount_Term    354.566038   304.340426   350.000000    312.000000 \n",
            "\n",
            "\n",
            "Education             Graduate  Not Graduate\n",
            "ApplicantIncome    6071.037736   3786.695652\n",
            "CoapplicantIncome  2065.566038   1359.014493\n",
            "LoanAmount          162.960784    124.000000\n",
            "Loan_Amount_Term    346.909091    326.400000 \n",
            "\n",
            "\n",
            "Self_Employed               No          Yes\n",
            "ApplicantIncome    5371.219828  6933.424242\n",
            "CoapplicantIncome  1797.831897  1683.969697\n",
            "LoanAmount          152.497738   154.843750\n",
            "Loan_Amount_Term    344.000000   330.909091 \n",
            "\n",
            "\n",
            "Credit_History              No          Yes\n",
            "ApplicantIncome    5756.297619  5592.130682\n",
            "CoapplicantIncome  1566.035714  1814.232955\n",
            "LoanAmount          147.050000   156.684524\n",
            "Loan_Amount_Term    343.076923   340.457143 \n",
            "\n",
            "\n",
            "Property_Area            Rural    Semiurban        Urban\n",
            "ApplicantIncome    6041.978723  5249.022989  5237.310000\n",
            "CoapplicantIncome  1592.085106  1835.356322  2223.400000\n",
            "LoanAmount          157.252747   157.930233   146.021978\n",
            "Loan_Amount_Term    347.217391   341.581395   337.500000 \n",
            "\n",
            "\n"
          ],
          "name": "stdout"
        }
      ]
    },
    {
      "cell_type": "markdown",
      "metadata": {
        "id": "vweGdJiD9vr5"
      },
      "source": [
        "## Mean:"
      ]
    },
    {
      "cell_type": "code",
      "metadata": {
        "jupyter": {
          "outputs_hidden": false
        },
        "id": "P2ifVqAFw-AQ",
        "colab": {
          "base_uri": "https://localhost:8080/",
          "height": 1000
        },
        "outputId": "c37961fe-4977-4215-f472-42a3fee2fbad"
      },
      "source": [
        "for i in X.iloc[:,1:].select_dtypes('object'):\n",
        "  print(pd.pivot_table(X.iloc[:,1:],columns=[i]).plot(kind='bar'),\"\\n\\n\")"
      ],
      "execution_count": null,
      "outputs": [
        {
          "output_type": "stream",
          "text": [
            "AxesSubplot(0.125,0.125;0.775x0.755) \n",
            "\n",
            "\n",
            "AxesSubplot(0.125,0.125;0.775x0.755) \n",
            "\n",
            "\n",
            "AxesSubplot(0.125,0.125;0.775x0.755) \n",
            "\n",
            "\n",
            "AxesSubplot(0.125,0.125;0.775x0.755) \n",
            "\n",
            "\n",
            "AxesSubplot(0.125,0.125;0.775x0.755) \n",
            "\n",
            "\n",
            "AxesSubplot(0.125,0.125;0.775x0.755) \n",
            "\n",
            "\n"
          ],
          "name": "stdout"
        },
        {
          "output_type": "display_data",
          "data": {
            "image/png": "[encoded data removed]",
            "text/plain": [
              "<Figure size 432x288 with 1 Axes>"
            ]
          },
          "metadata": {
            "tags": [],
            "needs_background": "light"
          }
        },
        {
          "output_type": "display_data",
          "data": {
            "image/png": "[encoded data removed]",
            "text/plain": [
              "<Figure size 432x288 with 1 Axes>"
            ]
          },
          "metadata": {
            "tags": [],
            "needs_background": "light"
          }
        },
        {
          "output_type": "display_data",
          "data": {
            "image/png": "[encoded data removed]",
            "text/plain": [
              "<Figure size 432x288 with 1 Axes>"
            ]
          },
          "metadata": {
            "tags": [],
            "needs_background": "light"
          }
        },
        {
          "output_type": "display_data",
          "data": {
            "image/png": "[encoded data removed]",
            "text/plain": [
              "<Figure size 432x288 with 1 Axes>"
            ]
          },
          "metadata": {
            "tags": [],
            "needs_background": "light"
          }
        },
        {
          "output_type": "display_data",
          "data": {
            "image/png": "[encoded data removed]",
            "text/plain": [
              "<Figure size 432x288 with 1 Axes>"
            ]
          },
          "metadata": {
            "tags": [],
            "needs_background": "light"
          }
        },
        {
          "output_type": "display_data",
          "data": {
            "image/png": "[encoded data removed]",
            "text/plain": [
              "<Figure size 432x288 with 1 Axes>"
            ]
          },
          "metadata": {
            "tags": [],
            "needs_background": "light"
          }
        }
      ]
    },
    {
      "cell_type": "code",
      "metadata": {
        "id": "G0sc_l8iXdOk",
        "colab": {
          "base_uri": "https://localhost:8080/",
          "height": 1000
        },
        "outputId": "b50bdd4a-bb0e-4493-ad06-58cab26cf39a"
      },
      "source": [
        "for i in df.iloc[:,1:].select_dtypes('object'):\n",
        "  print(pd.pivot_table(df.iloc[:,1:],columns=[i],).plot(kind='bar'),\"\\n\\n\")"
      ],
      "execution_count": null,
      "outputs": [
        {
          "output_type": "stream",
          "text": [
            "AxesSubplot(0.125,0.125;0.775x0.755) \n",
            "\n",
            "\n",
            "AxesSubplot(0.125,0.125;0.775x0.755) \n",
            "\n",
            "\n",
            "AxesSubplot(0.125,0.125;0.775x0.755) \n",
            "\n",
            "\n",
            "AxesSubplot(0.125,0.125;0.775x0.755) \n",
            "\n",
            "\n",
            "AxesSubplot(0.125,0.125;0.775x0.755) \n",
            "\n",
            "\n",
            "AxesSubplot(0.125,0.125;0.775x0.755) \n",
            "\n",
            "\n",
            "AxesSubplot(0.125,0.125;0.775x0.755) \n",
            "\n",
            "\n"
          ],
          "name": "stdout"
        },
        {
          "output_type": "display_data",
          "data": {
            "image/png": "[encoded data removed]",
            "text/plain": [
              "<Figure size 432x288 with 1 Axes>"
            ]
          },
          "metadata": {
            "tags": [],
            "needs_background": "light"
          }
        },
        {
          "output_type": "display_data",
          "data": {
            "image/png": "[encoded data removed]",
            "text/plain": [
              "<Figure size 432x288 with 1 Axes>"
            ]
          },
          "metadata": {
            "tags": [],
            "needs_background": "light"
          }
        },
        {
          "output_type": "display_data",
          "data": {
            "image/png": "[encoded data removed]",
            "text/plain": [
              "<Figure size 432x288 with 1 Axes>"
            ]
          },
          "metadata": {
            "tags": [],
            "needs_background": "light"
          }
        },
        {
          "output_type": "display_data",
          "data": {
            "image/png": "[encoded data removed]",
            "text/plain": [
              "<Figure size 432x288 with 1 Axes>"
            ]
          },
          "metadata": {
            "tags": [],
            "needs_background": "light"
          }
        },
        {
          "output_type": "display_data",
          "data": {
            "image/png": "[encoded data removed]",
            "text/plain": [
              "<Figure size 432x288 with 1 Axes>"
            ]
          },
          "metadata": {
            "tags": [],
            "needs_background": "light"
          }
        },
        {
          "output_type": "display_data",
          "data": {
            "image/png": "[encoded data removed]",
            "text/plain": [
              "<Figure size 432x288 with 1 Axes>"
            ]
          },
          "metadata": {
            "tags": [],
            "needs_background": "light"
          }
        },
        {
          "output_type": "display_data",
          "data": {
            "image/png": "[encoded data removed]",
            "text/plain": [
              "<Figure size 432x288 with 1 Axes>"
            ]
          },
          "metadata": {
            "tags": [],
            "needs_background": "light"
          }
        }
      ]
    },
    {
      "cell_type": "code",
      "metadata": {
        "id": "Xi7eQ0kow-AQ"
      },
      "source": [
        ""
      ],
      "execution_count": null,
      "outputs": []
    },
    {
      "cell_type": "code",
      "metadata": {
        "id": "ycv_-6mQw-AQ"
      },
      "source": [
        ""
      ],
      "execution_count": null,
      "outputs": []
    },
    {
      "cell_type": "markdown",
      "metadata": {
        "id": "r1K56O_Qw-AR"
      },
      "source": [
        "## 3. Data Cleaning\n",
        "\n",
        "This step typically involves imputing missing values and treating outliers. "
      ]
    },
    {
      "cell_type": "markdown",
      "metadata": {
        "id": "T7ExVHUkw-AR"
      },
      "source": [
        "### Imputing Missing Values\n",
        "\n",
        "Missing values may not always be NaNs. For instance, the `Loan_Amount_Term` might be 0, which does not make sense.\n",
        "\n"
      ]
    },
    {
      "cell_type": "markdown",
      "metadata": {
        "id": "y7qX624ow-AR"
      },
      "source": [
        "Impute missing values for all columns. Use the values which you find most meaningful (mean, mode, median, zero.... maybe different mean values for different groups)"
      ]
    },
    {
      "cell_type": "code",
      "metadata": {
        "id": "ME-aZsjbw-AR"
      },
      "source": [
        "from sklearn.pipeline import Pipeline\n"
      ],
      "execution_count": null,
      "outputs": []
    },
    {
      "cell_type": "code",
      "metadata": {
        "jupyter": {
          "outputs_hidden": false
        },
        "id": "tLUBbNsyw-AS"
      },
      "source": [
        "from sklearn.impute import SimpleImputer\n",
        "from sklearn.compose import ColumnTransformer\n",
        "from sklearn.preprocessing import StandardScaler, OneHotEncoder"
      ],
      "execution_count": null,
      "outputs": []
    },
    {
      "cell_type": "code",
      "metadata": {
        "id": "1Ti2GL61V9PA"
      },
      "source": [
        "cat_feats = X.dtypes[X.dtypes == 'object'].index.tolist()\n",
        "num_feats = X.dtypes[~X.dtypes.index.isin(cat_feats)].index.tolist()"
      ],
      "execution_count": null,
      "outputs": []
    },
    {
      "cell_type": "code",
      "metadata": {
        "id": "4PCUnQcWX_UD",
        "colab": {
          "base_uri": "https://localhost:8080/"
        },
        "outputId": "be257dc2-07d0-414d-be7e-ec347e5341c4"
      },
      "source": [
        "num_feats"
      ],
      "execution_count": null,
      "outputs": [
        {
          "output_type": "execute_result",
          "data": {
            "text/plain": [
              "['ApplicantIncome', 'CoapplicantIncome', 'LoanAmount', 'Loan_Amount_Term']"
            ]
          },
          "metadata": {
            "tags": []
          },
          "execution_count": 32
        }
      ]
    },
    {
      "cell_type": "code",
      "metadata": {
        "colab": {
          "base_uri": "https://localhost:8080/"
        },
        "id": "Hw_QaW8tdMKb",
        "outputId": "6152dac3-ec0e-415b-fb6f-417195922d53"
      },
      "source": [
        "cat_feats"
      ],
      "execution_count": null,
      "outputs": [
        {
          "output_type": "execute_result",
          "data": {
            "text/plain": [
              "['Married',\n",
              " 'Dependents',\n",
              " 'Education',\n",
              " 'Self_Employed',\n",
              " 'Credit_History',\n",
              " 'Property_Area']"
            ]
          },
          "metadata": {
            "tags": []
          },
          "execution_count": 34
        }
      ]
    },
    {
      "cell_type": "code",
      "metadata": {
        "id": "YuSkcLImpfK0"
      },
      "source": [
        "class DataframeFunctionTransformer():\n",
        "  def __init__(self, func):\n",
        "      self.func = func\n",
        "\n",
        "  def transform(self, input_df, **transform_params):\n",
        "      return self.func(input_df)\n",
        "\n",
        "  def fit(self, X, y=None, **fit_params):\n",
        "      return self"
      ],
      "execution_count": null,
      "outputs": []
    },
    {
      "cell_type": "code",
      "metadata": {
        "id": "zTcV-WN7dKUT"
      },
      "source": [
        "def combineAndLog(dataFrame):\n",
        "  dataFrame[\"combinedIncomesLog\"] = dataFrame['ApplicantIncome'] + dataFrame['CoapplicantIncome']\n",
        "  dataFrame[\"combinedIncomesLog\"].apply(lambda x: np.log(x))\n",
        "  return dataFrame"
      ],
      "execution_count": null,
      "outputs": []
    },
    {
      "cell_type": "code",
      "metadata": {
        "id": "ZIRqeRu6qTNW"
      },
      "source": [
        "def logTransformer(dataFrame):\n",
        "  dataFrame['loanLog'] = dataFrame[\"LoanAmount\"].apply(lambda x: np.log(x))\n",
        "  return dataFrame"
      ],
      "execution_count": null,
      "outputs": []
    },
    {
      "cell_type": "code",
      "metadata": {
        "id": "4_k9Z5sqSnsu"
      },
      "source": [
        "from sklearn.model_selection import train_test_split"
      ],
      "execution_count": null,
      "outputs": []
    },
    {
      "cell_type": "code",
      "metadata": {
        "jupyter": {
          "outputs_hidden": false
        },
        "id": "hu37ZSmuw-AX"
      },
      "source": [
        "X_train, X_test, y_train, y_test = train_test_split(X, y, train_size=0.7, random_state=12)"
      ],
      "execution_count": null,
      "outputs": []
    },
    {
      "cell_type": "code",
      "metadata": {
        "id": "hVi_EKWIayoZ"
      },
      "source": [
        "numeric_transformer = Pipeline(steps=[ ('imputer', SimpleImputer(strategy='mean')),\n",
        "    ('scaler', PowerTransformer())])\n",
        "\n",
        "categorical_transformer = Pipeline(steps=[('imputer',SimpleImputer(strategy='most_frequent')),\n",
        "                                          ('encoder',OneHotEncoder(handle_unknown='ignore'))])"
      ],
      "execution_count": null,
      "outputs": []
    },
    {
      "cell_type": "code",
      "metadata": {
        "id": "XXZUGvvxY8tM"
      },
      "source": [
        "preprocessor = ColumnTransformer(\n",
        "    transformers=[\n",
        "        ('num', numeric_transformer, num_feats),\n",
        "        ('cat', categorical_transformer, cat_feats)\n",
        "        ],    remainder='drop',\n",
        "    verbose=True)"
      ],
      "execution_count": null,
      "outputs": []
    },
    {
      "cell_type": "code",
      "metadata": {
        "colab": {
          "base_uri": "https://localhost:8080/"
        },
        "id": "V9TyIDQnOoIn",
        "outputId": "5e450166-5886-4844-d73e-fdd46455996a"
      },
      "source": [
        "preprocessor.fit_transform(X_train, y_train)"
      ],
      "execution_count": null,
      "outputs": [
        {
          "output_type": "stream",
          "text": [
            "[ColumnTransformer] ........... (1 of 2) Processing num, total=   0.0s\n",
            "[ColumnTransformer] ........... (2 of 2) Processing cat, total=   0.0s\n"
          ],
          "name": "stdout"
        },
        {
          "output_type": "execute_result",
          "data": {
            "text/plain": [
              "array([[-1.24028679, -1.06409999, -1.87641935, ...,  1.        ,\n",
              "         0.        ,  0.        ],\n",
              "       [-0.29071898, -1.06409999, -1.19528473, ...,  1.        ,\n",
              "         0.        ,  0.        ],\n",
              "       [ 1.45135659,  0.6837092 ,  1.00097993, ...,  0.        ,\n",
              "         0.        ,  1.        ],\n",
              "       ...,\n",
              "       [-0.84733623, -1.06409999, -1.37695752, ...,  0.        ,\n",
              "         0.        ,  1.        ],\n",
              "       [-0.26284516, -1.06409999, -0.49596344, ...,  1.        ,\n",
              "         0.        ,  0.        ],\n",
              "       [ 1.39697213, -1.06409999, -1.1381979 , ...,  0.        ,\n",
              "         0.        ,  1.        ]])"
            ]
          },
          "metadata": {
            "tags": []
          },
          "execution_count": 42
        }
      ]
    },
    {
      "cell_type": "code",
      "metadata": {
        "id": "OKR8-vftQwnQ"
      },
      "source": [
        "newCatFeats = list(preprocessor.named_transformers_['cat']['encoder'].get_feature_names(cat_feats))"
      ],
      "execution_count": null,
      "outputs": []
    },
    {
      "cell_type": "code",
      "metadata": {
        "id": "LmyDGWjCR5Z3"
      },
      "source": [
        "labels = np.concatenate([num_feats, newCatFeats])"
      ],
      "execution_count": null,
      "outputs": []
    },
    {
      "cell_type": "code",
      "metadata": {
        "colab": {
          "base_uri": "https://localhost:8080/"
        },
        "id": "m8Y9xWZwRM_0",
        "outputId": "0607ea57-420f-4147-c297-9affc4abfa1d"
      },
      "source": [
        "num_feats"
      ],
      "execution_count": null,
      "outputs": [
        {
          "output_type": "execute_result",
          "data": {
            "text/plain": [
              "['ApplicantIncome', 'CoapplicantIncome', 'LoanAmount', 'Loan_Amount_Term']"
            ]
          },
          "metadata": {
            "tags": []
          },
          "execution_count": 45
        }
      ]
    },
    {
      "cell_type": "code",
      "metadata": {
        "colab": {
          "base_uri": "https://localhost:8080/"
        },
        "id": "_Hlkqe5yOPup",
        "outputId": "b33499e6-050d-4fe7-f941-baf747ffbe13"
      },
      "source": [
        "X = pd.DataFrame(preprocessor.fit_transform(X_train), columns = labels)"
      ],
      "execution_count": null,
      "outputs": [
        {
          "output_type": "stream",
          "text": [
            "[ColumnTransformer] ........... (1 of 2) Processing num, total=   0.0s\n",
            "[ColumnTransformer] ........... (2 of 2) Processing cat, total=   0.0s\n"
          ],
          "name": "stdout"
        }
      ]
    },
    {
      "cell_type": "code",
      "metadata": {
        "id": "R3ywdN7bOrCi",
        "colab": {
          "base_uri": "https://localhost:8080/",
          "height": 461
        },
        "outputId": "ab59b7d0-2d3f-406c-8620-0122bfa2ec1a"
      },
      "source": [
        "X"
      ],
      "execution_count": null,
      "outputs": [
        {
          "output_type": "execute_result",
          "data": {
            "text/html": [
              "<div>\n",
              "<style scoped>\n",
              "    .dataframe tbody tr th:only-of-type {\n",
              "        vertical-align: middle;\n",
              "    }\n",
              "\n",
              "    .dataframe tbody tr th {\n",
              "        vertical-align: top;\n",
              "    }\n",
              "\n",
              "    .dataframe thead th {\n",
              "        text-align: right;\n",
              "    }\n",
              "</style>\n",
              "<table border=\"1\" class=\"dataframe\">\n",
              "  <thead>\n",
              "    <tr style=\"text-align: right;\">\n",
              "      <th></th>\n",
              "      <th>ApplicantIncome</th>\n",
              "      <th>CoapplicantIncome</th>\n",
              "      <th>LoanAmount</th>\n",
              "      <th>Loan_Amount_Term</th>\n",
              "      <th>Married_No</th>\n",
              "      <th>Married_Yes</th>\n",
              "      <th>Dependents_0</th>\n",
              "      <th>Dependents_1</th>\n",
              "      <th>Dependents_2</th>\n",
              "      <th>Dependents_3+</th>\n",
              "      <th>Education_Graduate</th>\n",
              "      <th>Education_Not Graduate</th>\n",
              "      <th>Self_Employed_No</th>\n",
              "      <th>Self_Employed_Yes</th>\n",
              "      <th>Credit_History_No</th>\n",
              "      <th>Credit_History_Yes</th>\n",
              "      <th>Property_Area_Rural</th>\n",
              "      <th>Property_Area_Semiurban</th>\n",
              "      <th>Property_Area_Urban</th>\n",
              "    </tr>\n",
              "  </thead>\n",
              "  <tbody>\n",
              "    <tr>\n",
              "      <th>0</th>\n",
              "      <td>-1.240287</td>\n",
              "      <td>-1.064100</td>\n",
              "      <td>-1.876419</td>\n",
              "      <td>0.102743</td>\n",
              "      <td>0.0</td>\n",
              "      <td>1.0</td>\n",
              "      <td>0.0</td>\n",
              "      <td>1.0</td>\n",
              "      <td>0.0</td>\n",
              "      <td>0.0</td>\n",
              "      <td>1.0</td>\n",
              "      <td>0.0</td>\n",
              "      <td>1.0</td>\n",
              "      <td>0.0</td>\n",
              "      <td>0.0</td>\n",
              "      <td>1.0</td>\n",
              "      <td>1.0</td>\n",
              "      <td>0.0</td>\n",
              "      <td>0.0</td>\n",
              "    </tr>\n",
              "    <tr>\n",
              "      <th>1</th>\n",
              "      <td>-0.290719</td>\n",
              "      <td>-1.064100</td>\n",
              "      <td>-1.195285</td>\n",
              "      <td>-2.321825</td>\n",
              "      <td>0.0</td>\n",
              "      <td>1.0</td>\n",
              "      <td>0.0</td>\n",
              "      <td>0.0</td>\n",
              "      <td>0.0</td>\n",
              "      <td>1.0</td>\n",
              "      <td>0.0</td>\n",
              "      <td>1.0</td>\n",
              "      <td>1.0</td>\n",
              "      <td>0.0</td>\n",
              "      <td>0.0</td>\n",
              "      <td>1.0</td>\n",
              "      <td>1.0</td>\n",
              "      <td>0.0</td>\n",
              "      <td>0.0</td>\n",
              "    </tr>\n",
              "    <tr>\n",
              "      <th>2</th>\n",
              "      <td>1.451357</td>\n",
              "      <td>0.683709</td>\n",
              "      <td>1.000980</td>\n",
              "      <td>0.102743</td>\n",
              "      <td>0.0</td>\n",
              "      <td>1.0</td>\n",
              "      <td>0.0</td>\n",
              "      <td>0.0</td>\n",
              "      <td>1.0</td>\n",
              "      <td>0.0</td>\n",
              "      <td>1.0</td>\n",
              "      <td>0.0</td>\n",
              "      <td>1.0</td>\n",
              "      <td>0.0</td>\n",
              "      <td>0.0</td>\n",
              "      <td>1.0</td>\n",
              "      <td>0.0</td>\n",
              "      <td>0.0</td>\n",
              "      <td>1.0</td>\n",
              "    </tr>\n",
              "    <tr>\n",
              "      <th>3</th>\n",
              "      <td>0.199282</td>\n",
              "      <td>-1.064100</td>\n",
              "      <td>-0.080282</td>\n",
              "      <td>0.102743</td>\n",
              "      <td>0.0</td>\n",
              "      <td>1.0</td>\n",
              "      <td>1.0</td>\n",
              "      <td>0.0</td>\n",
              "      <td>0.0</td>\n",
              "      <td>0.0</td>\n",
              "      <td>0.0</td>\n",
              "      <td>1.0</td>\n",
              "      <td>1.0</td>\n",
              "      <td>0.0</td>\n",
              "      <td>0.0</td>\n",
              "      <td>1.0</td>\n",
              "      <td>1.0</td>\n",
              "      <td>0.0</td>\n",
              "      <td>0.0</td>\n",
              "    </tr>\n",
              "    <tr>\n",
              "      <th>4</th>\n",
              "      <td>-0.226485</td>\n",
              "      <td>1.065150</td>\n",
              "      <td>0.461121</td>\n",
              "      <td>0.102743</td>\n",
              "      <td>1.0</td>\n",
              "      <td>0.0</td>\n",
              "      <td>1.0</td>\n",
              "      <td>0.0</td>\n",
              "      <td>0.0</td>\n",
              "      <td>0.0</td>\n",
              "      <td>1.0</td>\n",
              "      <td>0.0</td>\n",
              "      <td>1.0</td>\n",
              "      <td>0.0</td>\n",
              "      <td>0.0</td>\n",
              "      <td>1.0</td>\n",
              "      <td>1.0</td>\n",
              "      <td>0.0</td>\n",
              "      <td>0.0</td>\n",
              "    </tr>\n",
              "    <tr>\n",
              "      <th>...</th>\n",
              "      <td>...</td>\n",
              "      <td>...</td>\n",
              "      <td>...</td>\n",
              "      <td>...</td>\n",
              "      <td>...</td>\n",
              "      <td>...</td>\n",
              "      <td>...</td>\n",
              "      <td>...</td>\n",
              "      <td>...</td>\n",
              "      <td>...</td>\n",
              "      <td>...</td>\n",
              "      <td>...</td>\n",
              "      <td>...</td>\n",
              "      <td>...</td>\n",
              "      <td>...</td>\n",
              "      <td>...</td>\n",
              "      <td>...</td>\n",
              "      <td>...</td>\n",
              "      <td>...</td>\n",
              "    </tr>\n",
              "    <tr>\n",
              "      <th>191</th>\n",
              "      <td>0.652907</td>\n",
              "      <td>-1.064100</td>\n",
              "      <td>0.293255</td>\n",
              "      <td>0.102743</td>\n",
              "      <td>0.0</td>\n",
              "      <td>1.0</td>\n",
              "      <td>0.0</td>\n",
              "      <td>0.0</td>\n",
              "      <td>1.0</td>\n",
              "      <td>0.0</td>\n",
              "      <td>1.0</td>\n",
              "      <td>0.0</td>\n",
              "      <td>0.0</td>\n",
              "      <td>1.0</td>\n",
              "      <td>1.0</td>\n",
              "      <td>0.0</td>\n",
              "      <td>1.0</td>\n",
              "      <td>0.0</td>\n",
              "      <td>0.0</td>\n",
              "    </tr>\n",
              "    <tr>\n",
              "      <th>192</th>\n",
              "      <td>0.523967</td>\n",
              "      <td>0.916459</td>\n",
              "      <td>0.576850</td>\n",
              "      <td>0.102743</td>\n",
              "      <td>0.0</td>\n",
              "      <td>1.0</td>\n",
              "      <td>1.0</td>\n",
              "      <td>0.0</td>\n",
              "      <td>0.0</td>\n",
              "      <td>0.0</td>\n",
              "      <td>1.0</td>\n",
              "      <td>0.0</td>\n",
              "      <td>1.0</td>\n",
              "      <td>0.0</td>\n",
              "      <td>0.0</td>\n",
              "      <td>1.0</td>\n",
              "      <td>1.0</td>\n",
              "      <td>0.0</td>\n",
              "      <td>0.0</td>\n",
              "    </tr>\n",
              "    <tr>\n",
              "      <th>193</th>\n",
              "      <td>-0.847336</td>\n",
              "      <td>-1.064100</td>\n",
              "      <td>-1.376958</td>\n",
              "      <td>0.102743</td>\n",
              "      <td>1.0</td>\n",
              "      <td>0.0</td>\n",
              "      <td>1.0</td>\n",
              "      <td>0.0</td>\n",
              "      <td>0.0</td>\n",
              "      <td>0.0</td>\n",
              "      <td>1.0</td>\n",
              "      <td>0.0</td>\n",
              "      <td>1.0</td>\n",
              "      <td>0.0</td>\n",
              "      <td>0.0</td>\n",
              "      <td>1.0</td>\n",
              "      <td>0.0</td>\n",
              "      <td>0.0</td>\n",
              "      <td>1.0</td>\n",
              "    </tr>\n",
              "    <tr>\n",
              "      <th>194</th>\n",
              "      <td>-0.262845</td>\n",
              "      <td>-1.064100</td>\n",
              "      <td>-0.495963</td>\n",
              "      <td>0.102743</td>\n",
              "      <td>1.0</td>\n",
              "      <td>0.0</td>\n",
              "      <td>0.0</td>\n",
              "      <td>0.0</td>\n",
              "      <td>1.0</td>\n",
              "      <td>0.0</td>\n",
              "      <td>1.0</td>\n",
              "      <td>0.0</td>\n",
              "      <td>1.0</td>\n",
              "      <td>0.0</td>\n",
              "      <td>1.0</td>\n",
              "      <td>0.0</td>\n",
              "      <td>1.0</td>\n",
              "      <td>0.0</td>\n",
              "      <td>0.0</td>\n",
              "    </tr>\n",
              "    <tr>\n",
              "      <th>195</th>\n",
              "      <td>1.396972</td>\n",
              "      <td>-1.064100</td>\n",
              "      <td>-1.138198</td>\n",
              "      <td>0.102743</td>\n",
              "      <td>1.0</td>\n",
              "      <td>0.0</td>\n",
              "      <td>1.0</td>\n",
              "      <td>0.0</td>\n",
              "      <td>0.0</td>\n",
              "      <td>0.0</td>\n",
              "      <td>1.0</td>\n",
              "      <td>0.0</td>\n",
              "      <td>0.0</td>\n",
              "      <td>1.0</td>\n",
              "      <td>0.0</td>\n",
              "      <td>1.0</td>\n",
              "      <td>0.0</td>\n",
              "      <td>0.0</td>\n",
              "      <td>1.0</td>\n",
              "    </tr>\n",
              "  </tbody>\n",
              "</table>\n",
              "<p>196 rows × 19 columns</p>\n",
              "</div>"
            ],
            "text/plain": [
              "     ApplicantIncome  ...  Property_Area_Urban\n",
              "0          -1.240287  ...                  0.0\n",
              "1          -0.290719  ...                  0.0\n",
              "2           1.451357  ...                  1.0\n",
              "3           0.199282  ...                  0.0\n",
              "4          -0.226485  ...                  0.0\n",
              "..               ...  ...                  ...\n",
              "191         0.652907  ...                  0.0\n",
              "192         0.523967  ...                  0.0\n",
              "193        -0.847336  ...                  1.0\n",
              "194        -0.262845  ...                  0.0\n",
              "195         1.396972  ...                  1.0\n",
              "\n",
              "[196 rows x 19 columns]"
            ]
          },
          "metadata": {
            "tags": []
          },
          "execution_count": 47
        }
      ]
    },
    {
      "cell_type": "markdown",
      "metadata": {
        "id": "bpM8VH7Iw-AS"
      },
      "source": [
        "### Extreme values\n",
        "Try a log transformation to get rid of the extreme values in `LoanAmount`. Plot the histogram before and after the transformation"
      ]
    },
    {
      "cell_type": "code",
      "metadata": {
        "id": "4f9bWlY8TQ4r",
        "colab": {
          "base_uri": "https://localhost:8080/",
          "height": 284
        },
        "outputId": "79bb4fb9-a1bd-408a-eff0-6dbd916511a5"
      },
      "source": [
        "X.LoanAmount.plot(kind='hist')"
      ],
      "execution_count": null,
      "outputs": [
        {
          "output_type": "execute_result",
          "data": {
            "text/plain": [
              "<matplotlib.axes._subplots.AxesSubplot at 0x7f358ce2e1d0>"
            ]
          },
          "metadata": {
            "tags": []
          },
          "execution_count": 48
        },
        {
          "output_type": "display_data",
          "data": {
            "image/png": "[encoded data removed]",
            "text/plain": [
              "<Figure size 432x288 with 1 Axes>"
            ]
          },
          "metadata": {
            "tags": [],
            "needs_background": "light"
          }
        }
      ]
    },
    {
      "cell_type": "code",
      "metadata": {
        "colab": {
          "base_uri": "https://localhost:8080/",
          "height": 341
        },
        "id": "mlq4Z_DZdeCn",
        "outputId": "c9731871-b599-4fe0-950e-d643bb54709f"
      },
      "source": [
        "X[\"LoanAmountLog\"] = np.log(X[\"LoanAmount\"].astype('float'))\n",
        "X[\"LoanAmountLog\"].plot(kind='hist')"
      ],
      "execution_count": null,
      "outputs": [
        {
          "output_type": "stream",
          "text": [
            "/usr/local/lib/python3.7/dist-packages/pandas/core/series.py:726: RuntimeWarning: invalid value encountered in log\n",
            "  result = getattr(ufunc, method)(*inputs, **kwargs)\n"
          ],
          "name": "stderr"
        },
        {
          "output_type": "execute_result",
          "data": {
            "text/plain": [
              "<matplotlib.axes._subplots.AxesSubplot at 0x7f358cd43a90>"
            ]
          },
          "metadata": {
            "tags": []
          },
          "execution_count": 49
        },
        {
          "output_type": "display_data",
          "data": {
            "image/png": "[encoded data removed]",
            "text/plain": [
              "<Figure size 432x288 with 1 Axes>"
            ]
          },
          "metadata": {
            "tags": [],
            "needs_background": "light"
          }
        }
      ]
    },
    {
      "cell_type": "markdown",
      "metadata": {
        "id": "4k3JO9iHw-AS"
      },
      "source": [
        "Combine both incomes as total income and take a log transformation of the same."
      ]
    },
    {
      "cell_type": "code",
      "metadata": {
        "id": "qBMGYo4Kfcuk",
        "colab": {
          "base_uri": "https://localhost:8080/",
          "height": 284
        },
        "outputId": "383527b3-60de-4948-c755-2ced4a2031f0"
      },
      "source": [
        "X[\"combinedIncomes\"] = X['ApplicantIncome'] + X['CoapplicantIncome']\n",
        "X.combinedIncomes.plot(kind='hist')\n"
      ],
      "execution_count": null,
      "outputs": [
        {
          "output_type": "execute_result",
          "data": {
            "text/plain": [
              "<matplotlib.axes._subplots.AxesSubplot at 0x7f358fc0f910>"
            ]
          },
          "metadata": {
            "tags": []
          },
          "execution_count": 50
        },
        {
          "output_type": "display_data",
          "data": {
            "image/png": "[encoded data removed]",
            "text/plain": [
              "<Figure size 432x288 with 1 Axes>"
            ]
          },
          "metadata": {
            "tags": [],
            "needs_background": "light"
          }
        }
      ]
    },
    {
      "cell_type": "code",
      "metadata": {
        "colab": {
          "base_uri": "https://localhost:8080/",
          "height": 341
        },
        "id": "uRO4tA7QdkUM",
        "outputId": "fb8aa528-4ee2-444b-ce27-33490ff514f1"
      },
      "source": [
        "X[\"combinedIncomesLog\"] = np.log(X[\"combinedIncomes\"])\n",
        "X.combinedIncomesLog.plot(kind='hist')"
      ],
      "execution_count": null,
      "outputs": [
        {
          "output_type": "stream",
          "text": [
            "/usr/local/lib/python3.7/dist-packages/pandas/core/series.py:726: RuntimeWarning: invalid value encountered in log\n",
            "  result = getattr(ufunc, method)(*inputs, **kwargs)\n"
          ],
          "name": "stderr"
        },
        {
          "output_type": "execute_result",
          "data": {
            "text/plain": [
              "<matplotlib.axes._subplots.AxesSubplot at 0x7f358fb02d90>"
            ]
          },
          "metadata": {
            "tags": []
          },
          "execution_count": 51
        },
        {
          "output_type": "display_data",
          "data": {
            "image/png": "[encoded data removed]",
            "text/plain": [
              "<Figure size 432x288 with 1 Axes>"
            ]
          },
          "metadata": {
            "tags": [],
            "needs_background": "light"
          }
        }
      ]
    },
    {
      "cell_type": "markdown",
      "metadata": {
        "id": "aW8JK3aGw-AT"
      },
      "source": [
        "## 4. Building a Predictive Model"
      ]
    },
    {
      "cell_type": "code",
      "metadata": {
        "id": "iKJphiencg1u"
      },
      "source": [
        "import lightgbm\n",
        "from sklearn.ensemble import RandomForestClassifier,ExtraTreesClassifier\n",
        "from sklearn.tree import DecisionTreeClassifier\n",
        "from sklearn.preprocessing import FunctionTransformer\n",
        "from lightgbm import LGBMClassifier"
      ],
      "execution_count": null,
      "outputs": []
    },
    {
      "cell_type": "code",
      "metadata": {
        "id": "r9uta8Qew-AT"
      },
      "source": [
        "model_names = [\"RandomForestClassifier\", \"ExtraTreesClassifier\", \"DecisionTreeClassifier\", \"LGBMClassifier\"]"
      ],
      "execution_count": null,
      "outputs": []
    },
    {
      "cell_type": "code",
      "metadata": {
        "id": "8yq8zXXdVD8q"
      },
      "source": [
        "models = [RandomForestClassifier(random_state=1), ExtraTreesClassifier(random_state=1), DecisionTreeClassifier(random_state=1), LGBMClassifier(random_state=1)]"
      ],
      "execution_count": null,
      "outputs": []
    },
    {
      "cell_type": "code",
      "metadata": {
        "id": "xtuCw-BwVL1E"
      },
      "source": [
        "zipped_combo = zip(model_names,models)"
      ],
      "execution_count": null,
      "outputs": []
    },
    {
      "cell_type": "markdown",
      "metadata": {
        "id": "T0Qh0rmpw-AW"
      },
      "source": [
        "Try paramater grid search to improve the results"
      ]
    },
    {
      "cell_type": "code",
      "metadata": {
        "id": "cCb9Ic6VTv_l"
      },
      "source": [
        "from sklearn.metrics import accuracy_score,precision_score,f1_score,make_scorer"
      ],
      "execution_count": null,
      "outputs": []
    },
    {
      "cell_type": "code",
      "metadata": {
        "id": "_Ancs8qkdLyu"
      },
      "source": [
        "def fit_classifier(pipeline, x_train, y_train, x_test, y_test):\n",
        "    model_fit = pipeline.fit(x_train, y_train)\n",
        "    y_pred = model_fit.predict(x_test)\n",
        "    modelAccuracy_score = accuracy_score(y_test, y_pred)\n",
        "    print('accuracy_score:',accuracy_score(y_test, y_pred))\n",
        "    print('precision:', precision_score(y_test,y_pred))\n",
        "    print('f1_score:', f1_score(y_test,y_pred))\n",
        "    print(\"\\n\")\n",
        "    return modelAccuracy_score"
      ],
      "execution_count": null,
      "outputs": []
    },
    {
      "cell_type": "code",
      "metadata": {
        "id": "dXCNADijUbp8"
      },
      "source": [
        "def classifier(classifier, X_train, y_train, X_test, y_test):\n",
        "    assessment = []\n",
        "    for model_Name,model in classifier:\n",
        "        model_test_pipe = Pipeline([ \n",
        "            ('preprocessor', preprocessor),                \n",
        "            ('classifier', model)\n",
        "        ])\n",
        "        print('Name of model that is being tested: ', model_Name)\n",
        "        modelTest = fit_classifier(model_test_pipe, X_train, y_train, X_test,y_test)\n",
        "        assessment.append((model_Name,modelTest))\n",
        "        \n",
        "    return assessment"
      ],
      "execution_count": null,
      "outputs": []
    },
    {
      "cell_type": "markdown",
      "metadata": {
        "id": "D1LPhHkdCG4I"
      },
      "source": [
        "Name of model that is being tested:  RandomForestClassifier\n",
        "accuracy_score: 0.6941176470588235\n",
        "precision: 0.631578947368421\n",
        "f1_score: 0.48000000000000004\n",
        "\n",
        "\n",
        "Name of model that is being tested:  ExtraTreesClassifier\n",
        "accuracy_score: 0.6941176470588235\n",
        "precision: 0.6\n",
        "f1_score: 0.5357142857142857\n",
        "\n",
        "\n",
        "Name of model that is being tested:  DecisionTreeClassifier\n",
        "accuracy_score: 0.7176470588235294\n",
        "precision: 0.6206896551724138\n",
        "f1_score: 0.6000000000000001\n",
        "\n",
        "\n",
        "Name of model that is being tested:  LGBMClassifier\n",
        "accuracy_score: 0.7176470588235294\n",
        "precision: 0.6296296296296297\n",
        "f1_score: 0.5862068965517241\n",
        "\n",
        "\n"
      ]
    },
    {
      "cell_type": "code",
      "metadata": {
        "colab": {
          "base_uri": "https://localhost:8080/"
        },
        "id": "dFmtxF9iS6r5",
        "outputId": "6c01c991-f18b-497e-fc52-430322684b07"
      },
      "source": [
        "result = classifier(zipped_combo, X_train, y_train, X_test, y_test)"
      ],
      "execution_count": null,
      "outputs": [
        {
          "output_type": "stream",
          "text": [
            "Name of model that is being tested:  RandomForestClassifier\n",
            "[ColumnTransformer] ........... (1 of 2) Processing num, total=   0.0s\n",
            "[ColumnTransformer] ........... (2 of 2) Processing cat, total=   0.0s\n",
            "accuracy_score: 0.7058823529411765\n",
            "precision: 0.65\n",
            "f1_score: 0.5098039215686274\n",
            "\n",
            "\n",
            "Name of model that is being tested:  ExtraTreesClassifier\n",
            "[ColumnTransformer] ........... (1 of 2) Processing num, total=   0.0s\n",
            "[ColumnTransformer] ........... (2 of 2) Processing cat, total=   0.0s\n",
            "accuracy_score: 0.6941176470588235\n",
            "precision: 0.6\n",
            "f1_score: 0.5357142857142857\n",
            "\n",
            "\n",
            "Name of model that is being tested:  DecisionTreeClassifier\n",
            "[ColumnTransformer] ........... (1 of 2) Processing num, total=   0.0s\n",
            "[ColumnTransformer] ........... (2 of 2) Processing cat, total=   0.0s\n",
            "accuracy_score: 0.6\n",
            "precision: 0.4482758620689655\n",
            "f1_score: 0.4333333333333333\n",
            "\n",
            "\n",
            "Name of model that is being tested:  LGBMClassifier\n",
            "[ColumnTransformer] ........... (1 of 2) Processing num, total=   0.0s\n",
            "[ColumnTransformer] ........... (2 of 2) Processing cat, total=   0.0s\n",
            "accuracy_score: 0.7411764705882353\n",
            "precision: 0.6956521739130435\n",
            "f1_score: 0.5925925925925926\n",
            "\n",
            "\n"
          ],
          "name": "stdout"
        }
      ]
    },
    {
      "cell_type": "code",
      "metadata": {
        "id": "DXkRNaLUB6ME"
      },
      "source": [
        "from sklearn.model_selection import GridSearchCV"
      ],
      "execution_count": null,
      "outputs": []
    },
    {
      "cell_type": "code",
      "metadata": {
        "id": "c-hV6IWpCKBr"
      },
      "source": [
        "gridSearchPipe = Pipeline([ \n",
        "            ('preprocessor', preprocessor),                \n",
        "            ('LGBMClassifier', LGBMClassifier(random_state=1))])"
      ],
      "execution_count": null,
      "outputs": []
    },
    {
      "cell_type": "code",
      "metadata": {
        "colab": {
          "base_uri": "https://localhost:8080/"
        },
        "id": "0kip8IoYDo1j",
        "outputId": "1bb3cafc-23dc-41de-aa9c-84043914c8b7"
      },
      "source": [
        "gridSearchPipe.steps[1][1]"
      ],
      "execution_count": null,
      "outputs": [
        {
          "output_type": "execute_result",
          "data": {
            "text/plain": [
              "LGBMClassifier(boosting_type='gbdt', class_weight=None, colsample_bytree=1.0,\n",
              "               importance_type='split', learning_rate=0.1, max_depth=-1,\n",
              "               min_child_samples=20, min_child_weight=0.001, min_split_gain=0.0,\n",
              "               n_estimators=100, n_jobs=-1, num_leaves=31, objective=None,\n",
              "               random_state=1, reg_alpha=0.0, reg_lambda=0.0, silent=True,\n",
              "               subsample=1.0, subsample_for_bin=200000, subsample_freq=0)"
            ]
          },
          "metadata": {
            "tags": []
          },
          "execution_count": 62
        }
      ]
    },
    {
      "cell_type": "code",
      "metadata": {
        "id": "cSoeaPz5Evp5"
      },
      "source": [
        "param_grid = {\n",
        "    'LGBMClassifier__boosting_type': ['gbdt','dart','goss'],\n",
        "    'LGBMClassifier__n_estimators': [100,200,300,400,500],\n",
        "    'LGBMClassifier__learning_rate': [0.01,0.1,0.5,0.75,1]\n",
        "}"
      ],
      "execution_count": null,
      "outputs": []
    },
    {
      "cell_type": "code",
      "metadata": {
        "id": "d9qSFGSAElGh"
      },
      "source": [
        "grid_search = GridSearchCV(gridSearchPipe, param_grid, verbose=100,scoring=make_scorer(accuracy_score), refit=True)  "
      ],
      "execution_count": null,
      "outputs": []
    },
    {
      "cell_type": "code",
      "metadata": {
        "colab": {
          "base_uri": "https://localhost:8080/"
        },
        "id": "hMLpO20OGIqE",
        "outputId": "467bdcae-981c-44b8-c125-0873c96b8d96"
      },
      "source": [
        "grid_search.fit(X_train, y_train)"
      ],
      "execution_count": null,
      "outputs": [
        {
          "output_type": "stream",
          "text": [
            "Fitting 5 folds for each of 75 candidates, totalling 375 fits\n",
            "[Parallel(n_jobs=1)]: Using backend SequentialBackend with 1 concurrent workers.\n",
            "[CV] LGBMClassifier__boosting_type=gbdt, LGBMClassifier__learning_rate=0.01, LGBMClassifier__n_estimators=100 \n",
            "[ColumnTransformer] ........... (1 of 2) Processing num, total=   0.0s\n",
            "[ColumnTransformer] ........... (2 of 2) Processing cat, total=   0.0s\n",
            "[CV]  LGBMClassifier__boosting_type=gbdt, LGBMClassifier__learning_rate=0.01, LGBMClassifier__n_estimators=100, score=0.725, total=   0.1s\n",
            "[Parallel(n_jobs=1)]: Done   1 out of   1 | elapsed:    0.1s remaining:    0.0s\n",
            "[CV] LGBMClassifier__boosting_type=gbdt, LGBMClassifier__learning_rate=0.01, LGBMClassifier__n_estimators=100 \n",
            "[ColumnTransformer] ........... (1 of 2) Processing num, total=   0.0s\n",
            "[ColumnTransformer] ........... (2 of 2) Processing cat, total=   0.0s\n",
            "[CV]  LGBMClassifier__boosting_type=gbdt, LGBMClassifier__learning_rate=0.01, LGBMClassifier__n_estimators=100, score=0.718, total=   0.0s\n",
            "[Parallel(n_jobs=1)]: Done   2 out of   2 | elapsed:    0.1s remaining:    0.0s\n",
            "[CV] LGBMClassifier__boosting_type=gbdt, LGBMClassifier__learning_rate=0.01, LGBMClassifier__n_estimators=100 \n",
            "[ColumnTransformer] ........... (1 of 2) Processing num, total=   0.0s\n",
            "[ColumnTransformer] ........... (2 of 2) Processing cat, total=   0.0s\n",
            "[CV]  LGBMClassifier__boosting_type=gbdt, LGBMClassifier__learning_rate=0.01, LGBMClassifier__n_estimators=100, score=0.667, total=   0.1s\n",
            "[Parallel(n_jobs=1)]: Done   3 out of   3 | elapsed:    0.2s remaining:    0.0s\n",
            "[CV] LGBMClassifier__boosting_type=gbdt, LGBMClassifier__learning_rate=0.01, LGBMClassifier__n_estimators=100 \n",
            "[ColumnTransformer] ........... (1 of 2) Processing num, total=   0.0s\n",
            "[ColumnTransformer] ........... (2 of 2) Processing cat, total=   0.0s\n",
            "[CV]  LGBMClassifier__boosting_type=gbdt, LGBMClassifier__learning_rate=0.01, LGBMClassifier__n_estimators=100, score=0.718, total=   0.1s\n",
            "[Parallel(n_jobs=1)]: Done   4 out of   4 | elapsed:    0.3s remaining:    0.0s\n",
            "[CV] LGBMClassifier__boosting_type=gbdt, LGBMClassifier__learning_rate=0.01, LGBMClassifier__n_estimators=100 \n",
            "[ColumnTransformer] ........... (1 of 2) Processing num, total=   0.0s\n",
            "[ColumnTransformer] ........... (2 of 2) Processing cat, total=   0.0s\n",
            "[CV]  LGBMClassifier__boosting_type=gbdt, LGBMClassifier__learning_rate=0.01, LGBMClassifier__n_estimators=100, score=0.718, total=   0.1s\n",
            "[Parallel(n_jobs=1)]: Done   5 out of   5 | elapsed:    0.3s remaining:    0.0s\n",
            "[CV] LGBMClassifier__boosting_type=gbdt, LGBMClassifier__learning_rate=0.01, LGBMClassifier__n_estimators=200 \n",
            "[ColumnTransformer] ........... (1 of 2) Processing num, total=   0.0s\n",
            "[ColumnTransformer] ........... (2 of 2) Processing cat, total=   0.0s\n",
            "[CV]  LGBMClassifier__boosting_type=gbdt, LGBMClassifier__learning_rate=0.01, LGBMClassifier__n_estimators=200, score=0.675, total=   0.1s\n",
            "[Parallel(n_jobs=1)]: Done   6 out of   6 | elapsed:    0.4s remaining:    0.0s\n",
            "[CV] LGBMClassifier__boosting_type=gbdt, LGBMClassifier__learning_rate=0.01, LGBMClassifier__n_estimators=200 \n",
            "[ColumnTransformer] ........... (1 of 2) Processing num, total=   0.0s\n",
            "[ColumnTransformer] ........... (2 of 2) Processing cat, total=   0.0s\n",
            "[CV]  LGBMClassifier__boosting_type=gbdt, LGBMClassifier__learning_rate=0.01, LGBMClassifier__n_estimators=200, score=0.692, total=   0.1s\n",
            "[Parallel(n_jobs=1)]: Done   7 out of   7 | elapsed:    0.5s remaining:    0.0s\n",
            "[CV] LGBMClassifier__boosting_type=gbdt, LGBMClassifier__learning_rate=0.01, LGBMClassifier__n_estimators=200 \n",
            "[ColumnTransformer] ........... (1 of 2) Processing num, total=   0.0s\n",
            "[ColumnTransformer] ........... (2 of 2) Processing cat, total=   0.0s\n",
            "[CV]  LGBMClassifier__boosting_type=gbdt, LGBMClassifier__learning_rate=0.01, LGBMClassifier__n_estimators=200, score=0.641, total=   0.1s\n",
            "[Parallel(n_jobs=1)]: Done   8 out of   8 | elapsed:    0.6s remaining:    0.0s\n",
            "[CV] LGBMClassifier__boosting_type=gbdt, LGBMClassifier__learning_rate=0.01, LGBMClassifier__n_estimators=200 \n",
            "[ColumnTransformer] ........... (1 of 2) Processing num, total=   0.0s\n",
            "[ColumnTransformer] ........... (2 of 2) Processing cat, total=   0.0s\n",
            "[CV]  LGBMClassifier__boosting_type=gbdt, LGBMClassifier__learning_rate=0.01, LGBMClassifier__n_estimators=200, score=0.744, total=   0.1s\n",
            "[Parallel(n_jobs=1)]: Done   9 out of   9 | elapsed:    0.7s remaining:    0.0s\n",
            "[CV] LGBMClassifier__boosting_type=gbdt, LGBMClassifier__learning_rate=0.01, LGBMClassifier__n_estimators=200 \n",
            "[ColumnTransformer] ........... (1 of 2) Processing num, total=   0.0s\n",
            "[ColumnTransformer] ........... (2 of 2) Processing cat, total=   0.0s\n",
            "[CV]  LGBMClassifier__boosting_type=gbdt, LGBMClassifier__learning_rate=0.01, LGBMClassifier__n_estimators=200, score=0.718, total=   0.1s\n",
            "[Parallel(n_jobs=1)]: Done  10 out of  10 | elapsed:    0.7s remaining:    0.0s\n",
            "[CV] LGBMClassifier__boosting_type=gbdt, LGBMClassifier__learning_rate=0.01, LGBMClassifier__n_estimators=300 \n",
            "[ColumnTransformer] ........... (1 of 2) Processing num, total=   0.0s\n",
            "[ColumnTransformer] ........... (2 of 2) Processing cat, total=   0.0s\n",
            "[CV]  LGBMClassifier__boosting_type=gbdt, LGBMClassifier__learning_rate=0.01, LGBMClassifier__n_estimators=300, score=0.625, total=   0.1s\n",
            "[Parallel(n_jobs=1)]: Done  11 out of  11 | elapsed:    0.8s remaining:    0.0s\n",
            "[CV] LGBMClassifier__boosting_type=gbdt, LGBMClassifier__learning_rate=0.01, LGBMClassifier__n_estimators=300 \n",
            "[ColumnTransformer] ........... (1 of 2) Processing num, total=   0.0s\n",
            "[ColumnTransformer] ........... (2 of 2) Processing cat, total=   0.0s\n",
            "[CV]  LGBMClassifier__boosting_type=gbdt, LGBMClassifier__learning_rate=0.01, LGBMClassifier__n_estimators=300, score=0.692, total=   0.1s\n",
            "[Parallel(n_jobs=1)]: Done  12 out of  12 | elapsed:    0.9s remaining:    0.0s\n",
            "[CV] LGBMClassifier__boosting_type=gbdt, LGBMClassifier__learning_rate=0.01, LGBMClassifier__n_estimators=300 \n",
            "[ColumnTransformer] ........... (1 of 2) Processing num, total=   0.0s\n",
            "[ColumnTransformer] ........... (2 of 2) Processing cat, total=   0.0s\n",
            "[CV]  LGBMClassifier__boosting_type=gbdt, LGBMClassifier__learning_rate=0.01, LGBMClassifier__n_estimators=300, score=0.667, total=   0.1s\n",
            "[Parallel(n_jobs=1)]: Done  13 out of  13 | elapsed:    1.0s remaining:    0.0s\n",
            "[CV] LGBMClassifier__boosting_type=gbdt, LGBMClassifier__learning_rate=0.01, LGBMClassifier__n_estimators=300 \n",
            "[ColumnTransformer] ........... (1 of 2) Processing num, total=   0.0s\n",
            "[ColumnTransformer] ........... (2 of 2) Processing cat, total=   0.0s\n",
            "[CV]  LGBMClassifier__boosting_type=gbdt, LGBMClassifier__learning_rate=0.01, LGBMClassifier__n_estimators=300, score=0.769, total=   0.1s\n",
            "[Parallel(n_jobs=1)]: Done  14 out of  14 | elapsed:    1.1s remaining:    0.0s\n",
            "[CV] LGBMClassifier__boosting_type=gbdt, LGBMClassifier__learning_rate=0.01, LGBMClassifier__n_estimators=300 \n",
            "[ColumnTransformer] ........... (1 of 2) Processing num, total=   0.0s\n",
            "[ColumnTransformer] ........... (2 of 2) Processing cat, total=   0.0s\n",
            "[CV]  LGBMClassifier__boosting_type=gbdt, LGBMClassifier__learning_rate=0.01, LGBMClassifier__n_estimators=300, score=0.718, total=   0.1s\n",
            "[Parallel(n_jobs=1)]: Done  15 out of  15 | elapsed:    1.2s remaining:    0.0s\n",
            "[CV] LGBMClassifier__boosting_type=gbdt, LGBMClassifier__learning_rate=0.01, LGBMClassifier__n_estimators=400 \n",
            "[ColumnTransformer] ........... (1 of 2) Processing num, total=   0.0s\n",
            "[ColumnTransformer] ........... (2 of 2) Processing cat, total=   0.0s\n",
            "[CV]  LGBMClassifier__boosting_type=gbdt, LGBMClassifier__learning_rate=0.01, LGBMClassifier__n_estimators=400, score=0.675, total=   0.1s\n",
            "[Parallel(n_jobs=1)]: Done  16 out of  16 | elapsed:    1.3s remaining:    0.0s\n",
            "[CV] LGBMClassifier__boosting_type=gbdt, LGBMClassifier__learning_rate=0.01, LGBMClassifier__n_estimators=400 \n",
            "[ColumnTransformer] ........... (1 of 2) Processing num, total=   0.0s\n",
            "[ColumnTransformer] ........... (2 of 2) Processing cat, total=   0.0s\n",
            "[CV]  LGBMClassifier__boosting_type=gbdt, LGBMClassifier__learning_rate=0.01, LGBMClassifier__n_estimators=400, score=0.692, total=   0.1s\n",
            "[Parallel(n_jobs=1)]: Done  17 out of  17 | elapsed:    1.4s remaining:    0.0s\n",
            "[CV] LGBMClassifier__boosting_type=gbdt, LGBMClassifier__learning_rate=0.01, LGBMClassifier__n_estimators=400 \n",
            "[ColumnTransformer] ........... (1 of 2) Processing num, total=   0.0s\n",
            "[ColumnTransformer] ........... (2 of 2) Processing cat, total=   0.0s\n",
            "[CV]  LGBMClassifier__boosting_type=gbdt, LGBMClassifier__learning_rate=0.01, LGBMClassifier__n_estimators=400, score=0.667, total=   0.1s\n",
            "[Parallel(n_jobs=1)]: Done  18 out of  18 | elapsed:    1.4s remaining:    0.0s\n",
            "[CV] LGBMClassifier__boosting_type=gbdt, LGBMClassifier__learning_rate=0.01, LGBMClassifier__n_estimators=400 \n",
            "[ColumnTransformer] ........... (1 of 2) Processing num, total=   0.0s\n",
            "[ColumnTransformer] ........... (2 of 2) Processing cat, total=   0.0s\n",
            "[CV]  LGBMClassifier__boosting_type=gbdt, LGBMClassifier__learning_rate=0.01, LGBMClassifier__n_estimators=400, score=0.744, total=   0.1s\n",
            "[Parallel(n_jobs=1)]: Done  19 out of  19 | elapsed:    1.6s remaining:    0.0s\n",
            "[CV] LGBMClassifier__boosting_type=gbdt, LGBMClassifier__learning_rate=0.01, LGBMClassifier__n_estimators=400 \n",
            "[ColumnTransformer] ........... (1 of 2) Processing num, total=   0.0s\n",
            "[ColumnTransformer] ........... (2 of 2) Processing cat, total=   0.0s\n",
            "[CV]  LGBMClassifier__boosting_type=gbdt, LGBMClassifier__learning_rate=0.01, LGBMClassifier__n_estimators=400, score=0.744, total=   0.1s\n",
            "[Parallel(n_jobs=1)]: Done  20 out of  20 | elapsed:    1.7s remaining:    0.0s\n",
            "[CV] LGBMClassifier__boosting_type=gbdt, LGBMClassifier__learning_rate=0.01, LGBMClassifier__n_estimators=500 \n",
            "[ColumnTransformer] ........... (1 of 2) Processing num, total=   0.0s\n",
            "[ColumnTransformer] ........... (2 of 2) Processing cat, total=   0.0s\n",
            "[CV]  LGBMClassifier__boosting_type=gbdt, LGBMClassifier__learning_rate=0.01, LGBMClassifier__n_estimators=500, score=0.700, total=   0.1s\n",
            "[Parallel(n_jobs=1)]: Done  21 out of  21 | elapsed:    1.8s remaining:    0.0s\n",
            "[CV] LGBMClassifier__boosting_type=gbdt, LGBMClassifier__learning_rate=0.01, LGBMClassifier__n_estimators=500 \n",
            "[ColumnTransformer] ........... (1 of 2) Processing num, total=   0.0s\n",
            "[ColumnTransformer] ........... (2 of 2) Processing cat, total=   0.0s\n",
            "[CV]  LGBMClassifier__boosting_type=gbdt, LGBMClassifier__learning_rate=0.01, LGBMClassifier__n_estimators=500, score=0.692, total=   0.1s\n",
            "[Parallel(n_jobs=1)]: Done  22 out of  22 | elapsed:    1.9s remaining:    0.0s\n",
            "[CV] LGBMClassifier__boosting_type=gbdt, LGBMClassifier__learning_rate=0.01, LGBMClassifier__n_estimators=500 \n",
            "[ColumnTransformer] ........... (1 of 2) Processing num, total=   0.0s\n",
            "[ColumnTransformer] ........... (2 of 2) Processing cat, total=   0.0s\n",
            "[CV]  LGBMClassifier__boosting_type=gbdt, LGBMClassifier__learning_rate=0.01, LGBMClassifier__n_estimators=500, score=0.667, total=   0.1s\n",
            "[Parallel(n_jobs=1)]: Done  23 out of  23 | elapsed:    2.0s remaining:    0.0s\n",
            "[CV] LGBMClassifier__boosting_type=gbdt, LGBMClassifier__learning_rate=0.01, LGBMClassifier__n_estimators=500 \n",
            "[ColumnTransformer] ........... (1 of 2) Processing num, total=   0.0s\n",
            "[ColumnTransformer] ........... (2 of 2) Processing cat, total=   0.0s\n",
            "[CV]  LGBMClassifier__boosting_type=gbdt, LGBMClassifier__learning_rate=0.01, LGBMClassifier__n_estimators=500, score=0.744, total=   0.1s\n",
            "[Parallel(n_jobs=1)]: Done  24 out of  24 | elapsed:    2.1s remaining:    0.0s\n",
            "[CV] LGBMClassifier__boosting_type=gbdt, LGBMClassifier__learning_rate=0.01, LGBMClassifier__n_estimators=500 \n",
            "[ColumnTransformer] ........... (1 of 2) Processing num, total=   0.0s\n",
            "[ColumnTransformer] ........... (2 of 2) Processing cat, total=   0.0s\n",
            "[CV]  LGBMClassifier__boosting_type=gbdt, LGBMClassifier__learning_rate=0.01, LGBMClassifier__n_estimators=500, score=0.744, total=   0.1s\n",
            "[Parallel(n_jobs=1)]: Done  25 out of  25 | elapsed:    2.2s remaining:    0.0s\n",
            "[CV] LGBMClassifier__boosting_type=gbdt, LGBMClassifier__learning_rate=0.1, LGBMClassifier__n_estimators=100 \n",
            "[ColumnTransformer] ........... (1 of 2) Processing num, total=   0.0s\n",
            "[ColumnTransformer] ........... (2 of 2) Processing cat, total=   0.0s\n",
            "[CV]  LGBMClassifier__boosting_type=gbdt, LGBMClassifier__learning_rate=0.1, LGBMClassifier__n_estimators=100, score=0.675, total=   0.1s\n",
            "[Parallel(n_jobs=1)]: Done  26 out of  26 | elapsed:    2.3s remaining:    0.0s\n",
            "[CV] LGBMClassifier__boosting_type=gbdt, LGBMClassifier__learning_rate=0.1, LGBMClassifier__n_estimators=100 \n",
            "[ColumnTransformer] ........... (1 of 2) Processing num, total=   0.0s\n",
            "[ColumnTransformer] ........... (2 of 2) Processing cat, total=   0.0s\n",
            "[CV]  LGBMClassifier__boosting_type=gbdt, LGBMClassifier__learning_rate=0.1, LGBMClassifier__n_estimators=100, score=0.744, total=   0.1s\n",
            "[Parallel(n_jobs=1)]: Done  27 out of  27 | elapsed:    2.3s remaining:    0.0s\n",
            "[CV] LGBMClassifier__boosting_type=gbdt, LGBMClassifier__learning_rate=0.1, LGBMClassifier__n_estimators=100 \n",
            "[ColumnTransformer] ........... (1 of 2) Processing num, total=   0.0s\n",
            "[ColumnTransformer] ........... (2 of 2) Processing cat, total=   0.0s\n",
            "[CV]  LGBMClassifier__boosting_type=gbdt, LGBMClassifier__learning_rate=0.1, LGBMClassifier__n_estimators=100, score=0.692, total=   0.1s\n",
            "[Parallel(n_jobs=1)]: Done  28 out of  28 | elapsed:    2.4s remaining:    0.0s\n",
            "[CV] LGBMClassifier__boosting_type=gbdt, LGBMClassifier__learning_rate=0.1, LGBMClassifier__n_estimators=100 \n",
            "[ColumnTransformer] ........... (1 of 2) Processing num, total=   0.0s\n",
            "[ColumnTransformer] ........... (2 of 2) Processing cat, total=   0.0s\n",
            "[CV]  LGBMClassifier__boosting_type=gbdt, LGBMClassifier__learning_rate=0.1, LGBMClassifier__n_estimators=100, score=0.769, total=   0.1s\n",
            "[Parallel(n_jobs=1)]: Done  29 out of  29 | elapsed:    2.5s remaining:    0.0s\n",
            "[CV] LGBMClassifier__boosting_type=gbdt, LGBMClassifier__learning_rate=0.1, LGBMClassifier__n_estimators=100 \n",
            "[ColumnTransformer] ........... (1 of 2) Processing num, total=   0.0s\n",
            "[ColumnTransformer] ........... (2 of 2) Processing cat, total=   0.0s\n",
            "[CV]  LGBMClassifier__boosting_type=gbdt, LGBMClassifier__learning_rate=0.1, LGBMClassifier__n_estimators=100, score=0.718, total=   0.1s\n",
            "[Parallel(n_jobs=1)]: Done  30 out of  30 | elapsed:    2.5s remaining:    0.0s\n",
            "[CV] LGBMClassifier__boosting_type=gbdt, LGBMClassifier__learning_rate=0.1, LGBMClassifier__n_estimators=200 \n",
            "[ColumnTransformer] ........... (1 of 2) Processing num, total=   0.0s\n",
            "[ColumnTransformer] ........... (2 of 2) Processing cat, total=   0.0s\n",
            "[CV]  LGBMClassifier__boosting_type=gbdt, LGBMClassifier__learning_rate=0.1, LGBMClassifier__n_estimators=200, score=0.625, total=   0.1s\n",
            "[Parallel(n_jobs=1)]: Done  31 out of  31 | elapsed:    2.6s remaining:    0.0s\n",
            "[CV] LGBMClassifier__boosting_type=gbdt, LGBMClassifier__learning_rate=0.1, LGBMClassifier__n_estimators=200 \n",
            "[ColumnTransformer] ........... (1 of 2) Processing num, total=   0.0s\n",
            "[ColumnTransformer] ........... (2 of 2) Processing cat, total=   0.0s\n",
            "[CV]  LGBMClassifier__boosting_type=gbdt, LGBMClassifier__learning_rate=0.1, LGBMClassifier__n_estimators=200, score=0.718, total=   0.1s\n",
            "[Parallel(n_jobs=1)]: Done  32 out of  32 | elapsed:    2.7s remaining:    0.0s\n",
            "[CV] LGBMClassifier__boosting_type=gbdt, LGBMClassifier__learning_rate=0.1, LGBMClassifier__n_estimators=200 \n",
            "[ColumnTransformer] ........... (1 of 2) Processing num, total=   0.0s\n",
            "[ColumnTransformer] ........... (2 of 2) Processing cat, total=   0.0s\n",
            "[CV]  LGBMClassifier__boosting_type=gbdt, LGBMClassifier__learning_rate=0.1, LGBMClassifier__n_estimators=200, score=0.667, total=   0.1s\n",
            "[Parallel(n_jobs=1)]: Done  33 out of  33 | elapsed:    2.8s remaining:    0.0s\n",
            "[CV] LGBMClassifier__boosting_type=gbdt, LGBMClassifier__learning_rate=0.1, LGBMClassifier__n_estimators=200 \n",
            "[ColumnTransformer] ........... (1 of 2) Processing num, total=   0.0s\n",
            "[ColumnTransformer] ........... (2 of 2) Processing cat, total=   0.0s\n",
            "[CV]  LGBMClassifier__boosting_type=gbdt, LGBMClassifier__learning_rate=0.1, LGBMClassifier__n_estimators=200, score=0.744, total=   0.1s\n",
            "[Parallel(n_jobs=1)]: Done  34 out of  34 | elapsed:    2.8s remaining:    0.0s\n",
            "[CV] LGBMClassifier__boosting_type=gbdt, LGBMClassifier__learning_rate=0.1, LGBMClassifier__n_estimators=200 \n",
            "[ColumnTransformer] ........... (1 of 2) Processing num, total=   0.0s\n",
            "[ColumnTransformer] ........... (2 of 2) Processing cat, total=   0.0s\n",
            "[CV]  LGBMClassifier__boosting_type=gbdt, LGBMClassifier__learning_rate=0.1, LGBMClassifier__n_estimators=200, score=0.744, total=   0.1s\n",
            "[Parallel(n_jobs=1)]: Done  35 out of  35 | elapsed:    2.9s remaining:    0.0s\n",
            "[CV] LGBMClassifier__boosting_type=gbdt, LGBMClassifier__learning_rate=0.1, LGBMClassifier__n_estimators=300 \n",
            "[ColumnTransformer] ........... (1 of 2) Processing num, total=   0.0s\n",
            "[ColumnTransformer] ........... (2 of 2) Processing cat, total=   0.0s\n",
            "[CV]  LGBMClassifier__boosting_type=gbdt, LGBMClassifier__learning_rate=0.1, LGBMClassifier__n_estimators=300, score=0.625, total=   0.1s\n",
            "[Parallel(n_jobs=1)]: Done  36 out of  36 | elapsed:    3.0s remaining:    0.0s\n",
            "[CV] LGBMClassifier__boosting_type=gbdt, LGBMClassifier__learning_rate=0.1, LGBMClassifier__n_estimators=300 \n",
            "[ColumnTransformer] ........... (1 of 2) Processing num, total=   0.0s\n",
            "[ColumnTransformer] ........... (2 of 2) Processing cat, total=   0.0s\n",
            "[CV]  LGBMClassifier__boosting_type=gbdt, LGBMClassifier__learning_rate=0.1, LGBMClassifier__n_estimators=300, score=0.744, total=   0.1s\n",
            "[Parallel(n_jobs=1)]: Done  37 out of  37 | elapsed:    3.1s remaining:    0.0s\n",
            "[CV] LGBMClassifier__boosting_type=gbdt, LGBMClassifier__learning_rate=0.1, LGBMClassifier__n_estimators=300 \n",
            "[ColumnTransformer] ........... (1 of 2) Processing num, total=   0.0s\n",
            "[ColumnTransformer] ........... (2 of 2) Processing cat, total=   0.0s\n",
            "[CV]  LGBMClassifier__boosting_type=gbdt, LGBMClassifier__learning_rate=0.1, LGBMClassifier__n_estimators=300, score=0.667, total=   0.1s\n",
            "[Parallel(n_jobs=1)]: Done  38 out of  38 | elapsed:    3.2s remaining:    0.0s\n",
            "[CV] LGBMClassifier__boosting_type=gbdt, LGBMClassifier__learning_rate=0.1, LGBMClassifier__n_estimators=300 \n",
            "[ColumnTransformer] ........... (1 of 2) Processing num, total=   0.0s\n",
            "[ColumnTransformer] ........... (2 of 2) Processing cat, total=   0.0s\n",
            "[CV]  LGBMClassifier__boosting_type=gbdt, LGBMClassifier__learning_rate=0.1, LGBMClassifier__n_estimators=300, score=0.744, total=   0.1s\n",
            "[Parallel(n_jobs=1)]: Done  39 out of  39 | elapsed:    3.3s remaining:    0.0s\n",
            "[CV] LGBMClassifier__boosting_type=gbdt, LGBMClassifier__learning_rate=0.1, LGBMClassifier__n_estimators=300 \n",
            "[ColumnTransformer] ........... (1 of 2) Processing num, total=   0.0s\n",
            "[ColumnTransformer] ........... (2 of 2) Processing cat, total=   0.0s\n",
            "[CV]  LGBMClassifier__boosting_type=gbdt, LGBMClassifier__learning_rate=0.1, LGBMClassifier__n_estimators=300, score=0.744, total=   0.1s\n",
            "[Parallel(n_jobs=1)]: Done  40 out of  40 | elapsed:    3.3s remaining:    0.0s\n",
            "[CV] LGBMClassifier__boosting_type=gbdt, LGBMClassifier__learning_rate=0.1, LGBMClassifier__n_estimators=400 \n",
            "[ColumnTransformer] ........... (1 of 2) Processing num, total=   0.0s\n",
            "[ColumnTransformer] ........... (2 of 2) Processing cat, total=   0.0s\n",
            "[CV]  LGBMClassifier__boosting_type=gbdt, LGBMClassifier__learning_rate=0.1, LGBMClassifier__n_estimators=400, score=0.625, total=   0.1s\n",
            "[Parallel(n_jobs=1)]: Done  41 out of  41 | elapsed:    3.4s remaining:    0.0s\n",
            "[CV] LGBMClassifier__boosting_type=gbdt, LGBMClassifier__learning_rate=0.1, LGBMClassifier__n_estimators=400 \n",
            "[ColumnTransformer] ........... (1 of 2) Processing num, total=   0.0s\n",
            "[ColumnTransformer] ........... (2 of 2) Processing cat, total=   0.0s\n",
            "[CV]  LGBMClassifier__boosting_type=gbdt, LGBMClassifier__learning_rate=0.1, LGBMClassifier__n_estimators=400, score=0.744, total=   0.1s\n",
            "[Parallel(n_jobs=1)]: Done  42 out of  42 | elapsed:    3.6s remaining:    0.0s\n",
            "[CV] LGBMClassifier__boosting_type=gbdt, LGBMClassifier__learning_rate=0.1, LGBMClassifier__n_estimators=400 \n",
            "[ColumnTransformer] ........... (1 of 2) Processing num, total=   0.0s\n",
            "[ColumnTransformer] ........... (2 of 2) Processing cat, total=   0.0s\n",
            "[CV]  LGBMClassifier__boosting_type=gbdt, LGBMClassifier__learning_rate=0.1, LGBMClassifier__n_estimators=400, score=0.667, total=   0.1s\n",
            "[Parallel(n_jobs=1)]: Done  43 out of  43 | elapsed:    3.6s remaining:    0.0s\n",
            "[CV] LGBMClassifier__boosting_type=gbdt, LGBMClassifier__learning_rate=0.1, LGBMClassifier__n_estimators=400 \n",
            "[ColumnTransformer] ........... (1 of 2) Processing num, total=   0.0s\n",
            "[ColumnTransformer] ........... (2 of 2) Processing cat, total=   0.0s\n",
            "[CV]  LGBMClassifier__boosting_type=gbdt, LGBMClassifier__learning_rate=0.1, LGBMClassifier__n_estimators=400, score=0.744, total=   0.1s\n",
            "[Parallel(n_jobs=1)]: Done  44 out of  44 | elapsed:    3.7s remaining:    0.0s\n",
            "[CV] LGBMClassifier__boosting_type=gbdt, LGBMClassifier__learning_rate=0.1, LGBMClassifier__n_estimators=400 \n",
            "[ColumnTransformer] ........... (1 of 2) Processing num, total=   0.0s\n",
            "[ColumnTransformer] ........... (2 of 2) Processing cat, total=   0.0s\n",
            "[CV]  LGBMClassifier__boosting_type=gbdt, LGBMClassifier__learning_rate=0.1, LGBMClassifier__n_estimators=400, score=0.769, total=   0.1s\n",
            "[Parallel(n_jobs=1)]: Done  45 out of  45 | elapsed:    3.8s remaining:    0.0s\n",
            "[CV] LGBMClassifier__boosting_type=gbdt, LGBMClassifier__learning_rate=0.1, LGBMClassifier__n_estimators=500 \n",
            "[ColumnTransformer] ........... (1 of 2) Processing num, total=   0.0s\n",
            "[ColumnTransformer] ........... (2 of 2) Processing cat, total=   0.0s\n",
            "[CV]  LGBMClassifier__boosting_type=gbdt, LGBMClassifier__learning_rate=0.1, LGBMClassifier__n_estimators=500, score=0.675, total=   0.1s\n",
            "[Parallel(n_jobs=1)]: Done  46 out of  46 | elapsed:    4.0s remaining:    0.0s\n",
            "[CV] LGBMClassifier__boosting_type=gbdt, LGBMClassifier__learning_rate=0.1, LGBMClassifier__n_estimators=500 \n",
            "[ColumnTransformer] ........... (1 of 2) Processing num, total=   0.0s\n",
            "[ColumnTransformer] ........... (2 of 2) Processing cat, total=   0.0s\n",
            "[CV]  LGBMClassifier__boosting_type=gbdt, LGBMClassifier__learning_rate=0.1, LGBMClassifier__n_estimators=500, score=0.692, total=   0.1s\n",
            "[Parallel(n_jobs=1)]: Done  47 out of  47 | elapsed:    4.1s remaining:    0.0s\n",
            "[CV] LGBMClassifier__boosting_type=gbdt, LGBMClassifier__learning_rate=0.1, LGBMClassifier__n_estimators=500 \n",
            "[ColumnTransformer] ........... (1 of 2) Processing num, total=   0.0s\n",
            "[ColumnTransformer] ........... (2 of 2) Processing cat, total=   0.0s\n",
            "[CV]  LGBMClassifier__boosting_type=gbdt, LGBMClassifier__learning_rate=0.1, LGBMClassifier__n_estimators=500, score=0.667, total=   0.1s\n",
            "[Parallel(n_jobs=1)]: Done  48 out of  48 | elapsed:    4.2s remaining:    0.0s\n",
            "[CV] LGBMClassifier__boosting_type=gbdt, LGBMClassifier__learning_rate=0.1, LGBMClassifier__n_estimators=500 \n",
            "[ColumnTransformer] ........... (1 of 2) Processing num, total=   0.0s\n",
            "[ColumnTransformer] ........... (2 of 2) Processing cat, total=   0.0s\n",
            "[CV]  LGBMClassifier__boosting_type=gbdt, LGBMClassifier__learning_rate=0.1, LGBMClassifier__n_estimators=500, score=0.769, total=   0.1s\n",
            "[Parallel(n_jobs=1)]: Done  49 out of  49 | elapsed:    4.3s remaining:    0.0s\n",
            "[CV] LGBMClassifier__boosting_type=gbdt, LGBMClassifier__learning_rate=0.1, LGBMClassifier__n_estimators=500 \n",
            "[ColumnTransformer] ........... (1 of 2) Processing num, total=   0.0s\n",
            "[ColumnTransformer] ........... (2 of 2) Processing cat, total=   0.0s\n",
            "[CV]  LGBMClassifier__boosting_type=gbdt, LGBMClassifier__learning_rate=0.1, LGBMClassifier__n_estimators=500, score=0.769, total=   0.1s\n",
            "[Parallel(n_jobs=1)]: Done  50 out of  50 | elapsed:    4.4s remaining:    0.0s\n",
            "[CV] LGBMClassifier__boosting_type=gbdt, LGBMClassifier__learning_rate=0.5, LGBMClassifier__n_estimators=100 \n",
            "[ColumnTransformer] ........... (1 of 2) Processing num, total=   0.0s\n",
            "[ColumnTransformer] ........... (2 of 2) Processing cat, total=   0.0s\n",
            "[CV]  LGBMClassifier__boosting_type=gbdt, LGBMClassifier__learning_rate=0.5, LGBMClassifier__n_estimators=100, score=0.725, total=   0.0s\n",
            "[Parallel(n_jobs=1)]: Done  51 out of  51 | elapsed:    4.5s remaining:    0.0s\n",
            "[CV] LGBMClassifier__boosting_type=gbdt, LGBMClassifier__learning_rate=0.5, LGBMClassifier__n_estimators=100 \n",
            "[ColumnTransformer] ........... (1 of 2) Processing num, total=   0.0s\n",
            "[ColumnTransformer] ........... (2 of 2) Processing cat, total=   0.0s\n",
            "[CV]  LGBMClassifier__boosting_type=gbdt, LGBMClassifier__learning_rate=0.5, LGBMClassifier__n_estimators=100, score=0.667, total=   0.0s\n",
            "[Parallel(n_jobs=1)]: Done  52 out of  52 | elapsed:    4.5s remaining:    0.0s\n",
            "[CV] LGBMClassifier__boosting_type=gbdt, LGBMClassifier__learning_rate=0.5, LGBMClassifier__n_estimators=100 \n",
            "[ColumnTransformer] ........... (1 of 2) Processing num, total=   0.0s\n",
            "[ColumnTransformer] ........... (2 of 2) Processing cat, total=   0.0s\n",
            "[CV]  LGBMClassifier__boosting_type=gbdt, LGBMClassifier__learning_rate=0.5, LGBMClassifier__n_estimators=100, score=0.692, total=   0.1s\n",
            "[Parallel(n_jobs=1)]: Done  53 out of  53 | elapsed:    4.6s remaining:    0.0s\n",
            "[CV] LGBMClassifier__boosting_type=gbdt, LGBMClassifier__learning_rate=0.5, LGBMClassifier__n_estimators=100 \n",
            "[ColumnTransformer] ........... (1 of 2) Processing num, total=   0.0s\n",
            "[ColumnTransformer] ........... (2 of 2) Processing cat, total=   0.0s\n",
            "[CV]  LGBMClassifier__boosting_type=gbdt, LGBMClassifier__learning_rate=0.5, LGBMClassifier__n_estimators=100, score=0.718, total=   0.1s\n",
            "[Parallel(n_jobs=1)]: Done  54 out of  54 | elapsed:    4.7s remaining:    0.0s\n",
            "[CV] LGBMClassifier__boosting_type=gbdt, LGBMClassifier__learning_rate=0.5, LGBMClassifier__n_estimators=100 \n",
            "[ColumnTransformer] ........... (1 of 2) Processing num, total=   0.0s\n",
            "[ColumnTransformer] ........... (2 of 2) Processing cat, total=   0.0s\n",
            "[CV]  LGBMClassifier__boosting_type=gbdt, LGBMClassifier__learning_rate=0.5, LGBMClassifier__n_estimators=100, score=0.744, total=   0.1s\n",
            "[Parallel(n_jobs=1)]: Done  55 out of  55 | elapsed:    4.7s remaining:    0.0s\n",
            "[CV] LGBMClassifier__boosting_type=gbdt, LGBMClassifier__learning_rate=0.5, LGBMClassifier__n_estimators=200 \n",
            "[ColumnTransformer] ........... (1 of 2) Processing num, total=   0.0s\n",
            "[ColumnTransformer] ........... (2 of 2) Processing cat, total=   0.0s\n",
            "[CV]  LGBMClassifier__boosting_type=gbdt, LGBMClassifier__learning_rate=0.5, LGBMClassifier__n_estimators=200, score=0.725, total=   0.1s\n",
            "[Parallel(n_jobs=1)]: Done  56 out of  56 | elapsed:    4.8s remaining:    0.0s\n",
            "[CV] LGBMClassifier__boosting_type=gbdt, LGBMClassifier__learning_rate=0.5, LGBMClassifier__n_estimators=200 \n",
            "[ColumnTransformer] ........... (1 of 2) Processing num, total=   0.0s\n",
            "[ColumnTransformer] ........... (2 of 2) Processing cat, total=   0.0s\n",
            "[CV]  LGBMClassifier__boosting_type=gbdt, LGBMClassifier__learning_rate=0.5, LGBMClassifier__n_estimators=200, score=0.718, total=   0.1s\n",
            "[Parallel(n_jobs=1)]: Done  57 out of  57 | elapsed:    4.9s remaining:    0.0s\n",
            "[CV] LGBMClassifier__boosting_type=gbdt, LGBMClassifier__learning_rate=0.5, LGBMClassifier__n_estimators=200 \n",
            "[ColumnTransformer] ........... (1 of 2) Processing num, total=   0.0s\n",
            "[ColumnTransformer] ........... (2 of 2) Processing cat, total=   0.0s\n",
            "[CV]  LGBMClassifier__boosting_type=gbdt, LGBMClassifier__learning_rate=0.5, LGBMClassifier__n_estimators=200, score=0.641, total=   0.1s\n",
            "[Parallel(n_jobs=1)]: Done  58 out of  58 | elapsed:    5.0s remaining:    0.0s\n",
            "[CV] LGBMClassifier__boosting_type=gbdt, LGBMClassifier__learning_rate=0.5, LGBMClassifier__n_estimators=200 \n",
            "[ColumnTransformer] ........... (1 of 2) Processing num, total=   0.0s\n",
            "[ColumnTransformer] ........... (2 of 2) Processing cat, total=   0.0s\n",
            "[CV]  LGBMClassifier__boosting_type=gbdt, LGBMClassifier__learning_rate=0.5, LGBMClassifier__n_estimators=200, score=0.744, total=   0.1s\n",
            "[Parallel(n_jobs=1)]: Done  59 out of  59 | elapsed:    5.0s remaining:    0.0s\n",
            "[CV] LGBMClassifier__boosting_type=gbdt, LGBMClassifier__learning_rate=0.5, LGBMClassifier__n_estimators=200 \n",
            "[ColumnTransformer] ........... (1 of 2) Processing num, total=   0.0s\n",
            "[ColumnTransformer] ........... (2 of 2) Processing cat, total=   0.0s\n",
            "[CV]  LGBMClassifier__boosting_type=gbdt, LGBMClassifier__learning_rate=0.5, LGBMClassifier__n_estimators=200, score=0.744, total=   0.1s\n",
            "[Parallel(n_jobs=1)]: Done  60 out of  60 | elapsed:    5.1s remaining:    0.0s\n",
            "[CV] LGBMClassifier__boosting_type=gbdt, LGBMClassifier__learning_rate=0.5, LGBMClassifier__n_estimators=300 \n",
            "[ColumnTransformer] ........... (1 of 2) Processing num, total=   0.0s\n",
            "[ColumnTransformer] ........... (2 of 2) Processing cat, total=   0.0s\n",
            "[CV]  LGBMClassifier__boosting_type=gbdt, LGBMClassifier__learning_rate=0.5, LGBMClassifier__n_estimators=300, score=0.725, total=   0.1s\n",
            "[Parallel(n_jobs=1)]: Done  61 out of  61 | elapsed:    5.2s remaining:    0.0s\n",
            "[CV] LGBMClassifier__boosting_type=gbdt, LGBMClassifier__learning_rate=0.5, LGBMClassifier__n_estimators=300 \n",
            "[ColumnTransformer] ........... (1 of 2) Processing num, total=   0.0s\n",
            "[ColumnTransformer] ........... (2 of 2) Processing cat, total=   0.0s\n",
            "[CV]  LGBMClassifier__boosting_type=gbdt, LGBMClassifier__learning_rate=0.5, LGBMClassifier__n_estimators=300, score=0.692, total=   0.1s\n",
            "[Parallel(n_jobs=1)]: Done  62 out of  62 | elapsed:    5.3s remaining:    0.0s\n",
            "[CV] LGBMClassifier__boosting_type=gbdt, LGBMClassifier__learning_rate=0.5, LGBMClassifier__n_estimators=300 \n",
            "[ColumnTransformer] ........... (1 of 2) Processing num, total=   0.0s\n",
            "[ColumnTransformer] ........... (2 of 2) Processing cat, total=   0.0s\n",
            "[CV]  LGBMClassifier__boosting_type=gbdt, LGBMClassifier__learning_rate=0.5, LGBMClassifier__n_estimators=300, score=0.641, total=   0.1s\n",
            "[Parallel(n_jobs=1)]: Done  63 out of  63 | elapsed:    5.4s remaining:    0.0s\n",
            "[CV] LGBMClassifier__boosting_type=gbdt, LGBMClassifier__learning_rate=0.5, LGBMClassifier__n_estimators=300 \n",
            "[ColumnTransformer] ........... (1 of 2) Processing num, total=   0.0s\n",
            "[ColumnTransformer] ........... (2 of 2) Processing cat, total=   0.0s\n",
            "[CV]  LGBMClassifier__boosting_type=gbdt, LGBMClassifier__learning_rate=0.5, LGBMClassifier__n_estimators=300, score=0.718, total=   0.1s\n",
            "[Parallel(n_jobs=1)]: Done  64 out of  64 | elapsed:    5.5s remaining:    0.0s\n",
            "[CV] LGBMClassifier__boosting_type=gbdt, LGBMClassifier__learning_rate=0.5, LGBMClassifier__n_estimators=300 \n",
            "[ColumnTransformer] ........... (1 of 2) Processing num, total=   0.0s\n",
            "[ColumnTransformer] ........... (2 of 2) Processing cat, total=   0.0s\n",
            "[CV]  LGBMClassifier__boosting_type=gbdt, LGBMClassifier__learning_rate=0.5, LGBMClassifier__n_estimators=300, score=0.744, total=   0.1s\n",
            "[Parallel(n_jobs=1)]: Done  65 out of  65 | elapsed:    5.6s remaining:    0.0s\n",
            "[CV] LGBMClassifier__boosting_type=gbdt, LGBMClassifier__learning_rate=0.5, LGBMClassifier__n_estimators=400 \n",
            "[ColumnTransformer] ........... (1 of 2) Processing num, total=   0.0s\n",
            "[ColumnTransformer] ........... (2 of 2) Processing cat, total=   0.0s\n",
            "[CV]  LGBMClassifier__boosting_type=gbdt, LGBMClassifier__learning_rate=0.5, LGBMClassifier__n_estimators=400, score=0.700, total=   0.1s\n",
            "[Parallel(n_jobs=1)]: Done  66 out of  66 | elapsed:    5.7s remaining:    0.0s\n",
            "[CV] LGBMClassifier__boosting_type=gbdt, LGBMClassifier__learning_rate=0.5, LGBMClassifier__n_estimators=400 \n",
            "[ColumnTransformer] ........... (1 of 2) Processing num, total=   0.0s\n",
            "[ColumnTransformer] ........... (2 of 2) Processing cat, total=   0.0s\n",
            "[CV]  LGBMClassifier__boosting_type=gbdt, LGBMClassifier__learning_rate=0.5, LGBMClassifier__n_estimators=400, score=0.769, total=   0.1s\n",
            "[Parallel(n_jobs=1)]: Done  67 out of  67 | elapsed:    5.8s remaining:    0.0s\n",
            "[CV] LGBMClassifier__boosting_type=gbdt, LGBMClassifier__learning_rate=0.5, LGBMClassifier__n_estimators=400 \n",
            "[ColumnTransformer] ........... (1 of 2) Processing num, total=   0.0s\n",
            "[ColumnTransformer] ........... (2 of 2) Processing cat, total=   0.0s\n",
            "[CV]  LGBMClassifier__boosting_type=gbdt, LGBMClassifier__learning_rate=0.5, LGBMClassifier__n_estimators=400, score=0.641, total=   0.1s\n",
            "[Parallel(n_jobs=1)]: Done  68 out of  68 | elapsed:    5.9s remaining:    0.0s\n",
            "[CV] LGBMClassifier__boosting_type=gbdt, LGBMClassifier__learning_rate=0.5, LGBMClassifier__n_estimators=400 \n",
            "[ColumnTransformer] ........... (1 of 2) Processing num, total=   0.0s\n",
            "[ColumnTransformer] ........... (2 of 2) Processing cat, total=   0.0s\n",
            "[CV]  LGBMClassifier__boosting_type=gbdt, LGBMClassifier__learning_rate=0.5, LGBMClassifier__n_estimators=400, score=0.718, total=   0.1s\n",
            "[Parallel(n_jobs=1)]: Done  69 out of  69 | elapsed:    6.0s remaining:    0.0s\n",
            "[CV] LGBMClassifier__boosting_type=gbdt, LGBMClassifier__learning_rate=0.5, LGBMClassifier__n_estimators=400 \n",
            "[ColumnTransformer] ........... (1 of 2) Processing num, total=   0.0s\n",
            "[ColumnTransformer] ........... (2 of 2) Processing cat, total=   0.0s\n",
            "[CV]  LGBMClassifier__boosting_type=gbdt, LGBMClassifier__learning_rate=0.5, LGBMClassifier__n_estimators=400, score=0.769, total=   0.1s\n",
            "[Parallel(n_jobs=1)]: Done  70 out of  70 | elapsed:    6.1s remaining:    0.0s\n",
            "[CV] LGBMClassifier__boosting_type=gbdt, LGBMClassifier__learning_rate=0.5, LGBMClassifier__n_estimators=500 \n",
            "[ColumnTransformer] ........... (1 of 2) Processing num, total=   0.0s\n",
            "[ColumnTransformer] ........... (2 of 2) Processing cat, total=   0.0s\n",
            "[CV]  LGBMClassifier__boosting_type=gbdt, LGBMClassifier__learning_rate=0.5, LGBMClassifier__n_estimators=500, score=0.725, total=   0.1s\n",
            "[Parallel(n_jobs=1)]: Done  71 out of  71 | elapsed:    6.2s remaining:    0.0s\n",
            "[CV] LGBMClassifier__boosting_type=gbdt, LGBMClassifier__learning_rate=0.5, LGBMClassifier__n_estimators=500 \n",
            "[ColumnTransformer] ........... (1 of 2) Processing num, total=   0.0s\n",
            "[ColumnTransformer] ........... (2 of 2) Processing cat, total=   0.0s\n",
            "[CV]  LGBMClassifier__boosting_type=gbdt, LGBMClassifier__learning_rate=0.5, LGBMClassifier__n_estimators=500, score=0.744, total=   0.1s\n",
            "[Parallel(n_jobs=1)]: Done  72 out of  72 | elapsed:    6.3s remaining:    0.0s\n",
            "[CV] LGBMClassifier__boosting_type=gbdt, LGBMClassifier__learning_rate=0.5, LGBMClassifier__n_estimators=500 \n",
            "[ColumnTransformer] ........... (1 of 2) Processing num, total=   0.0s\n",
            "[ColumnTransformer] ........... (2 of 2) Processing cat, total=   0.0s\n",
            "[CV]  LGBMClassifier__boosting_type=gbdt, LGBMClassifier__learning_rate=0.5, LGBMClassifier__n_estimators=500, score=0.615, total=   0.1s\n",
            "[Parallel(n_jobs=1)]: Done  73 out of  73 | elapsed:    6.4s remaining:    0.0s\n",
            "[CV] LGBMClassifier__boosting_type=gbdt, LGBMClassifier__learning_rate=0.5, LGBMClassifier__n_estimators=500 \n",
            "[ColumnTransformer] ........... (1 of 2) Processing num, total=   0.0s\n",
            "[ColumnTransformer] ........... (2 of 2) Processing cat, total=   0.0s\n",
            "[CV]  LGBMClassifier__boosting_type=gbdt, LGBMClassifier__learning_rate=0.5, LGBMClassifier__n_estimators=500, score=0.718, total=   0.1s\n",
            "[Parallel(n_jobs=1)]: Done  74 out of  74 | elapsed:    6.5s remaining:    0.0s\n",
            "[CV] LGBMClassifier__boosting_type=gbdt, LGBMClassifier__learning_rate=0.5, LGBMClassifier__n_estimators=500 \n",
            "[ColumnTransformer] ........... (1 of 2) Processing num, total=   0.0s\n",
            "[ColumnTransformer] ........... (2 of 2) Processing cat, total=   0.0s\n",
            "[CV]  LGBMClassifier__boosting_type=gbdt, LGBMClassifier__learning_rate=0.5, LGBMClassifier__n_estimators=500, score=0.769, total=   0.1s\n",
            "[Parallel(n_jobs=1)]: Done  75 out of  75 | elapsed:    6.7s remaining:    0.0s\n",
            "[CV] LGBMClassifier__boosting_type=gbdt, LGBMClassifier__learning_rate=0.75, LGBMClassifier__n_estimators=100 \n",
            "[ColumnTransformer] ........... (1 of 2) Processing num, total=   0.0s\n",
            "[ColumnTransformer] ........... (2 of 2) Processing cat, total=   0.0s\n",
            "[CV]  LGBMClassifier__boosting_type=gbdt, LGBMClassifier__learning_rate=0.75, LGBMClassifier__n_estimators=100, score=0.675, total=   0.0s\n",
            "[Parallel(n_jobs=1)]: Done  76 out of  76 | elapsed:    6.7s remaining:    0.0s\n",
            "[CV] LGBMClassifier__boosting_type=gbdt, LGBMClassifier__learning_rate=0.75, LGBMClassifier__n_estimators=100 \n",
            "[ColumnTransformer] ........... (1 of 2) Processing num, total=   0.0s\n",
            "[ColumnTransformer] ........... (2 of 2) Processing cat, total=   0.0s\n",
            "[CV]  LGBMClassifier__boosting_type=gbdt, LGBMClassifier__learning_rate=0.75, LGBMClassifier__n_estimators=100, score=0.667, total=   0.0s\n",
            "[Parallel(n_jobs=1)]: Done  77 out of  77 | elapsed:    6.8s remaining:    0.0s\n",
            "[CV] LGBMClassifier__boosting_type=gbdt, LGBMClassifier__learning_rate=0.75, LGBMClassifier__n_estimators=100 \n",
            "[ColumnTransformer] ........... (1 of 2) Processing num, total=   0.0s\n",
            "[ColumnTransformer] ........... (2 of 2) Processing cat, total=   0.0s\n",
            "[CV]  LGBMClassifier__boosting_type=gbdt, LGBMClassifier__learning_rate=0.75, LGBMClassifier__n_estimators=100, score=0.615, total=   0.0s\n",
            "[Parallel(n_jobs=1)]: Done  78 out of  78 | elapsed:    6.8s remaining:    0.0s\n",
            "[CV] LGBMClassifier__boosting_type=gbdt, LGBMClassifier__learning_rate=0.75, LGBMClassifier__n_estimators=100 \n",
            "[ColumnTransformer] ........... (1 of 2) Processing num, total=   0.0s\n",
            "[ColumnTransformer] ........... (2 of 2) Processing cat, total=   0.0s\n",
            "[CV]  LGBMClassifier__boosting_type=gbdt, LGBMClassifier__learning_rate=0.75, LGBMClassifier__n_estimators=100, score=0.718, total=   0.1s\n",
            "[Parallel(n_jobs=1)]: Done  79 out of  79 | elapsed:    6.9s remaining:    0.0s\n",
            "[CV] LGBMClassifier__boosting_type=gbdt, LGBMClassifier__learning_rate=0.75, LGBMClassifier__n_estimators=100 \n",
            "[ColumnTransformer] ........... (1 of 2) Processing num, total=   0.0s\n",
            "[ColumnTransformer] ........... (2 of 2) Processing cat, total=   0.0s\n",
            "[CV]  LGBMClassifier__boosting_type=gbdt, LGBMClassifier__learning_rate=0.75, LGBMClassifier__n_estimators=100, score=0.718, total=   0.0s\n",
            "[Parallel(n_jobs=1)]: Done  80 out of  80 | elapsed:    6.9s remaining:    0.0s\n",
            "[CV] LGBMClassifier__boosting_type=gbdt, LGBMClassifier__learning_rate=0.75, LGBMClassifier__n_estimators=200 \n",
            "[ColumnTransformer] ........... (1 of 2) Processing num, total=   0.0s\n",
            "[ColumnTransformer] ........... (2 of 2) Processing cat, total=   0.0s\n",
            "[CV]  LGBMClassifier__boosting_type=gbdt, LGBMClassifier__learning_rate=0.75, LGBMClassifier__n_estimators=200, score=0.675, total=   0.1s\n",
            "[Parallel(n_jobs=1)]: Done  81 out of  81 | elapsed:    7.0s remaining:    0.0s\n",
            "[CV] LGBMClassifier__boosting_type=gbdt, LGBMClassifier__learning_rate=0.75, LGBMClassifier__n_estimators=200 \n",
            "[ColumnTransformer] ........... (1 of 2) Processing num, total=   0.0s\n",
            "[ColumnTransformer] ........... (2 of 2) Processing cat, total=   0.0s\n",
            "[CV]  LGBMClassifier__boosting_type=gbdt, LGBMClassifier__learning_rate=0.75, LGBMClassifier__n_estimators=200, score=0.718, total=   0.1s\n",
            "[Parallel(n_jobs=1)]: Done  82 out of  82 | elapsed:    7.1s remaining:    0.0s\n",
            "[CV] LGBMClassifier__boosting_type=gbdt, LGBMClassifier__learning_rate=0.75, LGBMClassifier__n_estimators=200 \n",
            "[ColumnTransformer] ........... (1 of 2) Processing num, total=   0.0s\n",
            "[ColumnTransformer] ........... (2 of 2) Processing cat, total=   0.0s\n",
            "[CV]  LGBMClassifier__boosting_type=gbdt, LGBMClassifier__learning_rate=0.75, LGBMClassifier__n_estimators=200, score=0.641, total=   0.1s\n",
            "[Parallel(n_jobs=1)]: Done  83 out of  83 | elapsed:    7.2s remaining:    0.0s\n",
            "[CV] LGBMClassifier__boosting_type=gbdt, LGBMClassifier__learning_rate=0.75, LGBMClassifier__n_estimators=200 \n",
            "[ColumnTransformer] ........... (1 of 2) Processing num, total=   0.0s\n",
            "[ColumnTransformer] ........... (2 of 2) Processing cat, total=   0.0s\n",
            "[CV]  LGBMClassifier__boosting_type=gbdt, LGBMClassifier__learning_rate=0.75, LGBMClassifier__n_estimators=200, score=0.718, total=   0.1s\n",
            "[Parallel(n_jobs=1)]: Done  84 out of  84 | elapsed:    7.2s remaining:    0.0s\n",
            "[CV] LGBMClassifier__boosting_type=gbdt, LGBMClassifier__learning_rate=0.75, LGBMClassifier__n_estimators=200 \n",
            "[ColumnTransformer] ........... (1 of 2) Processing num, total=   0.0s\n",
            "[ColumnTransformer] ........... (2 of 2) Processing cat, total=   0.0s\n",
            "[CV]  LGBMClassifier__boosting_type=gbdt, LGBMClassifier__learning_rate=0.75, LGBMClassifier__n_estimators=200, score=0.718, total=   0.1s\n",
            "[Parallel(n_jobs=1)]: Done  85 out of  85 | elapsed:    7.3s remaining:    0.0s\n",
            "[CV] LGBMClassifier__boosting_type=gbdt, LGBMClassifier__learning_rate=0.75, LGBMClassifier__n_estimators=300 \n",
            "[ColumnTransformer] ........... (1 of 2) Processing num, total=   0.0s\n",
            "[ColumnTransformer] ........... (2 of 2) Processing cat, total=   0.0s\n",
            "[CV]  LGBMClassifier__boosting_type=gbdt, LGBMClassifier__learning_rate=0.75, LGBMClassifier__n_estimators=300, score=0.675, total=   0.1s\n",
            "[Parallel(n_jobs=1)]: Done  86 out of  86 | elapsed:    7.4s remaining:    0.0s\n",
            "[CV] LGBMClassifier__boosting_type=gbdt, LGBMClassifier__learning_rate=0.75, LGBMClassifier__n_estimators=300 \n",
            "[ColumnTransformer] ........... (1 of 2) Processing num, total=   0.0s\n",
            "[ColumnTransformer] ........... (2 of 2) Processing cat, total=   0.0s\n",
            "[CV]  LGBMClassifier__boosting_type=gbdt, LGBMClassifier__learning_rate=0.75, LGBMClassifier__n_estimators=300, score=0.744, total=   0.1s\n",
            "[Parallel(n_jobs=1)]: Done  87 out of  87 | elapsed:    7.5s remaining:    0.0s\n",
            "[CV] LGBMClassifier__boosting_type=gbdt, LGBMClassifier__learning_rate=0.75, LGBMClassifier__n_estimators=300 \n",
            "[ColumnTransformer] ........... (1 of 2) Processing num, total=   0.0s\n",
            "[ColumnTransformer] ........... (2 of 2) Processing cat, total=   0.0s\n",
            "[CV]  LGBMClassifier__boosting_type=gbdt, LGBMClassifier__learning_rate=0.75, LGBMClassifier__n_estimators=300, score=0.615, total=   0.1s\n",
            "[Parallel(n_jobs=1)]: Done  88 out of  88 | elapsed:    7.6s remaining:    0.0s\n",
            "[CV] LGBMClassifier__boosting_type=gbdt, LGBMClassifier__learning_rate=0.75, LGBMClassifier__n_estimators=300 \n",
            "[ColumnTransformer] ........... (1 of 2) Processing num, total=   0.0s\n",
            "[ColumnTransformer] ........... (2 of 2) Processing cat, total=   0.0s\n",
            "[CV]  LGBMClassifier__boosting_type=gbdt, LGBMClassifier__learning_rate=0.75, LGBMClassifier__n_estimators=300, score=0.718, total=   0.1s\n",
            "[Parallel(n_jobs=1)]: Done  89 out of  89 | elapsed:    7.7s remaining:    0.0s\n",
            "[CV] LGBMClassifier__boosting_type=gbdt, LGBMClassifier__learning_rate=0.75, LGBMClassifier__n_estimators=300 \n",
            "[ColumnTransformer] ........... (1 of 2) Processing num, total=   0.0s\n",
            "[ColumnTransformer] ........... (2 of 2) Processing cat, total=   0.0s\n",
            "[CV]  LGBMClassifier__boosting_type=gbdt, LGBMClassifier__learning_rate=0.75, LGBMClassifier__n_estimators=300, score=0.718, total=   0.1s\n",
            "[Parallel(n_jobs=1)]: Done  90 out of  90 | elapsed:    7.8s remaining:    0.0s\n",
            "[CV] LGBMClassifier__boosting_type=gbdt, LGBMClassifier__learning_rate=0.75, LGBMClassifier__n_estimators=400 \n",
            "[ColumnTransformer] ........... (1 of 2) Processing num, total=   0.0s\n",
            "[ColumnTransformer] ........... (2 of 2) Processing cat, total=   0.0s\n",
            "[CV]  LGBMClassifier__boosting_type=gbdt, LGBMClassifier__learning_rate=0.75, LGBMClassifier__n_estimators=400, score=0.675, total=   0.1s\n",
            "[Parallel(n_jobs=1)]: Done  91 out of  91 | elapsed:    7.9s remaining:    0.0s\n",
            "[CV] LGBMClassifier__boosting_type=gbdt, LGBMClassifier__learning_rate=0.75, LGBMClassifier__n_estimators=400 \n",
            "[ColumnTransformer] ........... (1 of 2) Processing num, total=   0.0s\n",
            "[ColumnTransformer] ........... (2 of 2) Processing cat, total=   0.0s\n",
            "[CV]  LGBMClassifier__boosting_type=gbdt, LGBMClassifier__learning_rate=0.75, LGBMClassifier__n_estimators=400, score=0.744, total=   0.1s\n",
            "[Parallel(n_jobs=1)]: Done  92 out of  92 | elapsed:    8.0s remaining:    0.0s\n",
            "[CV] LGBMClassifier__boosting_type=gbdt, LGBMClassifier__learning_rate=0.75, LGBMClassifier__n_estimators=400 \n",
            "[ColumnTransformer] ........... (1 of 2) Processing num, total=   0.0s\n",
            "[ColumnTransformer] ........... (2 of 2) Processing cat, total=   0.0s\n",
            "[CV]  LGBMClassifier__boosting_type=gbdt, LGBMClassifier__learning_rate=0.75, LGBMClassifier__n_estimators=400, score=0.615, total=   0.1s\n",
            "[Parallel(n_jobs=1)]: Done  93 out of  93 | elapsed:    8.1s remaining:    0.0s\n",
            "[CV] LGBMClassifier__boosting_type=gbdt, LGBMClassifier__learning_rate=0.75, LGBMClassifier__n_estimators=400 \n",
            "[ColumnTransformer] ........... (1 of 2) Processing num, total=   0.0s\n",
            "[ColumnTransformer] ........... (2 of 2) Processing cat, total=   0.0s\n",
            "[CV]  LGBMClassifier__boosting_type=gbdt, LGBMClassifier__learning_rate=0.75, LGBMClassifier__n_estimators=400, score=0.718, total=   0.1s\n",
            "[Parallel(n_jobs=1)]: Done  94 out of  94 | elapsed:    8.2s remaining:    0.0s\n",
            "[CV] LGBMClassifier__boosting_type=gbdt, LGBMClassifier__learning_rate=0.75, LGBMClassifier__n_estimators=400 \n",
            "[ColumnTransformer] ........... (1 of 2) Processing num, total=   0.0s\n",
            "[ColumnTransformer] ........... (2 of 2) Processing cat, total=   0.0s\n",
            "[CV]  LGBMClassifier__boosting_type=gbdt, LGBMClassifier__learning_rate=0.75, LGBMClassifier__n_estimators=400, score=0.718, total=   0.1s\n",
            "[Parallel(n_jobs=1)]: Done  95 out of  95 | elapsed:    8.3s remaining:    0.0s\n",
            "[CV] LGBMClassifier__boosting_type=gbdt, LGBMClassifier__learning_rate=0.75, LGBMClassifier__n_estimators=500 \n",
            "[ColumnTransformer] ........... (1 of 2) Processing num, total=   0.0s\n",
            "[ColumnTransformer] ........... (2 of 2) Processing cat, total=   0.0s\n",
            "[CV]  LGBMClassifier__boosting_type=gbdt, LGBMClassifier__learning_rate=0.75, LGBMClassifier__n_estimators=500, score=0.675, total=   0.1s\n",
            "[Parallel(n_jobs=1)]: Done  96 out of  96 | elapsed:    8.4s remaining:    0.0s\n",
            "[CV] LGBMClassifier__boosting_type=gbdt, LGBMClassifier__learning_rate=0.75, LGBMClassifier__n_estimators=500 \n",
            "[ColumnTransformer] ........... (1 of 2) Processing num, total=   0.0s\n",
            "[ColumnTransformer] ........... (2 of 2) Processing cat, total=   0.0s\n",
            "[CV]  LGBMClassifier__boosting_type=gbdt, LGBMClassifier__learning_rate=0.75, LGBMClassifier__n_estimators=500, score=0.744, total=   0.1s\n",
            "[Parallel(n_jobs=1)]: Done  97 out of  97 | elapsed:    8.5s remaining:    0.0s\n",
            "[CV] LGBMClassifier__boosting_type=gbdt, LGBMClassifier__learning_rate=0.75, LGBMClassifier__n_estimators=500 \n",
            "[ColumnTransformer] ........... (1 of 2) Processing num, total=   0.0s\n",
            "[ColumnTransformer] ........... (2 of 2) Processing cat, total=   0.0s\n",
            "[CV]  LGBMClassifier__boosting_type=gbdt, LGBMClassifier__learning_rate=0.75, LGBMClassifier__n_estimators=500, score=0.615, total=   0.1s\n",
            "[Parallel(n_jobs=1)]: Done  98 out of  98 | elapsed:    8.6s remaining:    0.0s\n",
            "[CV] LGBMClassifier__boosting_type=gbdt, LGBMClassifier__learning_rate=0.75, LGBMClassifier__n_estimators=500 \n",
            "[ColumnTransformer] ........... (1 of 2) Processing num, total=   0.0s\n",
            "[ColumnTransformer] ........... (2 of 2) Processing cat, total=   0.0s\n",
            "[CV]  LGBMClassifier__boosting_type=gbdt, LGBMClassifier__learning_rate=0.75, LGBMClassifier__n_estimators=500, score=0.718, total=   0.1s\n",
            "[Parallel(n_jobs=1)]: Done  99 out of  99 | elapsed:    8.7s remaining:    0.0s\n",
            "[CV] LGBMClassifier__boosting_type=gbdt, LGBMClassifier__learning_rate=0.75, LGBMClassifier__n_estimators=500 \n",
            "[ColumnTransformer] ........... (1 of 2) Processing num, total=   0.0s\n",
            "[ColumnTransformer] ........... (2 of 2) Processing cat, total=   0.0s\n",
            "[CV]  LGBMClassifier__boosting_type=gbdt, LGBMClassifier__learning_rate=0.75, LGBMClassifier__n_estimators=500, score=0.718, total=   0.1s\n",
            "[CV] LGBMClassifier__boosting_type=gbdt, LGBMClassifier__learning_rate=1, LGBMClassifier__n_estimators=100 \n",
            "[ColumnTransformer] ........... (1 of 2) Processing num, total=   0.0s\n",
            "[ColumnTransformer] ........... (2 of 2) Processing cat, total=   0.0s\n",
            "[CV]  LGBMClassifier__boosting_type=gbdt, LGBMClassifier__learning_rate=1, LGBMClassifier__n_estimators=100, score=0.650, total=   0.1s\n",
            "[CV] LGBMClassifier__boosting_type=gbdt, LGBMClassifier__learning_rate=1, LGBMClassifier__n_estimators=100 \n",
            "[ColumnTransformer] ........... (1 of 2) Processing num, total=   0.0s\n",
            "[ColumnTransformer] ........... (2 of 2) Processing cat, total=   0.0s\n",
            "[CV]  LGBMClassifier__boosting_type=gbdt, LGBMClassifier__learning_rate=1, LGBMClassifier__n_estimators=100, score=0.744, total=   0.1s\n",
            "[CV] LGBMClassifier__boosting_type=gbdt, LGBMClassifier__learning_rate=1, LGBMClassifier__n_estimators=100 \n",
            "[ColumnTransformer] ........... (1 of 2) Processing num, total=   0.0s\n",
            "[ColumnTransformer] ........... (2 of 2) Processing cat, total=   0.0s\n",
            "[CV]  LGBMClassifier__boosting_type=gbdt, LGBMClassifier__learning_rate=1, LGBMClassifier__n_estimators=100, score=0.667, total=   0.1s\n",
            "[CV] LGBMClassifier__boosting_type=gbdt, LGBMClassifier__learning_rate=1, LGBMClassifier__n_estimators=100 \n",
            "[ColumnTransformer] ........... (1 of 2) Processing num, total=   0.0s\n",
            "[ColumnTransformer] ........... (2 of 2) Processing cat, total=   0.0s\n",
            "[CV]  LGBMClassifier__boosting_type=gbdt, LGBMClassifier__learning_rate=1, LGBMClassifier__n_estimators=100, score=0.744, total=   0.1s\n",
            "[CV] LGBMClassifier__boosting_type=gbdt, LGBMClassifier__learning_rate=1, LGBMClassifier__n_estimators=100 \n",
            "[ColumnTransformer] ........... (1 of 2) Processing num, total=   0.0s\n",
            "[ColumnTransformer] ........... (2 of 2) Processing cat, total=   0.0s\n",
            "[CV]  LGBMClassifier__boosting_type=gbdt, LGBMClassifier__learning_rate=1, LGBMClassifier__n_estimators=100, score=0.744, total=   0.1s\n",
            "[CV] LGBMClassifier__boosting_type=gbdt, LGBMClassifier__learning_rate=1, LGBMClassifier__n_estimators=200 \n",
            "[ColumnTransformer] ........... (1 of 2) Processing num, total=   0.0s\n",
            "[ColumnTransformer] ........... (2 of 2) Processing cat, total=   0.0s\n",
            "[CV]  LGBMClassifier__boosting_type=gbdt, LGBMClassifier__learning_rate=1, LGBMClassifier__n_estimators=200, score=0.675, total=   0.1s\n",
            "[CV] LGBMClassifier__boosting_type=gbdt, LGBMClassifier__learning_rate=1, LGBMClassifier__n_estimators=200 \n",
            "[ColumnTransformer] ........... (1 of 2) Processing num, total=   0.0s\n",
            "[ColumnTransformer] ........... (2 of 2) Processing cat, total=   0.0s\n",
            "[CV]  LGBMClassifier__boosting_type=gbdt, LGBMClassifier__learning_rate=1, LGBMClassifier__n_estimators=200, score=0.718, total=   0.1s\n",
            "[CV] LGBMClassifier__boosting_type=gbdt, LGBMClassifier__learning_rate=1, LGBMClassifier__n_estimators=200 \n",
            "[ColumnTransformer] ........... (1 of 2) Processing num, total=   0.0s\n",
            "[ColumnTransformer] ........... (2 of 2) Processing cat, total=   0.0s\n",
            "[CV]  LGBMClassifier__boosting_type=gbdt, LGBMClassifier__learning_rate=1, LGBMClassifier__n_estimators=200, score=0.667, total=   0.1s\n",
            "[CV] LGBMClassifier__boosting_type=gbdt, LGBMClassifier__learning_rate=1, LGBMClassifier__n_estimators=200 \n",
            "[ColumnTransformer] ........... (1 of 2) Processing num, total=   0.0s\n",
            "[ColumnTransformer] ........... (2 of 2) Processing cat, total=   0.0s\n",
            "[CV]  LGBMClassifier__boosting_type=gbdt, LGBMClassifier__learning_rate=1, LGBMClassifier__n_estimators=200, score=0.692, total=   0.1s\n",
            "[CV] LGBMClassifier__boosting_type=gbdt, LGBMClassifier__learning_rate=1, LGBMClassifier__n_estimators=200 \n",
            "[ColumnTransformer] ........... (1 of 2) Processing num, total=   0.0s\n",
            "[ColumnTransformer] ........... (2 of 2) Processing cat, total=   0.0s\n",
            "[CV]  LGBMClassifier__boosting_type=gbdt, LGBMClassifier__learning_rate=1, LGBMClassifier__n_estimators=200, score=0.718, total=   0.1s\n",
            "[CV] LGBMClassifier__boosting_type=gbdt, LGBMClassifier__learning_rate=1, LGBMClassifier__n_estimators=300 \n",
            "[ColumnTransformer] ........... (1 of 2) Processing num, total=   0.0s\n",
            "[ColumnTransformer] ........... (2 of 2) Processing cat, total=   0.0s\n",
            "[CV]  LGBMClassifier__boosting_type=gbdt, LGBMClassifier__learning_rate=1, LGBMClassifier__n_estimators=300, score=0.675, total=   0.1s\n",
            "[CV] LGBMClassifier__boosting_type=gbdt, LGBMClassifier__learning_rate=1, LGBMClassifier__n_estimators=300 \n",
            "[ColumnTransformer] ........... (1 of 2) Processing num, total=   0.0s\n",
            "[ColumnTransformer] ........... (2 of 2) Processing cat, total=   0.0s\n",
            "[CV]  LGBMClassifier__boosting_type=gbdt, LGBMClassifier__learning_rate=1, LGBMClassifier__n_estimators=300, score=0.718, total=   0.1s\n",
            "[CV] LGBMClassifier__boosting_type=gbdt, LGBMClassifier__learning_rate=1, LGBMClassifier__n_estimators=300 \n",
            "[ColumnTransformer] ........... (1 of 2) Processing num, total=   0.0s\n",
            "[ColumnTransformer] ........... (2 of 2) Processing cat, total=   0.0s\n",
            "[CV]  LGBMClassifier__boosting_type=gbdt, LGBMClassifier__learning_rate=1, LGBMClassifier__n_estimators=300, score=0.667, total=   0.1s\n",
            "[CV] LGBMClassifier__boosting_type=gbdt, LGBMClassifier__learning_rate=1, LGBMClassifier__n_estimators=300 \n",
            "[ColumnTransformer] ........... (1 of 2) Processing num, total=   0.0s\n",
            "[ColumnTransformer] ........... (2 of 2) Processing cat, total=   0.0s\n",
            "[CV]  LGBMClassifier__boosting_type=gbdt, LGBMClassifier__learning_rate=1, LGBMClassifier__n_estimators=300, score=0.718, total=   0.1s\n",
            "[CV] LGBMClassifier__boosting_type=gbdt, LGBMClassifier__learning_rate=1, LGBMClassifier__n_estimators=300 \n",
            "[ColumnTransformer] ........... (1 of 2) Processing num, total=   0.0s\n",
            "[ColumnTransformer] ........... (2 of 2) Processing cat, total=   0.0s\n",
            "[CV]  LGBMClassifier__boosting_type=gbdt, LGBMClassifier__learning_rate=1, LGBMClassifier__n_estimators=300, score=0.718, total=   0.1s\n",
            "[CV] LGBMClassifier__boosting_type=gbdt, LGBMClassifier__learning_rate=1, LGBMClassifier__n_estimators=400 \n",
            "[ColumnTransformer] ........... (1 of 2) Processing num, total=   0.0s\n",
            "[ColumnTransformer] ........... (2 of 2) Processing cat, total=   0.0s\n",
            "[CV]  LGBMClassifier__boosting_type=gbdt, LGBMClassifier__learning_rate=1, LGBMClassifier__n_estimators=400, score=0.675, total=   0.1s\n",
            "[CV] LGBMClassifier__boosting_type=gbdt, LGBMClassifier__learning_rate=1, LGBMClassifier__n_estimators=400 \n",
            "[ColumnTransformer] ........... (1 of 2) Processing num, total=   0.0s\n",
            "[ColumnTransformer] ........... (2 of 2) Processing cat, total=   0.0s\n",
            "[CV]  LGBMClassifier__boosting_type=gbdt, LGBMClassifier__learning_rate=1, LGBMClassifier__n_estimators=400, score=0.744, total=   0.1s\n",
            "[CV] LGBMClassifier__boosting_type=gbdt, LGBMClassifier__learning_rate=1, LGBMClassifier__n_estimators=400 \n",
            "[ColumnTransformer] ........... (1 of 2) Processing num, total=   0.0s\n",
            "[ColumnTransformer] ........... (2 of 2) Processing cat, total=   0.0s\n",
            "[CV]  LGBMClassifier__boosting_type=gbdt, LGBMClassifier__learning_rate=1, LGBMClassifier__n_estimators=400, score=0.667, total=   0.1s\n",
            "[CV] LGBMClassifier__boosting_type=gbdt, LGBMClassifier__learning_rate=1, LGBMClassifier__n_estimators=400 \n",
            "[ColumnTransformer] ........... (1 of 2) Processing num, total=   0.0s\n",
            "[ColumnTransformer] ........... (2 of 2) Processing cat, total=   0.0s\n",
            "[CV]  LGBMClassifier__boosting_type=gbdt, LGBMClassifier__learning_rate=1, LGBMClassifier__n_estimators=400, score=0.718, total=   0.1s\n",
            "[CV] LGBMClassifier__boosting_type=gbdt, LGBMClassifier__learning_rate=1, LGBMClassifier__n_estimators=400 \n",
            "[ColumnTransformer] ........... (1 of 2) Processing num, total=   0.0s\n",
            "[ColumnTransformer] ........... (2 of 2) Processing cat, total=   0.0s\n",
            "[CV]  LGBMClassifier__boosting_type=gbdt, LGBMClassifier__learning_rate=1, LGBMClassifier__n_estimators=400, score=0.718, total=   0.1s\n",
            "[CV] LGBMClassifier__boosting_type=gbdt, LGBMClassifier__learning_rate=1, LGBMClassifier__n_estimators=500 \n",
            "[ColumnTransformer] ........... (1 of 2) Processing num, total=   0.0s\n",
            "[ColumnTransformer] ........... (2 of 2) Processing cat, total=   0.0s\n",
            "[CV]  LGBMClassifier__boosting_type=gbdt, LGBMClassifier__learning_rate=1, LGBMClassifier__n_estimators=500, score=0.675, total=   0.1s\n",
            "[CV] LGBMClassifier__boosting_type=gbdt, LGBMClassifier__learning_rate=1, LGBMClassifier__n_estimators=500 \n",
            "[ColumnTransformer] ........... (1 of 2) Processing num, total=   0.0s\n",
            "[ColumnTransformer] ........... (2 of 2) Processing cat, total=   0.0s\n",
            "[CV]  LGBMClassifier__boosting_type=gbdt, LGBMClassifier__learning_rate=1, LGBMClassifier__n_estimators=500, score=0.744, total=   0.1s\n",
            "[CV] LGBMClassifier__boosting_type=gbdt, LGBMClassifier__learning_rate=1, LGBMClassifier__n_estimators=500 \n",
            "[ColumnTransformer] ........... (1 of 2) Processing num, total=   0.0s\n",
            "[ColumnTransformer] ........... (2 of 2) Processing cat, total=   0.0s\n",
            "[CV]  LGBMClassifier__boosting_type=gbdt, LGBMClassifier__learning_rate=1, LGBMClassifier__n_estimators=500, score=0.667, total=   0.1s\n",
            "[CV] LGBMClassifier__boosting_type=gbdt, LGBMClassifier__learning_rate=1, LGBMClassifier__n_estimators=500 \n",
            "[ColumnTransformer] ........... (1 of 2) Processing num, total=   0.0s\n",
            "[ColumnTransformer] ........... (2 of 2) Processing cat, total=   0.0s\n",
            "[CV]  LGBMClassifier__boosting_type=gbdt, LGBMClassifier__learning_rate=1, LGBMClassifier__n_estimators=500, score=0.718, total=   0.1s\n",
            "[CV] LGBMClassifier__boosting_type=gbdt, LGBMClassifier__learning_rate=1, LGBMClassifier__n_estimators=500 \n",
            "[ColumnTransformer] ........... (1 of 2) Processing num, total=   0.0s\n",
            "[ColumnTransformer] ........... (2 of 2) Processing cat, total=   0.0s\n",
            "[CV]  LGBMClassifier__boosting_type=gbdt, LGBMClassifier__learning_rate=1, LGBMClassifier__n_estimators=500, score=0.718, total=   0.1s\n",
            "[CV] LGBMClassifier__boosting_type=dart, LGBMClassifier__learning_rate=0.01, LGBMClassifier__n_estimators=100 \n",
            "[ColumnTransformer] ........... (1 of 2) Processing num, total=   0.0s\n",
            "[ColumnTransformer] ........... (2 of 2) Processing cat, total=   0.0s\n",
            "[CV]  LGBMClassifier__boosting_type=dart, LGBMClassifier__learning_rate=0.01, LGBMClassifier__n_estimators=100, score=0.725, total=   0.1s\n",
            "[CV] LGBMClassifier__boosting_type=dart, LGBMClassifier__learning_rate=0.01, LGBMClassifier__n_estimators=100 \n",
            "[ColumnTransformer] ........... (1 of 2) Processing num, total=   0.0s\n",
            "[ColumnTransformer] ........... (2 of 2) Processing cat, total=   0.0s\n",
            "[CV]  LGBMClassifier__boosting_type=dart, LGBMClassifier__learning_rate=0.01, LGBMClassifier__n_estimators=100, score=0.667, total=   0.1s\n",
            "[CV] LGBMClassifier__boosting_type=dart, LGBMClassifier__learning_rate=0.01, LGBMClassifier__n_estimators=100 \n",
            "[ColumnTransformer] ........... (1 of 2) Processing num, total=   0.0s\n",
            "[ColumnTransformer] ........... (2 of 2) Processing cat, total=   0.0s\n",
            "[CV]  LGBMClassifier__boosting_type=dart, LGBMClassifier__learning_rate=0.01, LGBMClassifier__n_estimators=100, score=0.641, total=   0.1s\n",
            "[CV] LGBMClassifier__boosting_type=dart, LGBMClassifier__learning_rate=0.01, LGBMClassifier__n_estimators=100 \n",
            "[ColumnTransformer] ........... (1 of 2) Processing num, total=   0.0s\n",
            "[ColumnTransformer] ........... (2 of 2) Processing cat, total=   0.0s\n",
            "[CV]  LGBMClassifier__boosting_type=dart, LGBMClassifier__learning_rate=0.01, LGBMClassifier__n_estimators=100, score=0.718, total=   0.1s\n",
            "[CV] LGBMClassifier__boosting_type=dart, LGBMClassifier__learning_rate=0.01, LGBMClassifier__n_estimators=100 \n",
            "[ColumnTransformer] ........... (1 of 2) Processing num, total=   0.0s\n",
            "[ColumnTransformer] ........... (2 of 2) Processing cat, total=   0.0s\n",
            "[CV]  LGBMClassifier__boosting_type=dart, LGBMClassifier__learning_rate=0.01, LGBMClassifier__n_estimators=100, score=0.692, total=   0.1s\n",
            "[CV] LGBMClassifier__boosting_type=dart, LGBMClassifier__learning_rate=0.01, LGBMClassifier__n_estimators=200 \n",
            "[ColumnTransformer] ........... (1 of 2) Processing num, total=   0.0s\n",
            "[ColumnTransformer] ........... (2 of 2) Processing cat, total=   0.0s\n",
            "[CV]  LGBMClassifier__boosting_type=dart, LGBMClassifier__learning_rate=0.01, LGBMClassifier__n_estimators=200, score=0.700, total=   0.1s\n",
            "[CV] LGBMClassifier__boosting_type=dart, LGBMClassifier__learning_rate=0.01, LGBMClassifier__n_estimators=200 \n",
            "[ColumnTransformer] ........... (1 of 2) Processing num, total=   0.0s\n",
            "[ColumnTransformer] ........... (2 of 2) Processing cat, total=   0.0s\n",
            "[CV]  LGBMClassifier__boosting_type=dart, LGBMClassifier__learning_rate=0.01, LGBMClassifier__n_estimators=200, score=0.718, total=   0.1s\n",
            "[CV] LGBMClassifier__boosting_type=dart, LGBMClassifier__learning_rate=0.01, LGBMClassifier__n_estimators=200 \n",
            "[ColumnTransformer] ........... (1 of 2) Processing num, total=   0.0s\n",
            "[ColumnTransformer] ........... (2 of 2) Processing cat, total=   0.0s\n",
            "[CV]  LGBMClassifier__boosting_type=dart, LGBMClassifier__learning_rate=0.01, LGBMClassifier__n_estimators=200, score=0.667, total=   0.1s\n",
            "[CV] LGBMClassifier__boosting_type=dart, LGBMClassifier__learning_rate=0.01, LGBMClassifier__n_estimators=200 \n",
            "[ColumnTransformer] ........... (1 of 2) Processing num, total=   0.0s\n",
            "[ColumnTransformer] ........... (2 of 2) Processing cat, total=   0.0s\n",
            "[CV]  LGBMClassifier__boosting_type=dart, LGBMClassifier__learning_rate=0.01, LGBMClassifier__n_estimators=200, score=0.718, total=   0.1s\n",
            "[CV] LGBMClassifier__boosting_type=dart, LGBMClassifier__learning_rate=0.01, LGBMClassifier__n_estimators=200 \n",
            "[ColumnTransformer] ........... (1 of 2) Processing num, total=   0.0s\n",
            "[ColumnTransformer] ........... (2 of 2) Processing cat, total=   0.0s\n",
            "[CV]  LGBMClassifier__boosting_type=dart, LGBMClassifier__learning_rate=0.01, LGBMClassifier__n_estimators=200, score=0.692, total=   0.1s\n",
            "[CV] LGBMClassifier__boosting_type=dart, LGBMClassifier__learning_rate=0.01, LGBMClassifier__n_estimators=300 \n",
            "[ColumnTransformer] ........... (1 of 2) Processing num, total=   0.0s\n",
            "[ColumnTransformer] ........... (2 of 2) Processing cat, total=   0.0s\n",
            "[CV]  LGBMClassifier__boosting_type=dart, LGBMClassifier__learning_rate=0.01, LGBMClassifier__n_estimators=300, score=0.675, total=   0.1s\n",
            "[CV] LGBMClassifier__boosting_type=dart, LGBMClassifier__learning_rate=0.01, LGBMClassifier__n_estimators=300 \n",
            "[ColumnTransformer] ........... (1 of 2) Processing num, total=   0.0s\n",
            "[ColumnTransformer] ........... (2 of 2) Processing cat, total=   0.0s\n",
            "[CV]  LGBMClassifier__boosting_type=dart, LGBMClassifier__learning_rate=0.01, LGBMClassifier__n_estimators=300, score=0.718, total=   0.1s\n",
            "[CV] LGBMClassifier__boosting_type=dart, LGBMClassifier__learning_rate=0.01, LGBMClassifier__n_estimators=300 \n",
            "[ColumnTransformer] ........... (1 of 2) Processing num, total=   0.0s\n",
            "[ColumnTransformer] ........... (2 of 2) Processing cat, total=   0.0s\n",
            "[CV]  LGBMClassifier__boosting_type=dart, LGBMClassifier__learning_rate=0.01, LGBMClassifier__n_estimators=300, score=0.667, total=   0.1s\n",
            "[CV] LGBMClassifier__boosting_type=dart, LGBMClassifier__learning_rate=0.01, LGBMClassifier__n_estimators=300 \n",
            "[ColumnTransformer] ........... (1 of 2) Processing num, total=   0.0s\n",
            "[ColumnTransformer] ........... (2 of 2) Processing cat, total=   0.0s\n",
            "[CV]  LGBMClassifier__boosting_type=dart, LGBMClassifier__learning_rate=0.01, LGBMClassifier__n_estimators=300, score=0.718, total=   0.1s\n",
            "[CV] LGBMClassifier__boosting_type=dart, LGBMClassifier__learning_rate=0.01, LGBMClassifier__n_estimators=300 \n",
            "[ColumnTransformer] ........... (1 of 2) Processing num, total=   0.0s\n",
            "[ColumnTransformer] ........... (2 of 2) Processing cat, total=   0.0s\n",
            "[CV]  LGBMClassifier__boosting_type=dart, LGBMClassifier__learning_rate=0.01, LGBMClassifier__n_estimators=300, score=0.692, total=   0.1s\n",
            "[CV] LGBMClassifier__boosting_type=dart, LGBMClassifier__learning_rate=0.01, LGBMClassifier__n_estimators=400 \n",
            "[ColumnTransformer] ........... (1 of 2) Processing num, total=   0.0s\n",
            "[ColumnTransformer] ........... (2 of 2) Processing cat, total=   0.0s\n",
            "[CV]  LGBMClassifier__boosting_type=dart, LGBMClassifier__learning_rate=0.01, LGBMClassifier__n_estimators=400, score=0.725, total=   0.2s\n",
            "[CV] LGBMClassifier__boosting_type=dart, LGBMClassifier__learning_rate=0.01, LGBMClassifier__n_estimators=400 \n",
            "[ColumnTransformer] ........... (1 of 2) Processing num, total=   0.0s\n",
            "[ColumnTransformer] ........... (2 of 2) Processing cat, total=   0.0s\n",
            "[CV]  LGBMClassifier__boosting_type=dart, LGBMClassifier__learning_rate=0.01, LGBMClassifier__n_estimators=400, score=0.718, total=   0.2s\n",
            "[CV] LGBMClassifier__boosting_type=dart, LGBMClassifier__learning_rate=0.01, LGBMClassifier__n_estimators=400 \n",
            "[ColumnTransformer] ........... (1 of 2) Processing num, total=   0.0s\n",
            "[ColumnTransformer] ........... (2 of 2) Processing cat, total=   0.0s\n",
            "[CV]  LGBMClassifier__boosting_type=dart, LGBMClassifier__learning_rate=0.01, LGBMClassifier__n_estimators=400, score=0.667, total=   0.2s\n",
            "[CV] LGBMClassifier__boosting_type=dart, LGBMClassifier__learning_rate=0.01, LGBMClassifier__n_estimators=400 \n",
            "[ColumnTransformer] ........... (1 of 2) Processing num, total=   0.0s\n",
            "[ColumnTransformer] ........... (2 of 2) Processing cat, total=   0.0s\n",
            "[CV]  LGBMClassifier__boosting_type=dart, LGBMClassifier__learning_rate=0.01, LGBMClassifier__n_estimators=400, score=0.718, total=   0.1s\n",
            "[CV] LGBMClassifier__boosting_type=dart, LGBMClassifier__learning_rate=0.01, LGBMClassifier__n_estimators=400 \n",
            "[ColumnTransformer] ........... (1 of 2) Processing num, total=   0.0s\n",
            "[ColumnTransformer] ........... (2 of 2) Processing cat, total=   0.0s\n",
            "[CV]  LGBMClassifier__boosting_type=dart, LGBMClassifier__learning_rate=0.01, LGBMClassifier__n_estimators=400, score=0.692, total=   0.2s\n",
            "[CV] LGBMClassifier__boosting_type=dart, LGBMClassifier__learning_rate=0.01, LGBMClassifier__n_estimators=500 \n",
            "[ColumnTransformer] ........... (1 of 2) Processing num, total=   0.0s\n",
            "[ColumnTransformer] ........... (2 of 2) Processing cat, total=   0.0s\n",
            "[CV]  LGBMClassifier__boosting_type=dart, LGBMClassifier__learning_rate=0.01, LGBMClassifier__n_estimators=500, score=0.700, total=   0.2s\n",
            "[CV] LGBMClassifier__boosting_type=dart, LGBMClassifier__learning_rate=0.01, LGBMClassifier__n_estimators=500 \n",
            "[ColumnTransformer] ........... (1 of 2) Processing num, total=   0.0s\n",
            "[ColumnTransformer] ........... (2 of 2) Processing cat, total=   0.0s\n",
            "[CV]  LGBMClassifier__boosting_type=dart, LGBMClassifier__learning_rate=0.01, LGBMClassifier__n_estimators=500, score=0.718, total=   0.2s\n",
            "[CV] LGBMClassifier__boosting_type=dart, LGBMClassifier__learning_rate=0.01, LGBMClassifier__n_estimators=500 \n",
            "[ColumnTransformer] ........... (1 of 2) Processing num, total=   0.0s\n",
            "[ColumnTransformer] ........... (2 of 2) Processing cat, total=   0.0s\n",
            "[CV]  LGBMClassifier__boosting_type=dart, LGBMClassifier__learning_rate=0.01, LGBMClassifier__n_estimators=500, score=0.667, total=   0.2s\n",
            "[CV] LGBMClassifier__boosting_type=dart, LGBMClassifier__learning_rate=0.01, LGBMClassifier__n_estimators=500 \n",
            "[ColumnTransformer] ........... (1 of 2) Processing num, total=   0.0s\n",
            "[ColumnTransformer] ........... (2 of 2) Processing cat, total=   0.0s\n",
            "[CV]  LGBMClassifier__boosting_type=dart, LGBMClassifier__learning_rate=0.01, LGBMClassifier__n_estimators=500, score=0.744, total=   0.2s\n",
            "[CV] LGBMClassifier__boosting_type=dart, LGBMClassifier__learning_rate=0.01, LGBMClassifier__n_estimators=500 \n",
            "[ColumnTransformer] ........... (1 of 2) Processing num, total=   0.0s\n",
            "[ColumnTransformer] ........... (2 of 2) Processing cat, total=   0.0s\n",
            "[CV]  LGBMClassifier__boosting_type=dart, LGBMClassifier__learning_rate=0.01, LGBMClassifier__n_estimators=500, score=0.718, total=   0.2s\n",
            "[CV] LGBMClassifier__boosting_type=dart, LGBMClassifier__learning_rate=0.1, LGBMClassifier__n_estimators=100 \n",
            "[ColumnTransformer] ........... (1 of 2) Processing num, total=   0.0s\n",
            "[ColumnTransformer] ........... (2 of 2) Processing cat, total=   0.0s\n",
            "[CV]  LGBMClassifier__boosting_type=dart, LGBMClassifier__learning_rate=0.1, LGBMClassifier__n_estimators=100, score=0.675, total=   0.1s\n",
            "[CV] LGBMClassifier__boosting_type=dart, LGBMClassifier__learning_rate=0.1, LGBMClassifier__n_estimators=100 \n",
            "[ColumnTransformer] ........... (1 of 2) Processing num, total=   0.0s\n",
            "[ColumnTransformer] ........... (2 of 2) Processing cat, total=   0.0s\n",
            "[CV]  LGBMClassifier__boosting_type=dart, LGBMClassifier__learning_rate=0.1, LGBMClassifier__n_estimators=100, score=0.692, total=   0.0s\n",
            "[CV] LGBMClassifier__boosting_type=dart, LGBMClassifier__learning_rate=0.1, LGBMClassifier__n_estimators=100 \n",
            "[ColumnTransformer] ........... (1 of 2) Processing num, total=   0.0s\n",
            "[ColumnTransformer] ........... (2 of 2) Processing cat, total=   0.0s\n",
            "[CV]  LGBMClassifier__boosting_type=dart, LGBMClassifier__learning_rate=0.1, LGBMClassifier__n_estimators=100, score=0.641, total=   0.1s\n",
            "[CV] LGBMClassifier__boosting_type=dart, LGBMClassifier__learning_rate=0.1, LGBMClassifier__n_estimators=100 \n",
            "[ColumnTransformer] ........... (1 of 2) Processing num, total=   0.0s\n",
            "[ColumnTransformer] ........... (2 of 2) Processing cat, total=   0.0s\n",
            "[CV]  LGBMClassifier__boosting_type=dart, LGBMClassifier__learning_rate=0.1, LGBMClassifier__n_estimators=100, score=0.718, total=   0.1s\n",
            "[CV] LGBMClassifier__boosting_type=dart, LGBMClassifier__learning_rate=0.1, LGBMClassifier__n_estimators=100 \n",
            "[ColumnTransformer] ........... (1 of 2) Processing num, total=   0.0s\n",
            "[ColumnTransformer] ........... (2 of 2) Processing cat, total=   0.0s\n",
            "[CV]  LGBMClassifier__boosting_type=dart, LGBMClassifier__learning_rate=0.1, LGBMClassifier__n_estimators=100, score=0.718, total=   0.1s\n",
            "[CV] LGBMClassifier__boosting_type=dart, LGBMClassifier__learning_rate=0.1, LGBMClassifier__n_estimators=200 \n",
            "[ColumnTransformer] ........... (1 of 2) Processing num, total=   0.0s\n",
            "[ColumnTransformer] ........... (2 of 2) Processing cat, total=   0.0s\n",
            "[CV]  LGBMClassifier__boosting_type=dart, LGBMClassifier__learning_rate=0.1, LGBMClassifier__n_estimators=200, score=0.675, total=   0.1s\n",
            "[CV] LGBMClassifier__boosting_type=dart, LGBMClassifier__learning_rate=0.1, LGBMClassifier__n_estimators=200 \n",
            "[ColumnTransformer] ........... (1 of 2) Processing num, total=   0.0s\n",
            "[ColumnTransformer] ........... (2 of 2) Processing cat, total=   0.0s\n",
            "[CV]  LGBMClassifier__boosting_type=dart, LGBMClassifier__learning_rate=0.1, LGBMClassifier__n_estimators=200, score=0.692, total=   0.1s\n",
            "[CV] LGBMClassifier__boosting_type=dart, LGBMClassifier__learning_rate=0.1, LGBMClassifier__n_estimators=200 \n",
            "[ColumnTransformer] ........... (1 of 2) Processing num, total=   0.0s\n",
            "[ColumnTransformer] ........... (2 of 2) Processing cat, total=   0.0s\n",
            "[CV]  LGBMClassifier__boosting_type=dart, LGBMClassifier__learning_rate=0.1, LGBMClassifier__n_estimators=200, score=0.692, total=   0.1s\n",
            "[CV] LGBMClassifier__boosting_type=dart, LGBMClassifier__learning_rate=0.1, LGBMClassifier__n_estimators=200 \n",
            "[ColumnTransformer] ........... (1 of 2) Processing num, total=   0.0s\n",
            "[ColumnTransformer] ........... (2 of 2) Processing cat, total=   0.0s\n",
            "[CV]  LGBMClassifier__boosting_type=dart, LGBMClassifier__learning_rate=0.1, LGBMClassifier__n_estimators=200, score=0.744, total=   0.1s\n",
            "[CV] LGBMClassifier__boosting_type=dart, LGBMClassifier__learning_rate=0.1, LGBMClassifier__n_estimators=200 \n",
            "[ColumnTransformer] ........... (1 of 2) Processing num, total=   0.0s\n",
            "[ColumnTransformer] ........... (2 of 2) Processing cat, total=   0.0s\n",
            "[CV]  LGBMClassifier__boosting_type=dart, LGBMClassifier__learning_rate=0.1, LGBMClassifier__n_estimators=200, score=0.744, total=   0.1s\n",
            "[CV] LGBMClassifier__boosting_type=dart, LGBMClassifier__learning_rate=0.1, LGBMClassifier__n_estimators=300 \n",
            "[ColumnTransformer] ........... (1 of 2) Processing num, total=   0.0s\n",
            "[ColumnTransformer] ........... (2 of 2) Processing cat, total=   0.0s\n",
            "[CV]  LGBMClassifier__boosting_type=dart, LGBMClassifier__learning_rate=0.1, LGBMClassifier__n_estimators=300, score=0.700, total=   0.1s\n",
            "[CV] LGBMClassifier__boosting_type=dart, LGBMClassifier__learning_rate=0.1, LGBMClassifier__n_estimators=300 \n",
            "[ColumnTransformer] ........... (1 of 2) Processing num, total=   0.0s\n",
            "[ColumnTransformer] ........... (2 of 2) Processing cat, total=   0.0s\n",
            "[CV]  LGBMClassifier__boosting_type=dart, LGBMClassifier__learning_rate=0.1, LGBMClassifier__n_estimators=300, score=0.718, total=   0.1s\n",
            "[CV] LGBMClassifier__boosting_type=dart, LGBMClassifier__learning_rate=0.1, LGBMClassifier__n_estimators=300 \n",
            "[ColumnTransformer] ........... (1 of 2) Processing num, total=   0.0s\n",
            "[ColumnTransformer] ........... (2 of 2) Processing cat, total=   0.0s\n",
            "[CV]  LGBMClassifier__boosting_type=dart, LGBMClassifier__learning_rate=0.1, LGBMClassifier__n_estimators=300, score=0.692, total=   0.1s\n",
            "[CV] LGBMClassifier__boosting_type=dart, LGBMClassifier__learning_rate=0.1, LGBMClassifier__n_estimators=300 \n",
            "[ColumnTransformer] ........... (1 of 2) Processing num, total=   0.0s\n",
            "[ColumnTransformer] ........... (2 of 2) Processing cat, total=   0.0s\n",
            "[CV]  LGBMClassifier__boosting_type=dart, LGBMClassifier__learning_rate=0.1, LGBMClassifier__n_estimators=300, score=0.769, total=   0.1s\n",
            "[CV] LGBMClassifier__boosting_type=dart, LGBMClassifier__learning_rate=0.1, LGBMClassifier__n_estimators=300 \n",
            "[ColumnTransformer] ........... (1 of 2) Processing num, total=   0.0s\n",
            "[ColumnTransformer] ........... (2 of 2) Processing cat, total=   0.0s\n",
            "[CV]  LGBMClassifier__boosting_type=dart, LGBMClassifier__learning_rate=0.1, LGBMClassifier__n_estimators=300, score=0.667, total=   0.1s\n",
            "[CV] LGBMClassifier__boosting_type=dart, LGBMClassifier__learning_rate=0.1, LGBMClassifier__n_estimators=400 \n",
            "[ColumnTransformer] ........... (1 of 2) Processing num, total=   0.0s\n",
            "[ColumnTransformer] ........... (2 of 2) Processing cat, total=   0.0s\n",
            "[CV]  LGBMClassifier__boosting_type=dart, LGBMClassifier__learning_rate=0.1, LGBMClassifier__n_estimators=400, score=0.700, total=   0.2s\n",
            "[CV] LGBMClassifier__boosting_type=dart, LGBMClassifier__learning_rate=0.1, LGBMClassifier__n_estimators=400 \n",
            "[ColumnTransformer] ........... (1 of 2) Processing num, total=   0.0s\n",
            "[ColumnTransformer] ........... (2 of 2) Processing cat, total=   0.0s\n",
            "[CV]  LGBMClassifier__boosting_type=dart, LGBMClassifier__learning_rate=0.1, LGBMClassifier__n_estimators=400, score=0.692, total=   0.2s\n",
            "[CV] LGBMClassifier__boosting_type=dart, LGBMClassifier__learning_rate=0.1, LGBMClassifier__n_estimators=400 \n",
            "[ColumnTransformer] ........... (1 of 2) Processing num, total=   0.0s\n",
            "[ColumnTransformer] ........... (2 of 2) Processing cat, total=   0.0s\n",
            "[CV]  LGBMClassifier__boosting_type=dart, LGBMClassifier__learning_rate=0.1, LGBMClassifier__n_estimators=400, score=0.692, total=   0.2s\n",
            "[CV] LGBMClassifier__boosting_type=dart, LGBMClassifier__learning_rate=0.1, LGBMClassifier__n_estimators=400 \n",
            "[ColumnTransformer] ........... (1 of 2) Processing num, total=   0.0s\n",
            "[ColumnTransformer] ........... (2 of 2) Processing cat, total=   0.0s\n",
            "[CV]  LGBMClassifier__boosting_type=dart, LGBMClassifier__learning_rate=0.1, LGBMClassifier__n_estimators=400, score=0.744, total=   0.2s\n",
            "[CV] LGBMClassifier__boosting_type=dart, LGBMClassifier__learning_rate=0.1, LGBMClassifier__n_estimators=400 \n",
            "[ColumnTransformer] ........... (1 of 2) Processing num, total=   0.0s\n",
            "[ColumnTransformer] ........... (2 of 2) Processing cat, total=   0.0s\n",
            "[CV]  LGBMClassifier__boosting_type=dart, LGBMClassifier__learning_rate=0.1, LGBMClassifier__n_estimators=400, score=0.641, total=   0.2s\n",
            "[CV] LGBMClassifier__boosting_type=dart, LGBMClassifier__learning_rate=0.1, LGBMClassifier__n_estimators=500 \n",
            "[ColumnTransformer] ........... (1 of 2) Processing num, total=   0.0s\n",
            "[ColumnTransformer] ........... (2 of 2) Processing cat, total=   0.0s\n",
            "[CV]  LGBMClassifier__boosting_type=dart, LGBMClassifier__learning_rate=0.1, LGBMClassifier__n_estimators=500, score=0.700, total=   0.2s\n",
            "[CV] LGBMClassifier__boosting_type=dart, LGBMClassifier__learning_rate=0.1, LGBMClassifier__n_estimators=500 \n",
            "[ColumnTransformer] ........... (1 of 2) Processing num, total=   0.0s\n",
            "[ColumnTransformer] ........... (2 of 2) Processing cat, total=   0.0s\n",
            "[CV]  LGBMClassifier__boosting_type=dart, LGBMClassifier__learning_rate=0.1, LGBMClassifier__n_estimators=500, score=0.718, total=   0.2s\n",
            "[CV] LGBMClassifier__boosting_type=dart, LGBMClassifier__learning_rate=0.1, LGBMClassifier__n_estimators=500 \n",
            "[ColumnTransformer] ........... (1 of 2) Processing num, total=   0.0s\n",
            "[ColumnTransformer] ........... (2 of 2) Processing cat, total=   0.0s\n",
            "[CV]  LGBMClassifier__boosting_type=dart, LGBMClassifier__learning_rate=0.1, LGBMClassifier__n_estimators=500, score=0.667, total=   0.2s\n",
            "[CV] LGBMClassifier__boosting_type=dart, LGBMClassifier__learning_rate=0.1, LGBMClassifier__n_estimators=500 \n",
            "[ColumnTransformer] ........... (1 of 2) Processing num, total=   0.0s\n",
            "[ColumnTransformer] ........... (2 of 2) Processing cat, total=   0.0s\n",
            "[CV]  LGBMClassifier__boosting_type=dart, LGBMClassifier__learning_rate=0.1, LGBMClassifier__n_estimators=500, score=0.769, total=   0.2s\n",
            "[CV] LGBMClassifier__boosting_type=dart, LGBMClassifier__learning_rate=0.1, LGBMClassifier__n_estimators=500 \n",
            "[ColumnTransformer] ........... (1 of 2) Processing num, total=   0.0s\n",
            "[ColumnTransformer] ........... (2 of 2) Processing cat, total=   0.0s\n",
            "[CV]  LGBMClassifier__boosting_type=dart, LGBMClassifier__learning_rate=0.1, LGBMClassifier__n_estimators=500, score=0.718, total=   0.2s\n",
            "[CV] LGBMClassifier__boosting_type=dart, LGBMClassifier__learning_rate=0.5, LGBMClassifier__n_estimators=100 \n",
            "[ColumnTransformer] ........... (1 of 2) Processing num, total=   0.0s\n",
            "[ColumnTransformer] ........... (2 of 2) Processing cat, total=   0.0s\n",
            "[CV]  LGBMClassifier__boosting_type=dart, LGBMClassifier__learning_rate=0.5, LGBMClassifier__n_estimators=100, score=0.675, total=   0.1s\n",
            "[CV] LGBMClassifier__boosting_type=dart, LGBMClassifier__learning_rate=0.5, LGBMClassifier__n_estimators=100 \n",
            "[ColumnTransformer] ........... (1 of 2) Processing num, total=   0.0s\n",
            "[ColumnTransformer] ........... (2 of 2) Processing cat, total=   0.0s\n",
            "[CV]  LGBMClassifier__boosting_type=dart, LGBMClassifier__learning_rate=0.5, LGBMClassifier__n_estimators=100, score=0.769, total=   0.0s\n",
            "[CV] LGBMClassifier__boosting_type=dart, LGBMClassifier__learning_rate=0.5, LGBMClassifier__n_estimators=100 \n",
            "[ColumnTransformer] ........... (1 of 2) Processing num, total=   0.0s\n",
            "[ColumnTransformer] ........... (2 of 2) Processing cat, total=   0.0s\n",
            "[CV]  LGBMClassifier__boosting_type=dart, LGBMClassifier__learning_rate=0.5, LGBMClassifier__n_estimators=100, score=0.744, total=   0.1s\n",
            "[CV] LGBMClassifier__boosting_type=dart, LGBMClassifier__learning_rate=0.5, LGBMClassifier__n_estimators=100 \n",
            "[ColumnTransformer] ........... (1 of 2) Processing num, total=   0.0s\n",
            "[ColumnTransformer] ........... (2 of 2) Processing cat, total=   0.0s\n",
            "[CV]  LGBMClassifier__boosting_type=dart, LGBMClassifier__learning_rate=0.5, LGBMClassifier__n_estimators=100, score=0.769, total=   0.1s\n",
            "[CV] LGBMClassifier__boosting_type=dart, LGBMClassifier__learning_rate=0.5, LGBMClassifier__n_estimators=100 \n",
            "[ColumnTransformer] ........... (1 of 2) Processing num, total=   0.0s\n",
            "[ColumnTransformer] ........... (2 of 2) Processing cat, total=   0.0s\n",
            "[CV]  LGBMClassifier__boosting_type=dart, LGBMClassifier__learning_rate=0.5, LGBMClassifier__n_estimators=100, score=0.769, total=   0.1s\n",
            "[CV] LGBMClassifier__boosting_type=dart, LGBMClassifier__learning_rate=0.5, LGBMClassifier__n_estimators=200 \n",
            "[ColumnTransformer] ........... (1 of 2) Processing num, total=   0.0s\n",
            "[ColumnTransformer] ........... (2 of 2) Processing cat, total=   0.0s\n",
            "[CV]  LGBMClassifier__boosting_type=dart, LGBMClassifier__learning_rate=0.5, LGBMClassifier__n_estimators=200, score=0.650, total=   0.1s\n",
            "[CV] LGBMClassifier__boosting_type=dart, LGBMClassifier__learning_rate=0.5, LGBMClassifier__n_estimators=200 \n",
            "[ColumnTransformer] ........... (1 of 2) Processing num, total=   0.0s\n",
            "[ColumnTransformer] ........... (2 of 2) Processing cat, total=   0.0s\n",
            "[CV]  LGBMClassifier__boosting_type=dart, LGBMClassifier__learning_rate=0.5, LGBMClassifier__n_estimators=200, score=0.692, total=   0.1s\n",
            "[CV] LGBMClassifier__boosting_type=dart, LGBMClassifier__learning_rate=0.5, LGBMClassifier__n_estimators=200 \n",
            "[ColumnTransformer] ........... (1 of 2) Processing num, total=   0.0s\n",
            "[ColumnTransformer] ........... (2 of 2) Processing cat, total=   0.0s\n",
            "[CV]  LGBMClassifier__boosting_type=dart, LGBMClassifier__learning_rate=0.5, LGBMClassifier__n_estimators=200, score=0.667, total=   0.1s\n",
            "[CV] LGBMClassifier__boosting_type=dart, LGBMClassifier__learning_rate=0.5, LGBMClassifier__n_estimators=200 \n",
            "[ColumnTransformer] ........... (1 of 2) Processing num, total=   0.0s\n",
            "[ColumnTransformer] ........... (2 of 2) Processing cat, total=   0.0s\n",
            "[CV]  LGBMClassifier__boosting_type=dart, LGBMClassifier__learning_rate=0.5, LGBMClassifier__n_estimators=200, score=0.692, total=   0.1s\n",
            "[CV] LGBMClassifier__boosting_type=dart, LGBMClassifier__learning_rate=0.5, LGBMClassifier__n_estimators=200 \n",
            "[ColumnTransformer] ........... (1 of 2) Processing num, total=   0.0s\n",
            "[ColumnTransformer] ........... (2 of 2) Processing cat, total=   0.0s\n",
            "[CV]  LGBMClassifier__boosting_type=dart, LGBMClassifier__learning_rate=0.5, LGBMClassifier__n_estimators=200, score=0.744, total=   0.1s\n",
            "[CV] LGBMClassifier__boosting_type=dart, LGBMClassifier__learning_rate=0.5, LGBMClassifier__n_estimators=300 \n",
            "[ColumnTransformer] ........... (1 of 2) Processing num, total=   0.0s\n",
            "[ColumnTransformer] ........... (2 of 2) Processing cat, total=   0.0s\n",
            "[CV]  LGBMClassifier__boosting_type=dart, LGBMClassifier__learning_rate=0.5, LGBMClassifier__n_estimators=300, score=0.700, total=   0.2s\n",
            "[CV] LGBMClassifier__boosting_type=dart, LGBMClassifier__learning_rate=0.5, LGBMClassifier__n_estimators=300 \n",
            "[ColumnTransformer] ........... (1 of 2) Processing num, total=   0.0s\n",
            "[ColumnTransformer] ........... (2 of 2) Processing cat, total=   0.0s\n",
            "[CV]  LGBMClassifier__boosting_type=dart, LGBMClassifier__learning_rate=0.5, LGBMClassifier__n_estimators=300, score=0.615, total=   0.2s\n",
            "[CV] LGBMClassifier__boosting_type=dart, LGBMClassifier__learning_rate=0.5, LGBMClassifier__n_estimators=300 \n",
            "[ColumnTransformer] ........... (1 of 2) Processing num, total=   0.0s\n",
            "[ColumnTransformer] ........... (2 of 2) Processing cat, total=   0.0s\n",
            "[CV]  LGBMClassifier__boosting_type=dart, LGBMClassifier__learning_rate=0.5, LGBMClassifier__n_estimators=300, score=0.692, total=   0.2s\n",
            "[CV] LGBMClassifier__boosting_type=dart, LGBMClassifier__learning_rate=0.5, LGBMClassifier__n_estimators=300 \n",
            "[ColumnTransformer] ........... (1 of 2) Processing num, total=   0.0s\n",
            "[ColumnTransformer] ........... (2 of 2) Processing cat, total=   0.0s\n",
            "[CV]  LGBMClassifier__boosting_type=dart, LGBMClassifier__learning_rate=0.5, LGBMClassifier__n_estimators=300, score=0.718, total=   0.2s\n",
            "[CV] LGBMClassifier__boosting_type=dart, LGBMClassifier__learning_rate=0.5, LGBMClassifier__n_estimators=300 \n",
            "[ColumnTransformer] ........... (1 of 2) Processing num, total=   0.0s\n",
            "[ColumnTransformer] ........... (2 of 2) Processing cat, total=   0.0s\n",
            "[CV]  LGBMClassifier__boosting_type=dart, LGBMClassifier__learning_rate=0.5, LGBMClassifier__n_estimators=300, score=0.718, total=   0.1s\n",
            "[CV] LGBMClassifier__boosting_type=dart, LGBMClassifier__learning_rate=0.5, LGBMClassifier__n_estimators=400 \n",
            "[ColumnTransformer] ........... (1 of 2) Processing num, total=   0.0s\n",
            "[ColumnTransformer] ........... (2 of 2) Processing cat, total=   0.0s\n",
            "[CV]  LGBMClassifier__boosting_type=dart, LGBMClassifier__learning_rate=0.5, LGBMClassifier__n_estimators=400, score=0.675, total=   0.2s\n",
            "[CV] LGBMClassifier__boosting_type=dart, LGBMClassifier__learning_rate=0.5, LGBMClassifier__n_estimators=400 \n",
            "[ColumnTransformer] ........... (1 of 2) Processing num, total=   0.0s\n",
            "[ColumnTransformer] ........... (2 of 2) Processing cat, total=   0.0s\n",
            "[CV]  LGBMClassifier__boosting_type=dart, LGBMClassifier__learning_rate=0.5, LGBMClassifier__n_estimators=400, score=0.641, total=   0.2s\n",
            "[CV] LGBMClassifier__boosting_type=dart, LGBMClassifier__learning_rate=0.5, LGBMClassifier__n_estimators=400 \n",
            "[ColumnTransformer] ........... (1 of 2) Processing num, total=   0.0s\n",
            "[ColumnTransformer] ........... (2 of 2) Processing cat, total=   0.0s\n",
            "[CV]  LGBMClassifier__boosting_type=dart, LGBMClassifier__learning_rate=0.5, LGBMClassifier__n_estimators=400, score=0.667, total=   0.2s\n",
            "[CV] LGBMClassifier__boosting_type=dart, LGBMClassifier__learning_rate=0.5, LGBMClassifier__n_estimators=400 \n",
            "[ColumnTransformer] ........... (1 of 2) Processing num, total=   0.0s\n",
            "[ColumnTransformer] ........... (2 of 2) Processing cat, total=   0.0s\n",
            "[CV]  LGBMClassifier__boosting_type=dart, LGBMClassifier__learning_rate=0.5, LGBMClassifier__n_estimators=400, score=0.718, total=   0.2s\n",
            "[CV] LGBMClassifier__boosting_type=dart, LGBMClassifier__learning_rate=0.5, LGBMClassifier__n_estimators=400 \n",
            "[ColumnTransformer] ........... (1 of 2) Processing num, total=   0.0s\n",
            "[ColumnTransformer] ........... (2 of 2) Processing cat, total=   0.0s\n",
            "[CV]  LGBMClassifier__boosting_type=dart, LGBMClassifier__learning_rate=0.5, LGBMClassifier__n_estimators=400, score=0.769, total=   0.2s\n",
            "[CV] LGBMClassifier__boosting_type=dart, LGBMClassifier__learning_rate=0.5, LGBMClassifier__n_estimators=500 \n",
            "[ColumnTransformer] ........... (1 of 2) Processing num, total=   0.0s\n",
            "[ColumnTransformer] ........... (2 of 2) Processing cat, total=   0.0s\n",
            "[CV]  LGBMClassifier__boosting_type=dart, LGBMClassifier__learning_rate=0.5, LGBMClassifier__n_estimators=500, score=0.725, total=   0.3s\n",
            "[CV] LGBMClassifier__boosting_type=dart, LGBMClassifier__learning_rate=0.5, LGBMClassifier__n_estimators=500 \n",
            "[ColumnTransformer] ........... (1 of 2) Processing num, total=   0.0s\n",
            "[ColumnTransformer] ........... (2 of 2) Processing cat, total=   0.0s\n",
            "[CV]  LGBMClassifier__boosting_type=dart, LGBMClassifier__learning_rate=0.5, LGBMClassifier__n_estimators=500, score=0.667, total=   0.2s\n",
            "[CV] LGBMClassifier__boosting_type=dart, LGBMClassifier__learning_rate=0.5, LGBMClassifier__n_estimators=500 \n",
            "[ColumnTransformer] ........... (1 of 2) Processing num, total=   0.0s\n",
            "[ColumnTransformer] ........... (2 of 2) Processing cat, total=   0.0s\n",
            "[CV]  LGBMClassifier__boosting_type=dart, LGBMClassifier__learning_rate=0.5, LGBMClassifier__n_estimators=500, score=0.667, total=   0.2s\n",
            "[CV] LGBMClassifier__boosting_type=dart, LGBMClassifier__learning_rate=0.5, LGBMClassifier__n_estimators=500 \n",
            "[ColumnTransformer] ........... (1 of 2) Processing num, total=   0.0s\n",
            "[ColumnTransformer] ........... (2 of 2) Processing cat, total=   0.0s\n",
            "[CV]  LGBMClassifier__boosting_type=dart, LGBMClassifier__learning_rate=0.5, LGBMClassifier__n_estimators=500, score=0.744, total=   0.2s\n",
            "[CV] LGBMClassifier__boosting_type=dart, LGBMClassifier__learning_rate=0.5, LGBMClassifier__n_estimators=500 \n",
            "[ColumnTransformer] ........... (1 of 2) Processing num, total=   0.0s\n",
            "[ColumnTransformer] ........... (2 of 2) Processing cat, total=   0.0s\n",
            "[CV]  LGBMClassifier__boosting_type=dart, LGBMClassifier__learning_rate=0.5, LGBMClassifier__n_estimators=500, score=0.795, total=   0.2s\n",
            "[CV] LGBMClassifier__boosting_type=dart, LGBMClassifier__learning_rate=0.75, LGBMClassifier__n_estimators=100 \n",
            "[ColumnTransformer] ........... (1 of 2) Processing num, total=   0.0s\n",
            "[ColumnTransformer] ........... (2 of 2) Processing cat, total=   0.0s\n",
            "[CV]  LGBMClassifier__boosting_type=dart, LGBMClassifier__learning_rate=0.75, LGBMClassifier__n_estimators=100, score=0.650, total=   0.1s\n",
            "[CV] LGBMClassifier__boosting_type=dart, LGBMClassifier__learning_rate=0.75, LGBMClassifier__n_estimators=100 \n",
            "[ColumnTransformer] ........... (1 of 2) Processing num, total=   0.0s\n",
            "[ColumnTransformer] ........... (2 of 2) Processing cat, total=   0.0s\n",
            "[CV]  LGBMClassifier__boosting_type=dart, LGBMClassifier__learning_rate=0.75, LGBMClassifier__n_estimators=100, score=0.769, total=   0.1s\n",
            "[CV] LGBMClassifier__boosting_type=dart, LGBMClassifier__learning_rate=0.75, LGBMClassifier__n_estimators=100 \n",
            "[ColumnTransformer] ........... (1 of 2) Processing num, total=   0.0s\n",
            "[ColumnTransformer] ........... (2 of 2) Processing cat, total=   0.0s\n",
            "[CV]  LGBMClassifier__boosting_type=dart, LGBMClassifier__learning_rate=0.75, LGBMClassifier__n_estimators=100, score=0.667, total=   0.1s\n",
            "[CV] LGBMClassifier__boosting_type=dart, LGBMClassifier__learning_rate=0.75, LGBMClassifier__n_estimators=100 \n",
            "[ColumnTransformer] ........... (1 of 2) Processing num, total=   0.0s\n",
            "[ColumnTransformer] ........... (2 of 2) Processing cat, total=   0.0s\n",
            "[CV]  LGBMClassifier__boosting_type=dart, LGBMClassifier__learning_rate=0.75, LGBMClassifier__n_estimators=100, score=0.821, total=   0.1s\n",
            "[CV] LGBMClassifier__boosting_type=dart, LGBMClassifier__learning_rate=0.75, LGBMClassifier__n_estimators=100 \n",
            "[ColumnTransformer] ........... (1 of 2) Processing num, total=   0.0s\n",
            "[ColumnTransformer] ........... (2 of 2) Processing cat, total=   0.0s\n",
            "[CV]  LGBMClassifier__boosting_type=dart, LGBMClassifier__learning_rate=0.75, LGBMClassifier__n_estimators=100, score=0.692, total=   0.1s\n",
            "[CV] LGBMClassifier__boosting_type=dart, LGBMClassifier__learning_rate=0.75, LGBMClassifier__n_estimators=200 \n",
            "[ColumnTransformer] ........... (1 of 2) Processing num, total=   0.0s\n",
            "[ColumnTransformer] ........... (2 of 2) Processing cat, total=   0.0s\n",
            "[CV]  LGBMClassifier__boosting_type=dart, LGBMClassifier__learning_rate=0.75, LGBMClassifier__n_estimators=200, score=0.700, total=   0.1s\n",
            "[CV] LGBMClassifier__boosting_type=dart, LGBMClassifier__learning_rate=0.75, LGBMClassifier__n_estimators=200 \n",
            "[ColumnTransformer] ........... (1 of 2) Processing num, total=   0.0s\n",
            "[ColumnTransformer] ........... (2 of 2) Processing cat, total=   0.0s\n",
            "[CV]  LGBMClassifier__boosting_type=dart, LGBMClassifier__learning_rate=0.75, LGBMClassifier__n_estimators=200, score=0.718, total=   0.1s\n",
            "[CV] LGBMClassifier__boosting_type=dart, LGBMClassifier__learning_rate=0.75, LGBMClassifier__n_estimators=200 \n",
            "[ColumnTransformer] ........... (1 of 2) Processing num, total=   0.0s\n",
            "[ColumnTransformer] ........... (2 of 2) Processing cat, total=   0.0s\n",
            "[CV]  LGBMClassifier__boosting_type=dart, LGBMClassifier__learning_rate=0.75, LGBMClassifier__n_estimators=200, score=0.641, total=   0.1s\n",
            "[CV] LGBMClassifier__boosting_type=dart, LGBMClassifier__learning_rate=0.75, LGBMClassifier__n_estimators=200 \n",
            "[ColumnTransformer] ........... (1 of 2) Processing num, total=   0.0s\n",
            "[ColumnTransformer] ........... (2 of 2) Processing cat, total=   0.0s\n",
            "[CV]  LGBMClassifier__boosting_type=dart, LGBMClassifier__learning_rate=0.75, LGBMClassifier__n_estimators=200, score=0.744, total=   0.1s\n",
            "[CV] LGBMClassifier__boosting_type=dart, LGBMClassifier__learning_rate=0.75, LGBMClassifier__n_estimators=200 \n",
            "[ColumnTransformer] ........... (1 of 2) Processing num, total=   0.0s\n",
            "[ColumnTransformer] ........... (2 of 2) Processing cat, total=   0.0s\n",
            "[CV]  LGBMClassifier__boosting_type=dart, LGBMClassifier__learning_rate=0.75, LGBMClassifier__n_estimators=200, score=0.692, total=   0.1s\n",
            "[CV] LGBMClassifier__boosting_type=dart, LGBMClassifier__learning_rate=0.75, LGBMClassifier__n_estimators=300 \n",
            "[ColumnTransformer] ........... (1 of 2) Processing num, total=   0.0s\n",
            "[ColumnTransformer] ........... (2 of 2) Processing cat, total=   0.0s\n",
            "[CV]  LGBMClassifier__boosting_type=dart, LGBMClassifier__learning_rate=0.75, LGBMClassifier__n_estimators=300, score=0.700, total=   0.1s\n",
            "[CV] LGBMClassifier__boosting_type=dart, LGBMClassifier__learning_rate=0.75, LGBMClassifier__n_estimators=300 \n",
            "[ColumnTransformer] ........... (1 of 2) Processing num, total=   0.0s\n",
            "[ColumnTransformer] ........... (2 of 2) Processing cat, total=   0.0s\n",
            "[CV]  LGBMClassifier__boosting_type=dart, LGBMClassifier__learning_rate=0.75, LGBMClassifier__n_estimators=300, score=0.692, total=   0.1s\n",
            "[CV] LGBMClassifier__boosting_type=dart, LGBMClassifier__learning_rate=0.75, LGBMClassifier__n_estimators=300 \n",
            "[ColumnTransformer] ........... (1 of 2) Processing num, total=   0.0s\n",
            "[ColumnTransformer] ........... (2 of 2) Processing cat, total=   0.0s\n",
            "[CV]  LGBMClassifier__boosting_type=dart, LGBMClassifier__learning_rate=0.75, LGBMClassifier__n_estimators=300, score=0.692, total=   0.1s\n",
            "[CV] LGBMClassifier__boosting_type=dart, LGBMClassifier__learning_rate=0.75, LGBMClassifier__n_estimators=300 \n",
            "[ColumnTransformer] ........... (1 of 2) Processing num, total=   0.0s\n",
            "[ColumnTransformer] ........... (2 of 2) Processing cat, total=   0.0s\n",
            "[CV]  LGBMClassifier__boosting_type=dart, LGBMClassifier__learning_rate=0.75, LGBMClassifier__n_estimators=300, score=0.744, total=   0.1s\n",
            "[CV] LGBMClassifier__boosting_type=dart, LGBMClassifier__learning_rate=0.75, LGBMClassifier__n_estimators=300 \n",
            "[ColumnTransformer] ........... (1 of 2) Processing num, total=   0.0s\n",
            "[ColumnTransformer] ........... (2 of 2) Processing cat, total=   0.0s\n",
            "[CV]  LGBMClassifier__boosting_type=dart, LGBMClassifier__learning_rate=0.75, LGBMClassifier__n_estimators=300, score=0.718, total=   0.1s\n",
            "[CV] LGBMClassifier__boosting_type=dart, LGBMClassifier__learning_rate=0.75, LGBMClassifier__n_estimators=400 \n",
            "[ColumnTransformer] ........... (1 of 2) Processing num, total=   0.0s\n",
            "[ColumnTransformer] ........... (2 of 2) Processing cat, total=   0.0s\n",
            "[CV]  LGBMClassifier__boosting_type=dart, LGBMClassifier__learning_rate=0.75, LGBMClassifier__n_estimators=400, score=0.675, total=   0.2s\n",
            "[CV] LGBMClassifier__boosting_type=dart, LGBMClassifier__learning_rate=0.75, LGBMClassifier__n_estimators=400 \n",
            "[ColumnTransformer] ........... (1 of 2) Processing num, total=   0.0s\n",
            "[ColumnTransformer] ........... (2 of 2) Processing cat, total=   0.0s\n",
            "[CV]  LGBMClassifier__boosting_type=dart, LGBMClassifier__learning_rate=0.75, LGBMClassifier__n_estimators=400, score=0.718, total=   0.2s\n",
            "[CV] LGBMClassifier__boosting_type=dart, LGBMClassifier__learning_rate=0.75, LGBMClassifier__n_estimators=400 \n",
            "[ColumnTransformer] ........... (1 of 2) Processing num, total=   0.0s\n",
            "[ColumnTransformer] ........... (2 of 2) Processing cat, total=   0.0s\n",
            "[CV]  LGBMClassifier__boosting_type=dart, LGBMClassifier__learning_rate=0.75, LGBMClassifier__n_estimators=400, score=0.641, total=   0.2s\n",
            "[CV] LGBMClassifier__boosting_type=dart, LGBMClassifier__learning_rate=0.75, LGBMClassifier__n_estimators=400 \n",
            "[ColumnTransformer] ........... (1 of 2) Processing num, total=   0.0s\n",
            "[ColumnTransformer] ........... (2 of 2) Processing cat, total=   0.0s\n",
            "[CV]  LGBMClassifier__boosting_type=dart, LGBMClassifier__learning_rate=0.75, LGBMClassifier__n_estimators=400, score=0.692, total=   0.2s\n",
            "[CV] LGBMClassifier__boosting_type=dart, LGBMClassifier__learning_rate=0.75, LGBMClassifier__n_estimators=400 \n",
            "[ColumnTransformer] ........... (1 of 2) Processing num, total=   0.0s\n",
            "[ColumnTransformer] ........... (2 of 2) Processing cat, total=   0.0s\n",
            "[CV]  LGBMClassifier__boosting_type=dart, LGBMClassifier__learning_rate=0.75, LGBMClassifier__n_estimators=400, score=0.769, total=   0.2s\n",
            "[CV] LGBMClassifier__boosting_type=dart, LGBMClassifier__learning_rate=0.75, LGBMClassifier__n_estimators=500 \n",
            "[ColumnTransformer] ........... (1 of 2) Processing num, total=   0.0s\n",
            "[ColumnTransformer] ........... (2 of 2) Processing cat, total=   0.0s\n",
            "[CV]  LGBMClassifier__boosting_type=dart, LGBMClassifier__learning_rate=0.75, LGBMClassifier__n_estimators=500, score=0.675, total=   0.2s\n",
            "[CV] LGBMClassifier__boosting_type=dart, LGBMClassifier__learning_rate=0.75, LGBMClassifier__n_estimators=500 \n",
            "[ColumnTransformer] ........... (1 of 2) Processing num, total=   0.0s\n",
            "[ColumnTransformer] ........... (2 of 2) Processing cat, total=   0.0s\n",
            "[CV]  LGBMClassifier__boosting_type=dart, LGBMClassifier__learning_rate=0.75, LGBMClassifier__n_estimators=500, score=0.692, total=   0.2s\n",
            "[CV] LGBMClassifier__boosting_type=dart, LGBMClassifier__learning_rate=0.75, LGBMClassifier__n_estimators=500 \n",
            "[ColumnTransformer] ........... (1 of 2) Processing num, total=   0.0s\n",
            "[ColumnTransformer] ........... (2 of 2) Processing cat, total=   0.0s\n",
            "[CV]  LGBMClassifier__boosting_type=dart, LGBMClassifier__learning_rate=0.75, LGBMClassifier__n_estimators=500, score=0.667, total=   0.2s\n",
            "[CV] LGBMClassifier__boosting_type=dart, LGBMClassifier__learning_rate=0.75, LGBMClassifier__n_estimators=500 \n",
            "[ColumnTransformer] ........... (1 of 2) Processing num, total=   0.0s\n",
            "[ColumnTransformer] ........... (2 of 2) Processing cat, total=   0.0s\n",
            "[CV]  LGBMClassifier__boosting_type=dart, LGBMClassifier__learning_rate=0.75, LGBMClassifier__n_estimators=500, score=0.692, total=   0.3s\n",
            "[CV] LGBMClassifier__boosting_type=dart, LGBMClassifier__learning_rate=0.75, LGBMClassifier__n_estimators=500 \n",
            "[ColumnTransformer] ........... (1 of 2) Processing num, total=   0.0s\n",
            "[ColumnTransformer] ........... (2 of 2) Processing cat, total=   0.0s\n",
            "[CV]  LGBMClassifier__boosting_type=dart, LGBMClassifier__learning_rate=0.75, LGBMClassifier__n_estimators=500, score=0.744, total=   0.2s\n",
            "[CV] LGBMClassifier__boosting_type=dart, LGBMClassifier__learning_rate=1, LGBMClassifier__n_estimators=100 \n",
            "[ColumnTransformer] ........... (1 of 2) Processing num, total=   0.0s\n",
            "[ColumnTransformer] ........... (2 of 2) Processing cat, total=   0.0s\n",
            "[CV]  LGBMClassifier__boosting_type=dart, LGBMClassifier__learning_rate=1, LGBMClassifier__n_estimators=100, score=0.675, total=   0.0s\n",
            "[CV] LGBMClassifier__boosting_type=dart, LGBMClassifier__learning_rate=1, LGBMClassifier__n_estimators=100 \n",
            "[ColumnTransformer] ........... (1 of 2) Processing num, total=   0.0s\n",
            "[ColumnTransformer] ........... (2 of 2) Processing cat, total=   0.0s\n",
            "[CV]  LGBMClassifier__boosting_type=dart, LGBMClassifier__learning_rate=1, LGBMClassifier__n_estimators=100, score=0.744, total=   0.0s\n",
            "[CV] LGBMClassifier__boosting_type=dart, LGBMClassifier__learning_rate=1, LGBMClassifier__n_estimators=100 \n",
            "[ColumnTransformer] ........... (1 of 2) Processing num, total=   0.0s\n",
            "[ColumnTransformer] ........... (2 of 2) Processing cat, total=   0.0s\n",
            "[CV]  LGBMClassifier__boosting_type=dart, LGBMClassifier__learning_rate=1, LGBMClassifier__n_estimators=100, score=0.692, total=   0.1s\n",
            "[CV] LGBMClassifier__boosting_type=dart, LGBMClassifier__learning_rate=1, LGBMClassifier__n_estimators=100 \n",
            "[ColumnTransformer] ........... (1 of 2) Processing num, total=   0.0s\n",
            "[ColumnTransformer] ........... (2 of 2) Processing cat, total=   0.0s\n",
            "[CV]  LGBMClassifier__boosting_type=dart, LGBMClassifier__learning_rate=1, LGBMClassifier__n_estimators=100, score=0.718, total=   0.1s\n",
            "[CV] LGBMClassifier__boosting_type=dart, LGBMClassifier__learning_rate=1, LGBMClassifier__n_estimators=100 \n",
            "[ColumnTransformer] ........... (1 of 2) Processing num, total=   0.0s\n",
            "[ColumnTransformer] ........... (2 of 2) Processing cat, total=   0.0s\n",
            "[CV]  LGBMClassifier__boosting_type=dart, LGBMClassifier__learning_rate=1, LGBMClassifier__n_estimators=100, score=0.667, total=   0.1s\n",
            "[CV] LGBMClassifier__boosting_type=dart, LGBMClassifier__learning_rate=1, LGBMClassifier__n_estimators=200 \n",
            "[ColumnTransformer] ........... (1 of 2) Processing num, total=   0.0s\n",
            "[ColumnTransformer] ........... (2 of 2) Processing cat, total=   0.0s\n",
            "[CV]  LGBMClassifier__boosting_type=dart, LGBMClassifier__learning_rate=1, LGBMClassifier__n_estimators=200, score=0.625, total=   0.1s\n",
            "[CV] LGBMClassifier__boosting_type=dart, LGBMClassifier__learning_rate=1, LGBMClassifier__n_estimators=200 \n",
            "[ColumnTransformer] ........... (1 of 2) Processing num, total=   0.0s\n",
            "[ColumnTransformer] ........... (2 of 2) Processing cat, total=   0.0s\n",
            "[CV]  LGBMClassifier__boosting_type=dart, LGBMClassifier__learning_rate=1, LGBMClassifier__n_estimators=200, score=0.692, total=   0.1s\n",
            "[CV] LGBMClassifier__boosting_type=dart, LGBMClassifier__learning_rate=1, LGBMClassifier__n_estimators=200 \n",
            "[ColumnTransformer] ........... (1 of 2) Processing num, total=   0.0s\n",
            "[ColumnTransformer] ........... (2 of 2) Processing cat, total=   0.0s\n",
            "[CV]  LGBMClassifier__boosting_type=dart, LGBMClassifier__learning_rate=1, LGBMClassifier__n_estimators=200, score=0.667, total=   0.1s\n",
            "[CV] LGBMClassifier__boosting_type=dart, LGBMClassifier__learning_rate=1, LGBMClassifier__n_estimators=200 \n",
            "[ColumnTransformer] ........... (1 of 2) Processing num, total=   0.0s\n",
            "[ColumnTransformer] ........... (2 of 2) Processing cat, total=   0.0s\n",
            "[CV]  LGBMClassifier__boosting_type=dart, LGBMClassifier__learning_rate=1, LGBMClassifier__n_estimators=200, score=0.769, total=   0.1s\n",
            "[CV] LGBMClassifier__boosting_type=dart, LGBMClassifier__learning_rate=1, LGBMClassifier__n_estimators=200 \n",
            "[ColumnTransformer] ........... (1 of 2) Processing num, total=   0.0s\n",
            "[ColumnTransformer] ........... (2 of 2) Processing cat, total=   0.0s\n",
            "[CV]  LGBMClassifier__boosting_type=dart, LGBMClassifier__learning_rate=1, LGBMClassifier__n_estimators=200, score=0.718, total=   0.1s\n",
            "[CV] LGBMClassifier__boosting_type=dart, LGBMClassifier__learning_rate=1, LGBMClassifier__n_estimators=300 \n",
            "[ColumnTransformer] ........... (1 of 2) Processing num, total=   0.0s\n",
            "[ColumnTransformer] ........... (2 of 2) Processing cat, total=   0.0s\n",
            "[CV]  LGBMClassifier__boosting_type=dart, LGBMClassifier__learning_rate=1, LGBMClassifier__n_estimators=300, score=0.600, total=   0.1s\n",
            "[CV] LGBMClassifier__boosting_type=dart, LGBMClassifier__learning_rate=1, LGBMClassifier__n_estimators=300 \n",
            "[ColumnTransformer] ........... (1 of 2) Processing num, total=   0.0s\n",
            "[ColumnTransformer] ........... (2 of 2) Processing cat, total=   0.0s\n",
            "[CV]  LGBMClassifier__boosting_type=dart, LGBMClassifier__learning_rate=1, LGBMClassifier__n_estimators=300, score=0.718, total=   0.1s\n",
            "[CV] LGBMClassifier__boosting_type=dart, LGBMClassifier__learning_rate=1, LGBMClassifier__n_estimators=300 \n",
            "[ColumnTransformer] ........... (1 of 2) Processing num, total=   0.0s\n",
            "[ColumnTransformer] ........... (2 of 2) Processing cat, total=   0.0s\n",
            "[CV]  LGBMClassifier__boosting_type=dart, LGBMClassifier__learning_rate=1, LGBMClassifier__n_estimators=300, score=0.641, total=   0.1s\n",
            "[CV] LGBMClassifier__boosting_type=dart, LGBMClassifier__learning_rate=1, LGBMClassifier__n_estimators=300 \n",
            "[ColumnTransformer] ........... (1 of 2) Processing num, total=   0.0s\n",
            "[ColumnTransformer] ........... (2 of 2) Processing cat, total=   0.0s\n",
            "[CV]  LGBMClassifier__boosting_type=dart, LGBMClassifier__learning_rate=1, LGBMClassifier__n_estimators=300, score=0.821, total=   0.1s\n",
            "[CV] LGBMClassifier__boosting_type=dart, LGBMClassifier__learning_rate=1, LGBMClassifier__n_estimators=300 \n",
            "[ColumnTransformer] ........... (1 of 2) Processing num, total=   0.0s\n",
            "[ColumnTransformer] ........... (2 of 2) Processing cat, total=   0.0s\n",
            "[CV]  LGBMClassifier__boosting_type=dart, LGBMClassifier__learning_rate=1, LGBMClassifier__n_estimators=300, score=0.692, total=   0.2s\n",
            "[CV] LGBMClassifier__boosting_type=dart, LGBMClassifier__learning_rate=1, LGBMClassifier__n_estimators=400 \n",
            "[ColumnTransformer] ........... (1 of 2) Processing num, total=   0.0s\n",
            "[ColumnTransformer] ........... (2 of 2) Processing cat, total=   0.0s\n",
            "[CV]  LGBMClassifier__boosting_type=dart, LGBMClassifier__learning_rate=1, LGBMClassifier__n_estimators=400, score=0.675, total=   0.2s\n",
            "[CV] LGBMClassifier__boosting_type=dart, LGBMClassifier__learning_rate=1, LGBMClassifier__n_estimators=400 \n",
            "[ColumnTransformer] ........... (1 of 2) Processing num, total=   0.0s\n",
            "[ColumnTransformer] ........... (2 of 2) Processing cat, total=   0.0s\n",
            "[CV]  LGBMClassifier__boosting_type=dart, LGBMClassifier__learning_rate=1, LGBMClassifier__n_estimators=400, score=0.744, total=   0.2s\n",
            "[CV] LGBMClassifier__boosting_type=dart, LGBMClassifier__learning_rate=1, LGBMClassifier__n_estimators=400 \n",
            "[ColumnTransformer] ........... (1 of 2) Processing num, total=   0.0s\n",
            "[ColumnTransformer] ........... (2 of 2) Processing cat, total=   0.0s\n",
            "[CV]  LGBMClassifier__boosting_type=dart, LGBMClassifier__learning_rate=1, LGBMClassifier__n_estimators=400, score=0.615, total=   0.2s\n",
            "[CV] LGBMClassifier__boosting_type=dart, LGBMClassifier__learning_rate=1, LGBMClassifier__n_estimators=400 \n",
            "[ColumnTransformer] ........... (1 of 2) Processing num, total=   0.0s\n",
            "[ColumnTransformer] ........... (2 of 2) Processing cat, total=   0.0s\n",
            "[CV]  LGBMClassifier__boosting_type=dart, LGBMClassifier__learning_rate=1, LGBMClassifier__n_estimators=400, score=0.795, total=   0.2s\n",
            "[CV] LGBMClassifier__boosting_type=dart, LGBMClassifier__learning_rate=1, LGBMClassifier__n_estimators=400 \n",
            "[ColumnTransformer] ........... (1 of 2) Processing num, total=   0.0s\n",
            "[ColumnTransformer] ........... (2 of 2) Processing cat, total=   0.0s\n",
            "[CV]  LGBMClassifier__boosting_type=dart, LGBMClassifier__learning_rate=1, LGBMClassifier__n_estimators=400, score=0.744, total=   0.2s\n",
            "[CV] LGBMClassifier__boosting_type=dart, LGBMClassifier__learning_rate=1, LGBMClassifier__n_estimators=500 \n",
            "[ColumnTransformer] ........... (1 of 2) Processing num, total=   0.0s\n",
            "[ColumnTransformer] ........... (2 of 2) Processing cat, total=   0.0s\n",
            "[CV]  LGBMClassifier__boosting_type=dart, LGBMClassifier__learning_rate=1, LGBMClassifier__n_estimators=500, score=0.650, total=   0.3s\n",
            "[CV] LGBMClassifier__boosting_type=dart, LGBMClassifier__learning_rate=1, LGBMClassifier__n_estimators=500 \n",
            "[ColumnTransformer] ........... (1 of 2) Processing num, total=   0.0s\n",
            "[ColumnTransformer] ........... (2 of 2) Processing cat, total=   0.0s\n",
            "[CV]  LGBMClassifier__boosting_type=dart, LGBMClassifier__learning_rate=1, LGBMClassifier__n_estimators=500, score=0.692, total=   0.2s\n",
            "[CV] LGBMClassifier__boosting_type=dart, LGBMClassifier__learning_rate=1, LGBMClassifier__n_estimators=500 \n",
            "[ColumnTransformer] ........... (1 of 2) Processing num, total=   0.0s\n",
            "[ColumnTransformer] ........... (2 of 2) Processing cat, total=   0.0s\n",
            "[CV]  LGBMClassifier__boosting_type=dart, LGBMClassifier__learning_rate=1, LGBMClassifier__n_estimators=500, score=0.641, total=   0.2s\n",
            "[CV] LGBMClassifier__boosting_type=dart, LGBMClassifier__learning_rate=1, LGBMClassifier__n_estimators=500 \n",
            "[ColumnTransformer] ........... (1 of 2) Processing num, total=   0.0s\n",
            "[ColumnTransformer] ........... (2 of 2) Processing cat, total=   0.0s\n",
            "[CV]  LGBMClassifier__boosting_type=dart, LGBMClassifier__learning_rate=1, LGBMClassifier__n_estimators=500, score=0.744, total=   0.2s\n",
            "[CV] LGBMClassifier__boosting_type=dart, LGBMClassifier__learning_rate=1, LGBMClassifier__n_estimators=500 \n",
            "[ColumnTransformer] ........... (1 of 2) Processing num, total=   0.0s\n",
            "[ColumnTransformer] ........... (2 of 2) Processing cat, total=   0.0s\n",
            "[CV]  LGBMClassifier__boosting_type=dart, LGBMClassifier__learning_rate=1, LGBMClassifier__n_estimators=500, score=0.718, total=   0.3s\n",
            "[CV] LGBMClassifier__boosting_type=goss, LGBMClassifier__learning_rate=0.01, LGBMClassifier__n_estimators=100 \n",
            "[ColumnTransformer] ........... (1 of 2) Processing num, total=   0.0s\n",
            "[ColumnTransformer] ........... (2 of 2) Processing cat, total=   0.0s\n",
            "[CV]  LGBMClassifier__boosting_type=goss, LGBMClassifier__learning_rate=0.01, LGBMClassifier__n_estimators=100, score=0.725, total=   0.0s\n",
            "[CV] LGBMClassifier__boosting_type=goss, LGBMClassifier__learning_rate=0.01, LGBMClassifier__n_estimators=100 \n",
            "[ColumnTransformer] ........... (1 of 2) Processing num, total=   0.0s\n",
            "[ColumnTransformer] ........... (2 of 2) Processing cat, total=   0.0s\n",
            "[CV]  LGBMClassifier__boosting_type=goss, LGBMClassifier__learning_rate=0.01, LGBMClassifier__n_estimators=100, score=0.718, total=   0.0s\n",
            "[CV] LGBMClassifier__boosting_type=goss, LGBMClassifier__learning_rate=0.01, LGBMClassifier__n_estimators=100 \n",
            "[ColumnTransformer] ........... (1 of 2) Processing num, total=   0.0s\n",
            "[ColumnTransformer] ........... (2 of 2) Processing cat, total=   0.0s\n",
            "[CV]  LGBMClassifier__boosting_type=goss, LGBMClassifier__learning_rate=0.01, LGBMClassifier__n_estimators=100, score=0.667, total=   0.1s\n",
            "[CV] LGBMClassifier__boosting_type=goss, LGBMClassifier__learning_rate=0.01, LGBMClassifier__n_estimators=100 \n",
            "[ColumnTransformer] ........... (1 of 2) Processing num, total=   0.0s\n",
            "[ColumnTransformer] ........... (2 of 2) Processing cat, total=   0.0s\n",
            "[CV]  LGBMClassifier__boosting_type=goss, LGBMClassifier__learning_rate=0.01, LGBMClassifier__n_estimators=100, score=0.718, total=   0.1s\n",
            "[CV] LGBMClassifier__boosting_type=goss, LGBMClassifier__learning_rate=0.01, LGBMClassifier__n_estimators=100 \n",
            "[ColumnTransformer] ........... (1 of 2) Processing num, total=   0.0s\n",
            "[ColumnTransformer] ........... (2 of 2) Processing cat, total=   0.0s\n",
            "[CV]  LGBMClassifier__boosting_type=goss, LGBMClassifier__learning_rate=0.01, LGBMClassifier__n_estimators=100, score=0.718, total=   0.1s\n",
            "[CV] LGBMClassifier__boosting_type=goss, LGBMClassifier__learning_rate=0.01, LGBMClassifier__n_estimators=200 \n",
            "[ColumnTransformer] ........... (1 of 2) Processing num, total=   0.0s\n",
            "[ColumnTransformer] ........... (2 of 2) Processing cat, total=   0.0s\n",
            "[CV]  LGBMClassifier__boosting_type=goss, LGBMClassifier__learning_rate=0.01, LGBMClassifier__n_estimators=200, score=0.725, total=   0.1s\n",
            "[CV] LGBMClassifier__boosting_type=goss, LGBMClassifier__learning_rate=0.01, LGBMClassifier__n_estimators=200 \n",
            "[ColumnTransformer] ........... (1 of 2) Processing num, total=   0.0s\n",
            "[ColumnTransformer] ........... (2 of 2) Processing cat, total=   0.0s\n",
            "[CV]  LGBMClassifier__boosting_type=goss, LGBMClassifier__learning_rate=0.01, LGBMClassifier__n_estimators=200, score=0.692, total=   0.1s\n",
            "[CV] LGBMClassifier__boosting_type=goss, LGBMClassifier__learning_rate=0.01, LGBMClassifier__n_estimators=200 \n",
            "[ColumnTransformer] ........... (1 of 2) Processing num, total=   0.0s\n",
            "[ColumnTransformer] ........... (2 of 2) Processing cat, total=   0.0s\n",
            "[CV]  LGBMClassifier__boosting_type=goss, LGBMClassifier__learning_rate=0.01, LGBMClassifier__n_estimators=200, score=0.718, total=   0.1s\n",
            "[CV] LGBMClassifier__boosting_type=goss, LGBMClassifier__learning_rate=0.01, LGBMClassifier__n_estimators=200 \n",
            "[ColumnTransformer] ........... (1 of 2) Processing num, total=   0.0s\n",
            "[ColumnTransformer] ........... (2 of 2) Processing cat, total=   0.0s\n",
            "[CV]  LGBMClassifier__boosting_type=goss, LGBMClassifier__learning_rate=0.01, LGBMClassifier__n_estimators=200, score=0.718, total=   0.1s\n",
            "[CV] LGBMClassifier__boosting_type=goss, LGBMClassifier__learning_rate=0.01, LGBMClassifier__n_estimators=200 \n",
            "[ColumnTransformer] ........... (1 of 2) Processing num, total=   0.0s\n",
            "[ColumnTransformer] ........... (2 of 2) Processing cat, total=   0.0s\n",
            "[CV]  LGBMClassifier__boosting_type=goss, LGBMClassifier__learning_rate=0.01, LGBMClassifier__n_estimators=200, score=0.718, total=   0.1s\n",
            "[CV] LGBMClassifier__boosting_type=goss, LGBMClassifier__learning_rate=0.01, LGBMClassifier__n_estimators=300 \n",
            "[ColumnTransformer] ........... (1 of 2) Processing num, total=   0.0s\n",
            "[ColumnTransformer] ........... (2 of 2) Processing cat, total=   0.0s\n",
            "[CV]  LGBMClassifier__boosting_type=goss, LGBMClassifier__learning_rate=0.01, LGBMClassifier__n_estimators=300, score=0.725, total=   0.1s\n",
            "[CV] LGBMClassifier__boosting_type=goss, LGBMClassifier__learning_rate=0.01, LGBMClassifier__n_estimators=300 \n",
            "[ColumnTransformer] ........... (1 of 2) Processing num, total=   0.0s\n",
            "[ColumnTransformer] ........... (2 of 2) Processing cat, total=   0.0s\n",
            "[CV]  LGBMClassifier__boosting_type=goss, LGBMClassifier__learning_rate=0.01, LGBMClassifier__n_estimators=300, score=0.692, total=   0.1s\n",
            "[CV] LGBMClassifier__boosting_type=goss, LGBMClassifier__learning_rate=0.01, LGBMClassifier__n_estimators=300 \n",
            "[ColumnTransformer] ........... (1 of 2) Processing num, total=   0.0s\n",
            "[ColumnTransformer] ........... (2 of 2) Processing cat, total=   0.0s\n",
            "[CV]  LGBMClassifier__boosting_type=goss, LGBMClassifier__learning_rate=0.01, LGBMClassifier__n_estimators=300, score=0.692, total=   0.1s\n",
            "[CV] LGBMClassifier__boosting_type=goss, LGBMClassifier__learning_rate=0.01, LGBMClassifier__n_estimators=300 \n",
            "[ColumnTransformer] ........... (1 of 2) Processing num, total=   0.0s\n",
            "[ColumnTransformer] ........... (2 of 2) Processing cat, total=   0.0s\n",
            "[CV]  LGBMClassifier__boosting_type=goss, LGBMClassifier__learning_rate=0.01, LGBMClassifier__n_estimators=300, score=0.692, total=   0.1s\n",
            "[CV] LGBMClassifier__boosting_type=goss, LGBMClassifier__learning_rate=0.01, LGBMClassifier__n_estimators=300 \n",
            "[ColumnTransformer] ........... (1 of 2) Processing num, total=   0.0s\n",
            "[ColumnTransformer] ........... (2 of 2) Processing cat, total=   0.0s\n",
            "[CV]  LGBMClassifier__boosting_type=goss, LGBMClassifier__learning_rate=0.01, LGBMClassifier__n_estimators=300, score=0.718, total=   0.1s\n",
            "[CV] LGBMClassifier__boosting_type=goss, LGBMClassifier__learning_rate=0.01, LGBMClassifier__n_estimators=400 \n",
            "[ColumnTransformer] ........... (1 of 2) Processing num, total=   0.0s\n",
            "[ColumnTransformer] ........... (2 of 2) Processing cat, total=   0.0s\n",
            "[CV]  LGBMClassifier__boosting_type=goss, LGBMClassifier__learning_rate=0.01, LGBMClassifier__n_estimators=400, score=0.725, total=   0.1s\n",
            "[CV] LGBMClassifier__boosting_type=goss, LGBMClassifier__learning_rate=0.01, LGBMClassifier__n_estimators=400 \n",
            "[ColumnTransformer] ........... (1 of 2) Processing num, total=   0.0s\n",
            "[ColumnTransformer] ........... (2 of 2) Processing cat, total=   0.0s\n",
            "[CV]  LGBMClassifier__boosting_type=goss, LGBMClassifier__learning_rate=0.01, LGBMClassifier__n_estimators=400, score=0.692, total=   0.1s\n",
            "[CV] LGBMClassifier__boosting_type=goss, LGBMClassifier__learning_rate=0.01, LGBMClassifier__n_estimators=400 \n",
            "[ColumnTransformer] ........... (1 of 2) Processing num, total=   0.0s\n",
            "[ColumnTransformer] ........... (2 of 2) Processing cat, total=   0.0s\n",
            "[CV]  LGBMClassifier__boosting_type=goss, LGBMClassifier__learning_rate=0.01, LGBMClassifier__n_estimators=400, score=0.718, total=   0.1s\n",
            "[CV] LGBMClassifier__boosting_type=goss, LGBMClassifier__learning_rate=0.01, LGBMClassifier__n_estimators=400 \n",
            "[ColumnTransformer] ........... (1 of 2) Processing num, total=   0.0s\n",
            "[ColumnTransformer] ........... (2 of 2) Processing cat, total=   0.0s\n",
            "[CV]  LGBMClassifier__boosting_type=goss, LGBMClassifier__learning_rate=0.01, LGBMClassifier__n_estimators=400, score=0.744, total=   0.1s\n",
            "[CV] LGBMClassifier__boosting_type=goss, LGBMClassifier__learning_rate=0.01, LGBMClassifier__n_estimators=400 \n",
            "[ColumnTransformer] ........... (1 of 2) Processing num, total=   0.0s\n",
            "[ColumnTransformer] ........... (2 of 2) Processing cat, total=   0.0s\n",
            "[CV]  LGBMClassifier__boosting_type=goss, LGBMClassifier__learning_rate=0.01, LGBMClassifier__n_estimators=400, score=0.744, total=   0.1s\n",
            "[CV] LGBMClassifier__boosting_type=goss, LGBMClassifier__learning_rate=0.01, LGBMClassifier__n_estimators=500 \n",
            "[ColumnTransformer] ........... (1 of 2) Processing num, total=   0.0s\n",
            "[ColumnTransformer] ........... (2 of 2) Processing cat, total=   0.0s\n",
            "[CV]  LGBMClassifier__boosting_type=goss, LGBMClassifier__learning_rate=0.01, LGBMClassifier__n_estimators=500, score=0.725, total=   0.1s\n",
            "[CV] LGBMClassifier__boosting_type=goss, LGBMClassifier__learning_rate=0.01, LGBMClassifier__n_estimators=500 \n",
            "[ColumnTransformer] ........... (1 of 2) Processing num, total=   0.0s\n",
            "[ColumnTransformer] ........... (2 of 2) Processing cat, total=   0.0s\n",
            "[CV]  LGBMClassifier__boosting_type=goss, LGBMClassifier__learning_rate=0.01, LGBMClassifier__n_estimators=500, score=0.692, total=   0.1s\n",
            "[CV] LGBMClassifier__boosting_type=goss, LGBMClassifier__learning_rate=0.01, LGBMClassifier__n_estimators=500 \n",
            "[ColumnTransformer] ........... (1 of 2) Processing num, total=   0.0s\n",
            "[ColumnTransformer] ........... (2 of 2) Processing cat, total=   0.0s\n",
            "[CV]  LGBMClassifier__boosting_type=goss, LGBMClassifier__learning_rate=0.01, LGBMClassifier__n_estimators=500, score=0.692, total=   0.1s\n",
            "[CV] LGBMClassifier__boosting_type=goss, LGBMClassifier__learning_rate=0.01, LGBMClassifier__n_estimators=500 \n",
            "[ColumnTransformer] ........... (1 of 2) Processing num, total=   0.0s\n",
            "[ColumnTransformer] ........... (2 of 2) Processing cat, total=   0.0s\n",
            "[CV]  LGBMClassifier__boosting_type=goss, LGBMClassifier__learning_rate=0.01, LGBMClassifier__n_estimators=500, score=0.744, total=   0.1s\n",
            "[CV] LGBMClassifier__boosting_type=goss, LGBMClassifier__learning_rate=0.01, LGBMClassifier__n_estimators=500 \n",
            "[ColumnTransformer] ........... (1 of 2) Processing num, total=   0.0s\n",
            "[ColumnTransformer] ........... (2 of 2) Processing cat, total=   0.0s\n",
            "[CV]  LGBMClassifier__boosting_type=goss, LGBMClassifier__learning_rate=0.01, LGBMClassifier__n_estimators=500, score=0.744, total=   0.1s\n",
            "[CV] LGBMClassifier__boosting_type=goss, LGBMClassifier__learning_rate=0.1, LGBMClassifier__n_estimators=100 \n",
            "[ColumnTransformer] ........... (1 of 2) Processing num, total=   0.0s\n",
            "[ColumnTransformer] ........... (2 of 2) Processing cat, total=   0.0s\n",
            "[CV]  LGBMClassifier__boosting_type=goss, LGBMClassifier__learning_rate=0.1, LGBMClassifier__n_estimators=100, score=0.725, total=   0.1s\n",
            "[CV] LGBMClassifier__boosting_type=goss, LGBMClassifier__learning_rate=0.1, LGBMClassifier__n_estimators=100 \n",
            "[ColumnTransformer] ........... (1 of 2) Processing num, total=   0.0s\n",
            "[ColumnTransformer] ........... (2 of 2) Processing cat, total=   0.0s\n",
            "[CV]  LGBMClassifier__boosting_type=goss, LGBMClassifier__learning_rate=0.1, LGBMClassifier__n_estimators=100, score=0.744, total=   0.0s\n",
            "[CV] LGBMClassifier__boosting_type=goss, LGBMClassifier__learning_rate=0.1, LGBMClassifier__n_estimators=100 \n",
            "[ColumnTransformer] ........... (1 of 2) Processing num, total=   0.0s\n",
            "[ColumnTransformer] ........... (2 of 2) Processing cat, total=   0.0s\n",
            "[CV]  LGBMClassifier__boosting_type=goss, LGBMClassifier__learning_rate=0.1, LGBMClassifier__n_estimators=100, score=0.718, total=   0.1s\n",
            "[CV] LGBMClassifier__boosting_type=goss, LGBMClassifier__learning_rate=0.1, LGBMClassifier__n_estimators=100 \n",
            "[ColumnTransformer] ........... (1 of 2) Processing num, total=   0.0s\n",
            "[ColumnTransformer] ........... (2 of 2) Processing cat, total=   0.0s\n",
            "[CV]  LGBMClassifier__boosting_type=goss, LGBMClassifier__learning_rate=0.1, LGBMClassifier__n_estimators=100, score=0.718, total=   0.1s\n",
            "[CV] LGBMClassifier__boosting_type=goss, LGBMClassifier__learning_rate=0.1, LGBMClassifier__n_estimators=100 \n",
            "[ColumnTransformer] ........... (1 of 2) Processing num, total=   0.0s\n",
            "[ColumnTransformer] ........... (2 of 2) Processing cat, total=   0.0s\n",
            "[CV]  LGBMClassifier__boosting_type=goss, LGBMClassifier__learning_rate=0.1, LGBMClassifier__n_estimators=100, score=0.744, total=   0.1s\n",
            "[CV] LGBMClassifier__boosting_type=goss, LGBMClassifier__learning_rate=0.1, LGBMClassifier__n_estimators=200 \n",
            "[ColumnTransformer] ........... (1 of 2) Processing num, total=   0.0s\n",
            "[ColumnTransformer] ........... (2 of 2) Processing cat, total=   0.0s\n",
            "[CV]  LGBMClassifier__boosting_type=goss, LGBMClassifier__learning_rate=0.1, LGBMClassifier__n_estimators=200, score=0.650, total=   0.0s\n",
            "[CV] LGBMClassifier__boosting_type=goss, LGBMClassifier__learning_rate=0.1, LGBMClassifier__n_estimators=200 \n",
            "[ColumnTransformer] ........... (1 of 2) Processing num, total=   0.0s\n",
            "[ColumnTransformer] ........... (2 of 2) Processing cat, total=   0.0s\n",
            "[CV]  LGBMClassifier__boosting_type=goss, LGBMClassifier__learning_rate=0.1, LGBMClassifier__n_estimators=200, score=0.718, total=   0.0s\n",
            "[CV] LGBMClassifier__boosting_type=goss, LGBMClassifier__learning_rate=0.1, LGBMClassifier__n_estimators=200 \n",
            "[ColumnTransformer] ........... (1 of 2) Processing num, total=   0.0s\n",
            "[ColumnTransformer] ........... (2 of 2) Processing cat, total=   0.0s\n",
            "[CV]  LGBMClassifier__boosting_type=goss, LGBMClassifier__learning_rate=0.1, LGBMClassifier__n_estimators=200, score=0.692, total=   0.1s\n",
            "[CV] LGBMClassifier__boosting_type=goss, LGBMClassifier__learning_rate=0.1, LGBMClassifier__n_estimators=200 \n",
            "[ColumnTransformer] ........... (1 of 2) Processing num, total=   0.0s\n",
            "[ColumnTransformer] ........... (2 of 2) Processing cat, total=   0.0s\n",
            "[CV]  LGBMClassifier__boosting_type=goss, LGBMClassifier__learning_rate=0.1, LGBMClassifier__n_estimators=200, score=0.692, total=   0.1s\n",
            "[CV] LGBMClassifier__boosting_type=goss, LGBMClassifier__learning_rate=0.1, LGBMClassifier__n_estimators=200 \n",
            "[ColumnTransformer] ........... (1 of 2) Processing num, total=   0.0s\n",
            "[ColumnTransformer] ........... (2 of 2) Processing cat, total=   0.0s\n",
            "[CV]  LGBMClassifier__boosting_type=goss, LGBMClassifier__learning_rate=0.1, LGBMClassifier__n_estimators=200, score=0.718, total=   0.1s\n",
            "[CV] LGBMClassifier__boosting_type=goss, LGBMClassifier__learning_rate=0.1, LGBMClassifier__n_estimators=300 \n",
            "[ColumnTransformer] ........... (1 of 2) Processing num, total=   0.0s\n",
            "[ColumnTransformer] ........... (2 of 2) Processing cat, total=   0.0s\n",
            "[CV]  LGBMClassifier__boosting_type=goss, LGBMClassifier__learning_rate=0.1, LGBMClassifier__n_estimators=300, score=0.675, total=   0.1s\n",
            "[CV] LGBMClassifier__boosting_type=goss, LGBMClassifier__learning_rate=0.1, LGBMClassifier__n_estimators=300 \n",
            "[ColumnTransformer] ........... (1 of 2) Processing num, total=   0.0s\n",
            "[ColumnTransformer] ........... (2 of 2) Processing cat, total=   0.0s\n",
            "[CV]  LGBMClassifier__boosting_type=goss, LGBMClassifier__learning_rate=0.1, LGBMClassifier__n_estimators=300, score=0.692, total=   0.1s\n",
            "[CV] LGBMClassifier__boosting_type=goss, LGBMClassifier__learning_rate=0.1, LGBMClassifier__n_estimators=300 \n",
            "[ColumnTransformer] ........... (1 of 2) Processing num, total=   0.0s\n",
            "[ColumnTransformer] ........... (2 of 2) Processing cat, total=   0.0s\n",
            "[CV]  LGBMClassifier__boosting_type=goss, LGBMClassifier__learning_rate=0.1, LGBMClassifier__n_estimators=300, score=0.692, total=   0.1s\n",
            "[CV] LGBMClassifier__boosting_type=goss, LGBMClassifier__learning_rate=0.1, LGBMClassifier__n_estimators=300 \n",
            "[ColumnTransformer] ........... (1 of 2) Processing num, total=   0.0s\n",
            "[ColumnTransformer] ........... (2 of 2) Processing cat, total=   0.0s\n",
            "[CV]  LGBMClassifier__boosting_type=goss, LGBMClassifier__learning_rate=0.1, LGBMClassifier__n_estimators=300, score=0.692, total=   0.1s\n",
            "[CV] LGBMClassifier__boosting_type=goss, LGBMClassifier__learning_rate=0.1, LGBMClassifier__n_estimators=300 \n",
            "[ColumnTransformer] ........... (1 of 2) Processing num, total=   0.0s\n",
            "[ColumnTransformer] ........... (2 of 2) Processing cat, total=   0.0s\n",
            "[CV]  LGBMClassifier__boosting_type=goss, LGBMClassifier__learning_rate=0.1, LGBMClassifier__n_estimators=300, score=0.718, total=   0.1s\n",
            "[CV] LGBMClassifier__boosting_type=goss, LGBMClassifier__learning_rate=0.1, LGBMClassifier__n_estimators=400 \n",
            "[ColumnTransformer] ........... (1 of 2) Processing num, total=   0.0s\n",
            "[ColumnTransformer] ........... (2 of 2) Processing cat, total=   0.0s\n",
            "[CV]  LGBMClassifier__boosting_type=goss, LGBMClassifier__learning_rate=0.1, LGBMClassifier__n_estimators=400, score=0.725, total=   0.1s\n",
            "[CV] LGBMClassifier__boosting_type=goss, LGBMClassifier__learning_rate=0.1, LGBMClassifier__n_estimators=400 \n",
            "[ColumnTransformer] ........... (1 of 2) Processing num, total=   0.0s\n",
            "[ColumnTransformer] ........... (2 of 2) Processing cat, total=   0.0s\n",
            "[CV]  LGBMClassifier__boosting_type=goss, LGBMClassifier__learning_rate=0.1, LGBMClassifier__n_estimators=400, score=0.667, total=   0.1s\n",
            "[CV] LGBMClassifier__boosting_type=goss, LGBMClassifier__learning_rate=0.1, LGBMClassifier__n_estimators=400 \n",
            "[ColumnTransformer] ........... (1 of 2) Processing num, total=   0.0s\n",
            "[ColumnTransformer] ........... (2 of 2) Processing cat, total=   0.0s\n",
            "[CV]  LGBMClassifier__boosting_type=goss, LGBMClassifier__learning_rate=0.1, LGBMClassifier__n_estimators=400, score=0.744, total=   0.1s\n",
            "[CV] LGBMClassifier__boosting_type=goss, LGBMClassifier__learning_rate=0.1, LGBMClassifier__n_estimators=400 \n",
            "[ColumnTransformer] ........... (1 of 2) Processing num, total=   0.0s\n",
            "[ColumnTransformer] ........... (2 of 2) Processing cat, total=   0.0s\n",
            "[CV]  LGBMClassifier__boosting_type=goss, LGBMClassifier__learning_rate=0.1, LGBMClassifier__n_estimators=400, score=0.667, total=   0.1s\n",
            "[CV] LGBMClassifier__boosting_type=goss, LGBMClassifier__learning_rate=0.1, LGBMClassifier__n_estimators=400 \n",
            "[ColumnTransformer] ........... (1 of 2) Processing num, total=   0.0s\n",
            "[ColumnTransformer] ........... (2 of 2) Processing cat, total=   0.0s\n",
            "[CV]  LGBMClassifier__boosting_type=goss, LGBMClassifier__learning_rate=0.1, LGBMClassifier__n_estimators=400, score=0.718, total=   0.1s\n",
            "[CV] LGBMClassifier__boosting_type=goss, LGBMClassifier__learning_rate=0.1, LGBMClassifier__n_estimators=500 \n",
            "[ColumnTransformer] ........... (1 of 2) Processing num, total=   0.0s\n",
            "[ColumnTransformer] ........... (2 of 2) Processing cat, total=   0.0s\n",
            "[CV]  LGBMClassifier__boosting_type=goss, LGBMClassifier__learning_rate=0.1, LGBMClassifier__n_estimators=500, score=0.700, total=   0.1s\n",
            "[CV] LGBMClassifier__boosting_type=goss, LGBMClassifier__learning_rate=0.1, LGBMClassifier__n_estimators=500 \n",
            "[ColumnTransformer] ........... (1 of 2) Processing num, total=   0.0s\n",
            "[ColumnTransformer] ........... (2 of 2) Processing cat, total=   0.0s\n",
            "[CV]  LGBMClassifier__boosting_type=goss, LGBMClassifier__learning_rate=0.1, LGBMClassifier__n_estimators=500, score=0.692, total=   0.1s\n",
            "[CV] LGBMClassifier__boosting_type=goss, LGBMClassifier__learning_rate=0.1, LGBMClassifier__n_estimators=500 \n",
            "[ColumnTransformer] ........... (1 of 2) Processing num, total=   0.0s\n",
            "[ColumnTransformer] ........... (2 of 2) Processing cat, total=   0.0s\n",
            "[CV]  LGBMClassifier__boosting_type=goss, LGBMClassifier__learning_rate=0.1, LGBMClassifier__n_estimators=500, score=0.718, total=   0.1s\n",
            "[CV] LGBMClassifier__boosting_type=goss, LGBMClassifier__learning_rate=0.1, LGBMClassifier__n_estimators=500 \n",
            "[ColumnTransformer] ........... (1 of 2) Processing num, total=   0.0s\n",
            "[ColumnTransformer] ........... (2 of 2) Processing cat, total=   0.0s\n",
            "[CV]  LGBMClassifier__boosting_type=goss, LGBMClassifier__learning_rate=0.1, LGBMClassifier__n_estimators=500, score=0.667, total=   0.1s\n",
            "[CV] LGBMClassifier__boosting_type=goss, LGBMClassifier__learning_rate=0.1, LGBMClassifier__n_estimators=500 \n",
            "[ColumnTransformer] ........... (1 of 2) Processing num, total=   0.0s\n",
            "[ColumnTransformer] ........... (2 of 2) Processing cat, total=   0.0s\n",
            "[CV]  LGBMClassifier__boosting_type=goss, LGBMClassifier__learning_rate=0.1, LGBMClassifier__n_estimators=500, score=0.718, total=   0.1s\n",
            "[CV] LGBMClassifier__boosting_type=goss, LGBMClassifier__learning_rate=0.5, LGBMClassifier__n_estimators=100 \n",
            "[ColumnTransformer] ........... (1 of 2) Processing num, total=   0.0s\n",
            "[ColumnTransformer] ........... (2 of 2) Processing cat, total=   0.0s\n",
            "[CV]  LGBMClassifier__boosting_type=goss, LGBMClassifier__learning_rate=0.5, LGBMClassifier__n_estimators=100, score=0.700, total=   0.1s\n",
            "[CV] LGBMClassifier__boosting_type=goss, LGBMClassifier__learning_rate=0.5, LGBMClassifier__n_estimators=100 \n",
            "[ColumnTransformer] ........... (1 of 2) Processing num, total=   0.0s\n",
            "[ColumnTransformer] ........... (2 of 2) Processing cat, total=   0.0s\n",
            "[CV]  LGBMClassifier__boosting_type=goss, LGBMClassifier__learning_rate=0.5, LGBMClassifier__n_estimators=100, score=0.641, total=   0.0s\n",
            "[CV] LGBMClassifier__boosting_type=goss, LGBMClassifier__learning_rate=0.5, LGBMClassifier__n_estimators=100 \n",
            "[ColumnTransformer] ........... (1 of 2) Processing num, total=   0.0s\n",
            "[ColumnTransformer] ........... (2 of 2) Processing cat, total=   0.0s\n",
            "[CV]  LGBMClassifier__boosting_type=goss, LGBMClassifier__learning_rate=0.5, LGBMClassifier__n_estimators=100, score=0.615, total=   0.1s\n",
            "[CV] LGBMClassifier__boosting_type=goss, LGBMClassifier__learning_rate=0.5, LGBMClassifier__n_estimators=100 \n",
            "[ColumnTransformer] ........... (1 of 2) Processing num, total=   0.0s\n",
            "[ColumnTransformer] ........... (2 of 2) Processing cat, total=   0.0s\n",
            "[CV]  LGBMClassifier__boosting_type=goss, LGBMClassifier__learning_rate=0.5, LGBMClassifier__n_estimators=100, score=0.590, total=   0.1s\n",
            "[CV] LGBMClassifier__boosting_type=goss, LGBMClassifier__learning_rate=0.5, LGBMClassifier__n_estimators=100 \n",
            "[ColumnTransformer] ........... (1 of 2) Processing num, total=   0.0s\n",
            "[ColumnTransformer] ........... (2 of 2) Processing cat, total=   0.0s\n",
            "[CV]  LGBMClassifier__boosting_type=goss, LGBMClassifier__learning_rate=0.5, LGBMClassifier__n_estimators=100, score=0.692, total=   0.0s\n",
            "[CV] LGBMClassifier__boosting_type=goss, LGBMClassifier__learning_rate=0.5, LGBMClassifier__n_estimators=200 \n",
            "[ColumnTransformer] ........... (1 of 2) Processing num, total=   0.0s\n",
            "[ColumnTransformer] ........... (2 of 2) Processing cat, total=   0.0s\n",
            "[CV]  LGBMClassifier__boosting_type=goss, LGBMClassifier__learning_rate=0.5, LGBMClassifier__n_estimators=200, score=0.650, total=   0.1s\n",
            "[CV] LGBMClassifier__boosting_type=goss, LGBMClassifier__learning_rate=0.5, LGBMClassifier__n_estimators=200 \n",
            "[ColumnTransformer] ........... (1 of 2) Processing num, total=   0.0s\n",
            "[ColumnTransformer] ........... (2 of 2) Processing cat, total=   0.0s\n",
            "[CV]  LGBMClassifier__boosting_type=goss, LGBMClassifier__learning_rate=0.5, LGBMClassifier__n_estimators=200, score=0.718, total=   0.1s\n",
            "[CV] LGBMClassifier__boosting_type=goss, LGBMClassifier__learning_rate=0.5, LGBMClassifier__n_estimators=200 \n",
            "[ColumnTransformer] ........... (1 of 2) Processing num, total=   0.0s\n",
            "[ColumnTransformer] ........... (2 of 2) Processing cat, total=   0.0s\n",
            "[CV]  LGBMClassifier__boosting_type=goss, LGBMClassifier__learning_rate=0.5, LGBMClassifier__n_estimators=200, score=0.615, total=   0.1s\n",
            "[CV] LGBMClassifier__boosting_type=goss, LGBMClassifier__learning_rate=0.5, LGBMClassifier__n_estimators=200 \n",
            "[ColumnTransformer] ........... (1 of 2) Processing num, total=   0.0s\n",
            "[ColumnTransformer] ........... (2 of 2) Processing cat, total=   0.0s\n",
            "[CV]  LGBMClassifier__boosting_type=goss, LGBMClassifier__learning_rate=0.5, LGBMClassifier__n_estimators=200, score=0.615, total=   0.1s\n",
            "[CV] LGBMClassifier__boosting_type=goss, LGBMClassifier__learning_rate=0.5, LGBMClassifier__n_estimators=200 \n",
            "[ColumnTransformer] ........... (1 of 2) Processing num, total=   0.0s\n",
            "[ColumnTransformer] ........... (2 of 2) Processing cat, total=   0.0s\n",
            "[CV]  LGBMClassifier__boosting_type=goss, LGBMClassifier__learning_rate=0.5, LGBMClassifier__n_estimators=200, score=0.641, total=   0.1s\n",
            "[CV] LGBMClassifier__boosting_type=goss, LGBMClassifier__learning_rate=0.5, LGBMClassifier__n_estimators=300 \n",
            "[ColumnTransformer] ........... (1 of 2) Processing num, total=   0.0s\n",
            "[ColumnTransformer] ........... (2 of 2) Processing cat, total=   0.0s\n",
            "[CV]  LGBMClassifier__boosting_type=goss, LGBMClassifier__learning_rate=0.5, LGBMClassifier__n_estimators=300, score=0.625, total=   0.1s\n",
            "[CV] LGBMClassifier__boosting_type=goss, LGBMClassifier__learning_rate=0.5, LGBMClassifier__n_estimators=300 \n",
            "[ColumnTransformer] ........... (1 of 2) Processing num, total=   0.0s\n",
            "[ColumnTransformer] ........... (2 of 2) Processing cat, total=   0.0s\n",
            "[CV]  LGBMClassifier__boosting_type=goss, LGBMClassifier__learning_rate=0.5, LGBMClassifier__n_estimators=300, score=0.769, total=   0.1s\n",
            "[CV] LGBMClassifier__boosting_type=goss, LGBMClassifier__learning_rate=0.5, LGBMClassifier__n_estimators=300 \n",
            "[ColumnTransformer] ........... (1 of 2) Processing num, total=   0.0s\n",
            "[ColumnTransformer] ........... (2 of 2) Processing cat, total=   0.0s\n",
            "[CV]  LGBMClassifier__boosting_type=goss, LGBMClassifier__learning_rate=0.5, LGBMClassifier__n_estimators=300, score=0.615, total=   0.1s\n",
            "[CV] LGBMClassifier__boosting_type=goss, LGBMClassifier__learning_rate=0.5, LGBMClassifier__n_estimators=300 \n",
            "[ColumnTransformer] ........... (1 of 2) Processing num, total=   0.0s\n",
            "[ColumnTransformer] ........... (2 of 2) Processing cat, total=   0.0s\n",
            "[CV]  LGBMClassifier__boosting_type=goss, LGBMClassifier__learning_rate=0.5, LGBMClassifier__n_estimators=300, score=0.615, total=   0.1s\n",
            "[CV] LGBMClassifier__boosting_type=goss, LGBMClassifier__learning_rate=0.5, LGBMClassifier__n_estimators=300 \n",
            "[ColumnTransformer] ........... (1 of 2) Processing num, total=   0.0s\n",
            "[ColumnTransformer] ........... (2 of 2) Processing cat, total=   0.0s\n",
            "[CV]  LGBMClassifier__boosting_type=goss, LGBMClassifier__learning_rate=0.5, LGBMClassifier__n_estimators=300, score=0.641, total=   0.1s\n",
            "[CV] LGBMClassifier__boosting_type=goss, LGBMClassifier__learning_rate=0.5, LGBMClassifier__n_estimators=400 \n",
            "[ColumnTransformer] ........... (1 of 2) Processing num, total=   0.0s\n",
            "[ColumnTransformer] ........... (2 of 2) Processing cat, total=   0.0s\n",
            "[CV]  LGBMClassifier__boosting_type=goss, LGBMClassifier__learning_rate=0.5, LGBMClassifier__n_estimators=400, score=0.725, total=   0.1s\n",
            "[CV] LGBMClassifier__boosting_type=goss, LGBMClassifier__learning_rate=0.5, LGBMClassifier__n_estimators=400 \n",
            "[ColumnTransformer] ........... (1 of 2) Processing num, total=   0.0s\n",
            "[ColumnTransformer] ........... (2 of 2) Processing cat, total=   0.0s\n",
            "[CV]  LGBMClassifier__boosting_type=goss, LGBMClassifier__learning_rate=0.5, LGBMClassifier__n_estimators=400, score=0.718, total=   0.1s\n",
            "[CV] LGBMClassifier__boosting_type=goss, LGBMClassifier__learning_rate=0.5, LGBMClassifier__n_estimators=400 \n",
            "[ColumnTransformer] ........... (1 of 2) Processing num, total=   0.0s\n",
            "[ColumnTransformer] ........... (2 of 2) Processing cat, total=   0.0s\n",
            "[CV]  LGBMClassifier__boosting_type=goss, LGBMClassifier__learning_rate=0.5, LGBMClassifier__n_estimators=400, score=0.615, total=   0.1s\n",
            "[CV] LGBMClassifier__boosting_type=goss, LGBMClassifier__learning_rate=0.5, LGBMClassifier__n_estimators=400 \n",
            "[ColumnTransformer] ........... (1 of 2) Processing num, total=   0.0s\n",
            "[ColumnTransformer] ........... (2 of 2) Processing cat, total=   0.0s\n",
            "[CV]  LGBMClassifier__boosting_type=goss, LGBMClassifier__learning_rate=0.5, LGBMClassifier__n_estimators=400, score=0.590, total=   0.1s\n",
            "[CV] LGBMClassifier__boosting_type=goss, LGBMClassifier__learning_rate=0.5, LGBMClassifier__n_estimators=400 \n",
            "[ColumnTransformer] ........... (1 of 2) Processing num, total=   0.0s\n",
            "[ColumnTransformer] ........... (2 of 2) Processing cat, total=   0.0s\n",
            "[CV]  LGBMClassifier__boosting_type=goss, LGBMClassifier__learning_rate=0.5, LGBMClassifier__n_estimators=400, score=0.615, total=   0.1s\n",
            "[CV] LGBMClassifier__boosting_type=goss, LGBMClassifier__learning_rate=0.5, LGBMClassifier__n_estimators=500 \n",
            "[ColumnTransformer] ........... (1 of 2) Processing num, total=   0.0s\n",
            "[ColumnTransformer] ........... (2 of 2) Processing cat, total=   0.0s\n",
            "[CV]  LGBMClassifier__boosting_type=goss, LGBMClassifier__learning_rate=0.5, LGBMClassifier__n_estimators=500, score=0.675, total=   0.1s\n",
            "[CV] LGBMClassifier__boosting_type=goss, LGBMClassifier__learning_rate=0.5, LGBMClassifier__n_estimators=500 \n",
            "[ColumnTransformer] ........... (1 of 2) Processing num, total=   0.0s\n",
            "[ColumnTransformer] ........... (2 of 2) Processing cat, total=   0.0s\n",
            "[CV]  LGBMClassifier__boosting_type=goss, LGBMClassifier__learning_rate=0.5, LGBMClassifier__n_estimators=500, score=0.718, total=   0.1s\n",
            "[CV] LGBMClassifier__boosting_type=goss, LGBMClassifier__learning_rate=0.5, LGBMClassifier__n_estimators=500 \n",
            "[ColumnTransformer] ........... (1 of 2) Processing num, total=   0.0s\n",
            "[ColumnTransformer] ........... (2 of 2) Processing cat, total=   0.0s\n",
            "[CV]  LGBMClassifier__boosting_type=goss, LGBMClassifier__learning_rate=0.5, LGBMClassifier__n_estimators=500, score=0.667, total=   0.1s\n",
            "[CV] LGBMClassifier__boosting_type=goss, LGBMClassifier__learning_rate=0.5, LGBMClassifier__n_estimators=500 \n",
            "[ColumnTransformer] ........... (1 of 2) Processing num, total=   0.0s\n",
            "[ColumnTransformer] ........... (2 of 2) Processing cat, total=   0.0s\n",
            "[CV]  LGBMClassifier__boosting_type=goss, LGBMClassifier__learning_rate=0.5, LGBMClassifier__n_estimators=500, score=0.667, total=   0.1s\n",
            "[CV] LGBMClassifier__boosting_type=goss, LGBMClassifier__learning_rate=0.5, LGBMClassifier__n_estimators=500 \n",
            "[ColumnTransformer] ........... (1 of 2) Processing num, total=   0.0s\n",
            "[ColumnTransformer] ........... (2 of 2) Processing cat, total=   0.0s\n",
            "[CV]  LGBMClassifier__boosting_type=goss, LGBMClassifier__learning_rate=0.5, LGBMClassifier__n_estimators=500, score=0.641, total=   0.1s\n",
            "[CV] LGBMClassifier__boosting_type=goss, LGBMClassifier__learning_rate=0.75, LGBMClassifier__n_estimators=100 \n",
            "[ColumnTransformer] ........... (1 of 2) Processing num, total=   0.0s\n",
            "[ColumnTransformer] ........... (2 of 2) Processing cat, total=   0.0s\n",
            "[CV]  LGBMClassifier__boosting_type=goss, LGBMClassifier__learning_rate=0.75, LGBMClassifier__n_estimators=100, score=0.575, total=   0.1s\n",
            "[CV] LGBMClassifier__boosting_type=goss, LGBMClassifier__learning_rate=0.75, LGBMClassifier__n_estimators=100 \n",
            "[ColumnTransformer] ........... (1 of 2) Processing num, total=   0.0s\n",
            "[ColumnTransformer] ........... (2 of 2) Processing cat, total=   0.0s\n",
            "[CV]  LGBMClassifier__boosting_type=goss, LGBMClassifier__learning_rate=0.75, LGBMClassifier__n_estimators=100, score=0.692, total=   0.0s\n",
            "[CV] LGBMClassifier__boosting_type=goss, LGBMClassifier__learning_rate=0.75, LGBMClassifier__n_estimators=100 \n",
            "[ColumnTransformer] ........... (1 of 2) Processing num, total=   0.0s\n",
            "[ColumnTransformer] ........... (2 of 2) Processing cat, total=   0.0s\n",
            "[CV]  LGBMClassifier__boosting_type=goss, LGBMClassifier__learning_rate=0.75, LGBMClassifier__n_estimators=100, score=0.538, total=   0.0s\n",
            "[CV] LGBMClassifier__boosting_type=goss, LGBMClassifier__learning_rate=0.75, LGBMClassifier__n_estimators=100 \n",
            "[ColumnTransformer] ........... (1 of 2) Processing num, total=   0.0s\n",
            "[ColumnTransformer] ........... (2 of 2) Processing cat, total=   0.0s\n",
            "[CV]  LGBMClassifier__boosting_type=goss, LGBMClassifier__learning_rate=0.75, LGBMClassifier__n_estimators=100, score=0.641, total=   0.1s\n",
            "[CV] LGBMClassifier__boosting_type=goss, LGBMClassifier__learning_rate=0.75, LGBMClassifier__n_estimators=100 \n",
            "[ColumnTransformer] ........... (1 of 2) Processing num, total=   0.0s\n",
            "[ColumnTransformer] ........... (2 of 2) Processing cat, total=   0.0s\n",
            "[CV]  LGBMClassifier__boosting_type=goss, LGBMClassifier__learning_rate=0.75, LGBMClassifier__n_estimators=100, score=0.667, total=   0.0s\n",
            "[CV] LGBMClassifier__boosting_type=goss, LGBMClassifier__learning_rate=0.75, LGBMClassifier__n_estimators=200 \n",
            "[ColumnTransformer] ........... (1 of 2) Processing num, total=   0.0s\n",
            "[ColumnTransformer] ........... (2 of 2) Processing cat, total=   0.0s\n",
            "[CV]  LGBMClassifier__boosting_type=goss, LGBMClassifier__learning_rate=0.75, LGBMClassifier__n_estimators=200, score=0.500, total=   0.0s\n",
            "[CV] LGBMClassifier__boosting_type=goss, LGBMClassifier__learning_rate=0.75, LGBMClassifier__n_estimators=200 \n",
            "[ColumnTransformer] ........... (1 of 2) Processing num, total=   0.0s\n",
            "[ColumnTransformer] ........... (2 of 2) Processing cat, total=   0.0s\n",
            "[CV]  LGBMClassifier__boosting_type=goss, LGBMClassifier__learning_rate=0.75, LGBMClassifier__n_estimators=200, score=0.615, total=   0.0s\n",
            "[CV] LGBMClassifier__boosting_type=goss, LGBMClassifier__learning_rate=0.75, LGBMClassifier__n_estimators=200 \n",
            "[ColumnTransformer] ........... (1 of 2) Processing num, total=   0.0s\n",
            "[ColumnTransformer] ........... (2 of 2) Processing cat, total=   0.0s\n",
            "[CV]  LGBMClassifier__boosting_type=goss, LGBMClassifier__learning_rate=0.75, LGBMClassifier__n_estimators=200, score=0.615, total=   0.1s\n",
            "[CV] LGBMClassifier__boosting_type=goss, LGBMClassifier__learning_rate=0.75, LGBMClassifier__n_estimators=200 \n",
            "[ColumnTransformer] ........... (1 of 2) Processing num, total=   0.0s\n",
            "[ColumnTransformer] ........... (2 of 2) Processing cat, total=   0.0s\n",
            "[CV]  LGBMClassifier__boosting_type=goss, LGBMClassifier__learning_rate=0.75, LGBMClassifier__n_estimators=200, score=0.615, total=   0.1s\n",
            "[CV] LGBMClassifier__boosting_type=goss, LGBMClassifier__learning_rate=0.75, LGBMClassifier__n_estimators=200 \n",
            "[ColumnTransformer] ........... (1 of 2) Processing num, total=   0.0s\n",
            "[ColumnTransformer] ........... (2 of 2) Processing cat, total=   0.0s\n",
            "[CV]  LGBMClassifier__boosting_type=goss, LGBMClassifier__learning_rate=0.75, LGBMClassifier__n_estimators=200, score=0.718, total=   0.1s\n",
            "[CV] LGBMClassifier__boosting_type=goss, LGBMClassifier__learning_rate=0.75, LGBMClassifier__n_estimators=300 \n",
            "[ColumnTransformer] ........... (1 of 2) Processing num, total=   0.0s\n",
            "[ColumnTransformer] ........... (2 of 2) Processing cat, total=   0.0s\n",
            "[CV]  LGBMClassifier__boosting_type=goss, LGBMClassifier__learning_rate=0.75, LGBMClassifier__n_estimators=300, score=0.500, total=   0.1s\n",
            "[CV] LGBMClassifier__boosting_type=goss, LGBMClassifier__learning_rate=0.75, LGBMClassifier__n_estimators=300 \n",
            "[ColumnTransformer] ........... (1 of 2) Processing num, total=   0.0s\n",
            "[ColumnTransformer] ........... (2 of 2) Processing cat, total=   0.0s\n",
            "[CV]  LGBMClassifier__boosting_type=goss, LGBMClassifier__learning_rate=0.75, LGBMClassifier__n_estimators=300, score=0.615, total=   0.1s\n",
            "[CV] LGBMClassifier__boosting_type=goss, LGBMClassifier__learning_rate=0.75, LGBMClassifier__n_estimators=300 \n",
            "[ColumnTransformer] ........... (1 of 2) Processing num, total=   0.0s\n",
            "[ColumnTransformer] ........... (2 of 2) Processing cat, total=   0.0s\n",
            "[CV]  LGBMClassifier__boosting_type=goss, LGBMClassifier__learning_rate=0.75, LGBMClassifier__n_estimators=300, score=0.692, total=   0.1s\n",
            "[CV] LGBMClassifier__boosting_type=goss, LGBMClassifier__learning_rate=0.75, LGBMClassifier__n_estimators=300 \n",
            "[ColumnTransformer] ........... (1 of 2) Processing num, total=   0.0s\n",
            "[ColumnTransformer] ........... (2 of 2) Processing cat, total=   0.0s\n",
            "[CV]  LGBMClassifier__boosting_type=goss, LGBMClassifier__learning_rate=0.75, LGBMClassifier__n_estimators=300, score=0.667, total=   0.1s\n",
            "[CV] LGBMClassifier__boosting_type=goss, LGBMClassifier__learning_rate=0.75, LGBMClassifier__n_estimators=300 \n",
            "[ColumnTransformer] ........... (1 of 2) Processing num, total=   0.0s\n",
            "[ColumnTransformer] ........... (2 of 2) Processing cat, total=   0.0s\n",
            "[CV]  LGBMClassifier__boosting_type=goss, LGBMClassifier__learning_rate=0.75, LGBMClassifier__n_estimators=300, score=0.615, total=   0.1s\n",
            "[CV] LGBMClassifier__boosting_type=goss, LGBMClassifier__learning_rate=0.75, LGBMClassifier__n_estimators=400 \n",
            "[ColumnTransformer] ........... (1 of 2) Processing num, total=   0.0s\n",
            "[ColumnTransformer] ........... (2 of 2) Processing cat, total=   0.0s\n",
            "[CV]  LGBMClassifier__boosting_type=goss, LGBMClassifier__learning_rate=0.75, LGBMClassifier__n_estimators=400, score=0.500, total=   0.1s\n",
            "[CV] LGBMClassifier__boosting_type=goss, LGBMClassifier__learning_rate=0.75, LGBMClassifier__n_estimators=400 \n",
            "[ColumnTransformer] ........... (1 of 2) Processing num, total=   0.0s\n",
            "[ColumnTransformer] ........... (2 of 2) Processing cat, total=   0.0s\n",
            "[CV]  LGBMClassifier__boosting_type=goss, LGBMClassifier__learning_rate=0.75, LGBMClassifier__n_estimators=400, score=0.718, total=   0.1s\n",
            "[CV] LGBMClassifier__boosting_type=goss, LGBMClassifier__learning_rate=0.75, LGBMClassifier__n_estimators=400 \n",
            "[ColumnTransformer] ........... (1 of 2) Processing num, total=   0.0s\n",
            "[ColumnTransformer] ........... (2 of 2) Processing cat, total=   0.0s\n",
            "[CV]  LGBMClassifier__boosting_type=goss, LGBMClassifier__learning_rate=0.75, LGBMClassifier__n_estimators=400, score=0.667, total=   0.1s\n",
            "[CV] LGBMClassifier__boosting_type=goss, LGBMClassifier__learning_rate=0.75, LGBMClassifier__n_estimators=400 \n",
            "[ColumnTransformer] ........... (1 of 2) Processing num, total=   0.0s\n",
            "[ColumnTransformer] ........... (2 of 2) Processing cat, total=   0.0s\n",
            "[CV]  LGBMClassifier__boosting_type=goss, LGBMClassifier__learning_rate=0.75, LGBMClassifier__n_estimators=400, score=0.615, total=   0.1s\n",
            "[CV] LGBMClassifier__boosting_type=goss, LGBMClassifier__learning_rate=0.75, LGBMClassifier__n_estimators=400 \n",
            "[ColumnTransformer] ........... (1 of 2) Processing num, total=   0.0s\n",
            "[ColumnTransformer] ........... (2 of 2) Processing cat, total=   0.0s\n",
            "[CV]  LGBMClassifier__boosting_type=goss, LGBMClassifier__learning_rate=0.75, LGBMClassifier__n_estimators=400, score=0.590, total=   0.1s\n",
            "[CV] LGBMClassifier__boosting_type=goss, LGBMClassifier__learning_rate=0.75, LGBMClassifier__n_estimators=500 \n",
            "[ColumnTransformer] ........... (1 of 2) Processing num, total=   0.0s\n",
            "[ColumnTransformer] ........... (2 of 2) Processing cat, total=   0.0s\n",
            "[CV]  LGBMClassifier__boosting_type=goss, LGBMClassifier__learning_rate=0.75, LGBMClassifier__n_estimators=500, score=0.500, total=   0.1s\n",
            "[CV] LGBMClassifier__boosting_type=goss, LGBMClassifier__learning_rate=0.75, LGBMClassifier__n_estimators=500 \n",
            "[ColumnTransformer] ........... (1 of 2) Processing num, total=   0.0s\n",
            "[ColumnTransformer] ........... (2 of 2) Processing cat, total=   0.0s\n",
            "[CV]  LGBMClassifier__boosting_type=goss, LGBMClassifier__learning_rate=0.75, LGBMClassifier__n_estimators=500, score=0.718, total=   0.1s\n",
            "[CV] LGBMClassifier__boosting_type=goss, LGBMClassifier__learning_rate=0.75, LGBMClassifier__n_estimators=500 \n",
            "[ColumnTransformer] ........... (1 of 2) Processing num, total=   0.0s\n",
            "[ColumnTransformer] ........... (2 of 2) Processing cat, total=   0.0s\n",
            "[CV]  LGBMClassifier__boosting_type=goss, LGBMClassifier__learning_rate=0.75, LGBMClassifier__n_estimators=500, score=0.667, total=   0.1s\n",
            "[CV] LGBMClassifier__boosting_type=goss, LGBMClassifier__learning_rate=0.75, LGBMClassifier__n_estimators=500 \n",
            "[ColumnTransformer] ........... (1 of 2) Processing num, total=   0.0s\n",
            "[ColumnTransformer] ........... (2 of 2) Processing cat, total=   0.0s\n",
            "[CV]  LGBMClassifier__boosting_type=goss, LGBMClassifier__learning_rate=0.75, LGBMClassifier__n_estimators=500, score=0.744, total=   0.1s\n",
            "[CV] LGBMClassifier__boosting_type=goss, LGBMClassifier__learning_rate=0.75, LGBMClassifier__n_estimators=500 \n",
            "[ColumnTransformer] ........... (1 of 2) Processing num, total=   0.0s\n",
            "[ColumnTransformer] ........... (2 of 2) Processing cat, total=   0.0s\n",
            "[CV]  LGBMClassifier__boosting_type=goss, LGBMClassifier__learning_rate=0.75, LGBMClassifier__n_estimators=500, score=0.641, total=   0.1s\n",
            "[CV] LGBMClassifier__boosting_type=goss, LGBMClassifier__learning_rate=1, LGBMClassifier__n_estimators=100 \n",
            "[ColumnTransformer] ........... (1 of 2) Processing num, total=   0.0s\n",
            "[ColumnTransformer] ........... (2 of 2) Processing cat, total=   0.0s\n",
            "[CV]  LGBMClassifier__boosting_type=goss, LGBMClassifier__learning_rate=1, LGBMClassifier__n_estimators=100, score=0.375, total=   0.0s\n",
            "[CV] LGBMClassifier__boosting_type=goss, LGBMClassifier__learning_rate=1, LGBMClassifier__n_estimators=100 \n",
            "[ColumnTransformer] ........... (1 of 2) Processing num, total=   0.0s\n",
            "[ColumnTransformer] ........... (2 of 2) Processing cat, total=   0.0s\n",
            "[CV]  LGBMClassifier__boosting_type=goss, LGBMClassifier__learning_rate=1, LGBMClassifier__n_estimators=100, score=0.590, total=   0.0s\n",
            "[CV] LGBMClassifier__boosting_type=goss, LGBMClassifier__learning_rate=1, LGBMClassifier__n_estimators=100 \n",
            "[ColumnTransformer] ........... (1 of 2) Processing num, total=   0.0s\n",
            "[ColumnTransformer] ........... (2 of 2) Processing cat, total=   0.0s\n",
            "[CV]  LGBMClassifier__boosting_type=goss, LGBMClassifier__learning_rate=1, LGBMClassifier__n_estimators=100, score=0.487, total=   0.0s\n",
            "[CV] LGBMClassifier__boosting_type=goss, LGBMClassifier__learning_rate=1, LGBMClassifier__n_estimators=100 \n",
            "[ColumnTransformer] ........... (1 of 2) Processing num, total=   0.0s\n",
            "[ColumnTransformer] ........... (2 of 2) Processing cat, total=   0.0s\n",
            "[CV]  LGBMClassifier__boosting_type=goss, LGBMClassifier__learning_rate=1, LGBMClassifier__n_estimators=100, score=0.615, total=   0.0s\n",
            "[CV] LGBMClassifier__boosting_type=goss, LGBMClassifier__learning_rate=1, LGBMClassifier__n_estimators=100 \n",
            "[ColumnTransformer] ........... (1 of 2) Processing num, total=   0.0s\n",
            "[ColumnTransformer] ........... (2 of 2) Processing cat, total=   0.0s\n",
            "[CV]  LGBMClassifier__boosting_type=goss, LGBMClassifier__learning_rate=1, LGBMClassifier__n_estimators=100, score=0.615, total=   0.0s\n",
            "[CV] LGBMClassifier__boosting_type=goss, LGBMClassifier__learning_rate=1, LGBMClassifier__n_estimators=200 \n",
            "[ColumnTransformer] ........... (1 of 2) Processing num, total=   0.0s\n",
            "[ColumnTransformer] ........... (2 of 2) Processing cat, total=   0.0s\n",
            "[CV]  LGBMClassifier__boosting_type=goss, LGBMClassifier__learning_rate=1, LGBMClassifier__n_estimators=200, score=0.375, total=   0.1s\n",
            "[CV] LGBMClassifier__boosting_type=goss, LGBMClassifier__learning_rate=1, LGBMClassifier__n_estimators=200 \n",
            "[ColumnTransformer] ........... (1 of 2) Processing num, total=   0.0s\n",
            "[ColumnTransformer] ........... (2 of 2) Processing cat, total=   0.0s\n",
            "[CV]  LGBMClassifier__boosting_type=goss, LGBMClassifier__learning_rate=1, LGBMClassifier__n_estimators=200, score=0.590, total=   0.1s\n",
            "[CV] LGBMClassifier__boosting_type=goss, LGBMClassifier__learning_rate=1, LGBMClassifier__n_estimators=200 \n",
            "[ColumnTransformer] ........... (1 of 2) Processing num, total=   0.0s\n",
            "[ColumnTransformer] ........... (2 of 2) Processing cat, total=   0.0s\n",
            "[CV]  LGBMClassifier__boosting_type=goss, LGBMClassifier__learning_rate=1, LGBMClassifier__n_estimators=200, score=0.487, total=   0.1s\n",
            "[CV] LGBMClassifier__boosting_type=goss, LGBMClassifier__learning_rate=1, LGBMClassifier__n_estimators=200 \n",
            "[ColumnTransformer] ........... (1 of 2) Processing num, total=   0.0s\n",
            "[ColumnTransformer] ........... (2 of 2) Processing cat, total=   0.0s\n",
            "[CV]  LGBMClassifier__boosting_type=goss, LGBMClassifier__learning_rate=1, LGBMClassifier__n_estimators=200, score=0.615, total=   0.1s\n",
            "[CV] LGBMClassifier__boosting_type=goss, LGBMClassifier__learning_rate=1, LGBMClassifier__n_estimators=200 \n",
            "[ColumnTransformer] ........... (1 of 2) Processing num, total=   0.0s\n",
            "[ColumnTransformer] ........... (2 of 2) Processing cat, total=   0.0s\n",
            "[CV]  LGBMClassifier__boosting_type=goss, LGBMClassifier__learning_rate=1, LGBMClassifier__n_estimators=200, score=0.615, total=   0.1s\n",
            "[CV] LGBMClassifier__boosting_type=goss, LGBMClassifier__learning_rate=1, LGBMClassifier__n_estimators=300 \n",
            "[ColumnTransformer] ........... (1 of 2) Processing num, total=   0.0s\n",
            "[ColumnTransformer] ........... (2 of 2) Processing cat, total=   0.0s\n",
            "[CV]  LGBMClassifier__boosting_type=goss, LGBMClassifier__learning_rate=1, LGBMClassifier__n_estimators=300, score=0.375, total=   0.1s\n",
            "[CV] LGBMClassifier__boosting_type=goss, LGBMClassifier__learning_rate=1, LGBMClassifier__n_estimators=300 \n",
            "[ColumnTransformer] ........... (1 of 2) Processing num, total=   0.0s\n",
            "[ColumnTransformer] ........... (2 of 2) Processing cat, total=   0.0s\n",
            "[CV]  LGBMClassifier__boosting_type=goss, LGBMClassifier__learning_rate=1, LGBMClassifier__n_estimators=300, score=0.590, total=   0.1s\n",
            "[CV] LGBMClassifier__boosting_type=goss, LGBMClassifier__learning_rate=1, LGBMClassifier__n_estimators=300 \n",
            "[ColumnTransformer] ........... (1 of 2) Processing num, total=   0.0s\n",
            "[ColumnTransformer] ........... (2 of 2) Processing cat, total=   0.0s\n",
            "[CV]  LGBMClassifier__boosting_type=goss, LGBMClassifier__learning_rate=1, LGBMClassifier__n_estimators=300, score=0.487, total=   0.1s\n",
            "[CV] LGBMClassifier__boosting_type=goss, LGBMClassifier__learning_rate=1, LGBMClassifier__n_estimators=300 \n",
            "[ColumnTransformer] ........... (1 of 2) Processing num, total=   0.0s\n",
            "[ColumnTransformer] ........... (2 of 2) Processing cat, total=   0.0s\n",
            "[CV]  LGBMClassifier__boosting_type=goss, LGBMClassifier__learning_rate=1, LGBMClassifier__n_estimators=300, score=0.615, total=   0.1s\n",
            "[CV] LGBMClassifier__boosting_type=goss, LGBMClassifier__learning_rate=1, LGBMClassifier__n_estimators=300 \n",
            "[ColumnTransformer] ........... (1 of 2) Processing num, total=   0.0s\n",
            "[ColumnTransformer] ........... (2 of 2) Processing cat, total=   0.0s\n",
            "[CV]  LGBMClassifier__boosting_type=goss, LGBMClassifier__learning_rate=1, LGBMClassifier__n_estimators=300, score=0.615, total=   0.1s\n",
            "[CV] LGBMClassifier__boosting_type=goss, LGBMClassifier__learning_rate=1, LGBMClassifier__n_estimators=400 \n",
            "[ColumnTransformer] ........... (1 of 2) Processing num, total=   0.0s\n",
            "[ColumnTransformer] ........... (2 of 2) Processing cat, total=   0.0s\n",
            "[CV]  LGBMClassifier__boosting_type=goss, LGBMClassifier__learning_rate=1, LGBMClassifier__n_estimators=400, score=0.375, total=   0.1s\n",
            "[CV] LGBMClassifier__boosting_type=goss, LGBMClassifier__learning_rate=1, LGBMClassifier__n_estimators=400 \n",
            "[ColumnTransformer] ........... (1 of 2) Processing num, total=   0.0s\n",
            "[ColumnTransformer] ........... (2 of 2) Processing cat, total=   0.0s\n",
            "[CV]  LGBMClassifier__boosting_type=goss, LGBMClassifier__learning_rate=1, LGBMClassifier__n_estimators=400, score=0.590, total=   0.1s\n",
            "[CV] LGBMClassifier__boosting_type=goss, LGBMClassifier__learning_rate=1, LGBMClassifier__n_estimators=400 \n",
            "[ColumnTransformer] ........... (1 of 2) Processing num, total=   0.0s\n",
            "[ColumnTransformer] ........... (2 of 2) Processing cat, total=   0.0s\n",
            "[CV]  LGBMClassifier__boosting_type=goss, LGBMClassifier__learning_rate=1, LGBMClassifier__n_estimators=400, score=0.487, total=   0.1s\n",
            "[CV] LGBMClassifier__boosting_type=goss, LGBMClassifier__learning_rate=1, LGBMClassifier__n_estimators=400 \n",
            "[ColumnTransformer] ........... (1 of 2) Processing num, total=   0.0s\n",
            "[ColumnTransformer] ........... (2 of 2) Processing cat, total=   0.0s\n",
            "[CV]  LGBMClassifier__boosting_type=goss, LGBMClassifier__learning_rate=1, LGBMClassifier__n_estimators=400, score=0.615, total=   0.1s\n",
            "[CV] LGBMClassifier__boosting_type=goss, LGBMClassifier__learning_rate=1, LGBMClassifier__n_estimators=400 \n",
            "[ColumnTransformer] ........... (1 of 2) Processing num, total=   0.0s\n",
            "[ColumnTransformer] ........... (2 of 2) Processing cat, total=   0.0s\n",
            "[CV]  LGBMClassifier__boosting_type=goss, LGBMClassifier__learning_rate=1, LGBMClassifier__n_estimators=400, score=0.615, total=   0.1s\n",
            "[CV] LGBMClassifier__boosting_type=goss, LGBMClassifier__learning_rate=1, LGBMClassifier__n_estimators=500 \n",
            "[ColumnTransformer] ........... (1 of 2) Processing num, total=   0.0s\n",
            "[ColumnTransformer] ........... (2 of 2) Processing cat, total=   0.0s\n",
            "[CV]  LGBMClassifier__boosting_type=goss, LGBMClassifier__learning_rate=1, LGBMClassifier__n_estimators=500, score=0.375, total=   0.1s\n",
            "[CV] LGBMClassifier__boosting_type=goss, LGBMClassifier__learning_rate=1, LGBMClassifier__n_estimators=500 \n",
            "[ColumnTransformer] ........... (1 of 2) Processing num, total=   0.0s\n",
            "[ColumnTransformer] ........... (2 of 2) Processing cat, total=   0.0s\n",
            "[CV]  LGBMClassifier__boosting_type=goss, LGBMClassifier__learning_rate=1, LGBMClassifier__n_estimators=500, score=0.590, total=   0.1s\n",
            "[CV] LGBMClassifier__boosting_type=goss, LGBMClassifier__learning_rate=1, LGBMClassifier__n_estimators=500 \n",
            "[ColumnTransformer] ........... (1 of 2) Processing num, total=   0.0s\n",
            "[ColumnTransformer] ........... (2 of 2) Processing cat, total=   0.0s\n",
            "[CV]  LGBMClassifier__boosting_type=goss, LGBMClassifier__learning_rate=1, LGBMClassifier__n_estimators=500, score=0.487, total=   0.1s\n",
            "[CV] LGBMClassifier__boosting_type=goss, LGBMClassifier__learning_rate=1, LGBMClassifier__n_estimators=500 \n",
            "[ColumnTransformer] ........... (1 of 2) Processing num, total=   0.0s\n",
            "[ColumnTransformer] ........... (2 of 2) Processing cat, total=   0.0s\n",
            "[CV]  LGBMClassifier__boosting_type=goss, LGBMClassifier__learning_rate=1, LGBMClassifier__n_estimators=500, score=0.615, total=   0.1s\n",
            "[CV] LGBMClassifier__boosting_type=goss, LGBMClassifier__learning_rate=1, LGBMClassifier__n_estimators=500 \n",
            "[ColumnTransformer] ........... (1 of 2) Processing num, total=   0.0s\n",
            "[ColumnTransformer] ........... (2 of 2) Processing cat, total=   0.0s\n",
            "[CV]  LGBMClassifier__boosting_type=goss, LGBMClassifier__learning_rate=1, LGBMClassifier__n_estimators=500, score=0.615, total=   0.1s\n",
            "[Parallel(n_jobs=1)]: Done 375 out of 375 | elapsed:   37.6s finished\n",
            "[ColumnTransformer] ........... (1 of 2) Processing num, total=   0.0s\n",
            "[ColumnTransformer] ........... (2 of 2) Processing cat, total=   0.0s\n"
          ],
          "name": "stdout"
        },
        {
          "output_type": "execute_result",
          "data": {
            "text/plain": [
              "GridSearchCV(cv=None, error_score=nan,\n",
              "             estimator=Pipeline(memory=None,\n",
              "                                steps=[('preprocessor',\n",
              "                                        ColumnTransformer(n_jobs=None,\n",
              "                                                          remainder='drop',\n",
              "                                                          sparse_threshold=0.3,\n",
              "                                                          transformer_weights=None,\n",
              "                                                          transformers=[('num',\n",
              "                                                                         Pipeline(memory=None,\n",
              "                                                                                  steps=[('imputer',\n",
              "                                                                                          SimpleImputer(add_indicator=False,\n",
              "                                                                                                        copy=True,\n",
              "                                                                                                        fill_value=None,\n",
              "                                                                                                        missing_values=nan,\n",
              "                                                                                                        strategy='mean',\n",
              "                                                                                                        verbose=0))...\n",
              "                                                       subsample_for_bin=200000,\n",
              "                                                       subsample_freq=0))],\n",
              "                                verbose=False),\n",
              "             iid='deprecated', n_jobs=None,\n",
              "             param_grid={'LGBMClassifier__boosting_type': ['gbdt', 'dart',\n",
              "                                                           'goss'],\n",
              "                         'LGBMClassifier__learning_rate': [0.01, 0.1, 0.5, 0.75,\n",
              "                                                           1],\n",
              "                         'LGBMClassifier__n_estimators': [100, 200, 300, 400,\n",
              "                                                          500]},\n",
              "             pre_dispatch='2*n_jobs', refit=True, return_train_score=False,\n",
              "             scoring=make_scorer(accuracy_score), verbose=100)"
            ]
          },
          "metadata": {
            "tags": []
          },
          "execution_count": 65
        }
      ]
    },
    {
      "cell_type": "code",
      "metadata": {
        "id": "xw0X6sVOHE3u"
      },
      "source": [
        "y_pred = grid_search.predict(X_test)"
      ],
      "execution_count": null,
      "outputs": []
    },
    {
      "cell_type": "code",
      "metadata": {
        "colab": {
          "base_uri": "https://localhost:8080/"
        },
        "id": "FoWkgaGCHJdi",
        "outputId": "ab607660-a12c-4620-eea0-92f9108afc3c"
      },
      "source": [
        "print('accuracy_score:',accuracy_score(y_test, y_pred))\n",
        "print('precision:', precision_score(y_test,y_pred))\n",
        "print('f1_score:', f1_score(y_test,y_pred))"
      ],
      "execution_count": null,
      "outputs": [
        {
          "output_type": "stream",
          "text": [
            "accuracy_score: 0.7176470588235294\n",
            "precision: 0.64\n",
            "f1_score: 0.5714285714285714\n"
          ],
          "name": "stdout"
        }
      ]
    },
    {
      "cell_type": "code",
      "metadata": {
        "id": "r9UHCf4tL5nN"
      },
      "source": [
        "finishedModel = grid_search.best_estimator_.named_steps.LGBMClassifier"
      ],
      "execution_count": null,
      "outputs": []
    },
    {
      "cell_type": "code",
      "metadata": {
        "colab": {
          "base_uri": "https://localhost:8080/"
        },
        "id": "QMouEDveRqfV",
        "outputId": "720e1e21-350a-4d1e-87cf-d57943766027"
      },
      "source": [
        "grid_search.best_params_"
      ],
      "execution_count": null,
      "outputs": [
        {
          "output_type": "execute_result",
          "data": {
            "text/plain": [
              "{'LGBMClassifier__boosting_type': 'dart',\n",
              " 'LGBMClassifier__learning_rate': 0.5,\n",
              " 'LGBMClassifier__n_estimators': 100}"
            ]
          },
          "metadata": {
            "tags": []
          },
          "execution_count": 93
        }
      ]
    },
    {
      "cell_type": "code",
      "metadata": {
        "id": "VV8yufv-FTY1"
      },
      "source": [
        "featureImportances = grid_search.best_estimator_.named_steps.LGBMClassifier.booster_.feature_importance()"
      ],
      "execution_count": null,
      "outputs": []
    },
    {
      "cell_type": "code",
      "metadata": {
        "id": "6htMnwtmibtx"
      },
      "source": [
        "importanceDF = pd.DataFrame(featureImportances, index=labels)"
      ],
      "execution_count": null,
      "outputs": []
    },
    {
      "cell_type": "code",
      "metadata": {
        "colab": {
          "base_uri": "https://localhost:8080/",
          "height": 645
        },
        "id": "A5N8hRpgH6Oq",
        "outputId": "237ac011-23bf-456e-f382-ad8ac8f21f32"
      },
      "source": [
        "importanceDF"
      ],
      "execution_count": null,
      "outputs": [
        {
          "output_type": "execute_result",
          "data": {
            "text/html": [
              "<div>\n",
              "<style scoped>\n",
              "    .dataframe tbody tr th:only-of-type {\n",
              "        vertical-align: middle;\n",
              "    }\n",
              "\n",
              "    .dataframe tbody tr th {\n",
              "        vertical-align: top;\n",
              "    }\n",
              "\n",
              "    .dataframe thead th {\n",
              "        text-align: right;\n",
              "    }\n",
              "</style>\n",
              "<table border=\"1\" class=\"dataframe\">\n",
              "  <thead>\n",
              "    <tr style=\"text-align: right;\">\n",
              "      <th></th>\n",
              "      <th>0</th>\n",
              "    </tr>\n",
              "  </thead>\n",
              "  <tbody>\n",
              "    <tr>\n",
              "      <th>ApplicantIncome</th>\n",
              "      <td>161</td>\n",
              "    </tr>\n",
              "    <tr>\n",
              "      <th>CoapplicantIncome</th>\n",
              "      <td>116</td>\n",
              "    </tr>\n",
              "    <tr>\n",
              "      <th>LoanAmount</th>\n",
              "      <td>190</td>\n",
              "    </tr>\n",
              "    <tr>\n",
              "      <th>Loan_Amount_Term</th>\n",
              "      <td>7</td>\n",
              "    </tr>\n",
              "    <tr>\n",
              "      <th>Married_No</th>\n",
              "      <td>13</td>\n",
              "    </tr>\n",
              "    <tr>\n",
              "      <th>Married_Yes</th>\n",
              "      <td>6</td>\n",
              "    </tr>\n",
              "    <tr>\n",
              "      <th>Dependents_0</th>\n",
              "      <td>15</td>\n",
              "    </tr>\n",
              "    <tr>\n",
              "      <th>Dependents_1</th>\n",
              "      <td>26</td>\n",
              "    </tr>\n",
              "    <tr>\n",
              "      <th>Dependents_2</th>\n",
              "      <td>0</td>\n",
              "    </tr>\n",
              "    <tr>\n",
              "      <th>Dependents_3+</th>\n",
              "      <td>0</td>\n",
              "    </tr>\n",
              "    <tr>\n",
              "      <th>Education_Graduate</th>\n",
              "      <td>8</td>\n",
              "    </tr>\n",
              "    <tr>\n",
              "      <th>Education_Not Graduate</th>\n",
              "      <td>9</td>\n",
              "    </tr>\n",
              "    <tr>\n",
              "      <th>Self_Employed_No</th>\n",
              "      <td>1</td>\n",
              "    </tr>\n",
              "    <tr>\n",
              "      <th>Self_Employed_Yes</th>\n",
              "      <td>6</td>\n",
              "    </tr>\n",
              "    <tr>\n",
              "      <th>Credit_History_No</th>\n",
              "      <td>36</td>\n",
              "    </tr>\n",
              "    <tr>\n",
              "      <th>Credit_History_Yes</th>\n",
              "      <td>8</td>\n",
              "    </tr>\n",
              "    <tr>\n",
              "      <th>Property_Area_Rural</th>\n",
              "      <td>18</td>\n",
              "    </tr>\n",
              "    <tr>\n",
              "      <th>Property_Area_Semiurban</th>\n",
              "      <td>10</td>\n",
              "    </tr>\n",
              "    <tr>\n",
              "      <th>Property_Area_Urban</th>\n",
              "      <td>16</td>\n",
              "    </tr>\n",
              "  </tbody>\n",
              "</table>\n",
              "</div>"
            ],
            "text/plain": [
              "                           0\n",
              "ApplicantIncome          161\n",
              "CoapplicantIncome        116\n",
              "LoanAmount               190\n",
              "Loan_Amount_Term           7\n",
              "Married_No                13\n",
              "Married_Yes                6\n",
              "Dependents_0              15\n",
              "Dependents_1              26\n",
              "Dependents_2               0\n",
              "Dependents_3+              0\n",
              "Education_Graduate         8\n",
              "Education_Not Graduate     9\n",
              "Self_Employed_No           1\n",
              "Self_Employed_Yes          6\n",
              "Credit_History_No         36\n",
              "Credit_History_Yes         8\n",
              "Property_Area_Rural       18\n",
              "Property_Area_Semiurban   10\n",
              "Property_Area_Urban       16"
            ]
          },
          "metadata": {
            "tags": []
          },
          "execution_count": 71
        }
      ]
    },
    {
      "cell_type": "code",
      "metadata": {
        "colab": {
          "base_uri": "https://localhost:8080/",
          "height": 645
        },
        "id": "sCVlSkDZJ_KK",
        "outputId": "2107c334-6397-48cc-c99f-b43dfbd66e1f"
      },
      "source": [
        "importanceDF"
      ],
      "execution_count": null,
      "outputs": [
        {
          "output_type": "execute_result",
          "data": {
            "text/html": [
              "<div>\n",
              "<style scoped>\n",
              "    .dataframe tbody tr th:only-of-type {\n",
              "        vertical-align: middle;\n",
              "    }\n",
              "\n",
              "    .dataframe tbody tr th {\n",
              "        vertical-align: top;\n",
              "    }\n",
              "\n",
              "    .dataframe thead th {\n",
              "        text-align: right;\n",
              "    }\n",
              "</style>\n",
              "<table border=\"1\" class=\"dataframe\">\n",
              "  <thead>\n",
              "    <tr style=\"text-align: right;\">\n",
              "      <th></th>\n",
              "      <th>0</th>\n",
              "    </tr>\n",
              "  </thead>\n",
              "  <tbody>\n",
              "    <tr>\n",
              "      <th>ApplicantIncome</th>\n",
              "      <td>161</td>\n",
              "    </tr>\n",
              "    <tr>\n",
              "      <th>CoapplicantIncome</th>\n",
              "      <td>116</td>\n",
              "    </tr>\n",
              "    <tr>\n",
              "      <th>LoanAmount</th>\n",
              "      <td>190</td>\n",
              "    </tr>\n",
              "    <tr>\n",
              "      <th>Loan_Amount_Term</th>\n",
              "      <td>7</td>\n",
              "    </tr>\n",
              "    <tr>\n",
              "      <th>Married_No</th>\n",
              "      <td>13</td>\n",
              "    </tr>\n",
              "    <tr>\n",
              "      <th>Married_Yes</th>\n",
              "      <td>6</td>\n",
              "    </tr>\n",
              "    <tr>\n",
              "      <th>Dependents_0</th>\n",
              "      <td>15</td>\n",
              "    </tr>\n",
              "    <tr>\n",
              "      <th>Dependents_1</th>\n",
              "      <td>26</td>\n",
              "    </tr>\n",
              "    <tr>\n",
              "      <th>Dependents_2</th>\n",
              "      <td>0</td>\n",
              "    </tr>\n",
              "    <tr>\n",
              "      <th>Dependents_3+</th>\n",
              "      <td>0</td>\n",
              "    </tr>\n",
              "    <tr>\n",
              "      <th>Education_Graduate</th>\n",
              "      <td>8</td>\n",
              "    </tr>\n",
              "    <tr>\n",
              "      <th>Education_Not Graduate</th>\n",
              "      <td>9</td>\n",
              "    </tr>\n",
              "    <tr>\n",
              "      <th>Self_Employed_No</th>\n",
              "      <td>1</td>\n",
              "    </tr>\n",
              "    <tr>\n",
              "      <th>Self_Employed_Yes</th>\n",
              "      <td>6</td>\n",
              "    </tr>\n",
              "    <tr>\n",
              "      <th>Credit_History_No</th>\n",
              "      <td>36</td>\n",
              "    </tr>\n",
              "    <tr>\n",
              "      <th>Credit_History_Yes</th>\n",
              "      <td>8</td>\n",
              "    </tr>\n",
              "    <tr>\n",
              "      <th>Property_Area_Rural</th>\n",
              "      <td>18</td>\n",
              "    </tr>\n",
              "    <tr>\n",
              "      <th>Property_Area_Semiurban</th>\n",
              "      <td>10</td>\n",
              "    </tr>\n",
              "    <tr>\n",
              "      <th>Property_Area_Urban</th>\n",
              "      <td>16</td>\n",
              "    </tr>\n",
              "  </tbody>\n",
              "</table>\n",
              "</div>"
            ],
            "text/plain": [
              "                           0\n",
              "ApplicantIncome          161\n",
              "CoapplicantIncome        116\n",
              "LoanAmount               190\n",
              "Loan_Amount_Term           7\n",
              "Married_No                13\n",
              "Married_Yes                6\n",
              "Dependents_0              15\n",
              "Dependents_1              26\n",
              "Dependents_2               0\n",
              "Dependents_3+              0\n",
              "Education_Graduate         8\n",
              "Education_Not Graduate     9\n",
              "Self_Employed_No           1\n",
              "Self_Employed_Yes          6\n",
              "Credit_History_No         36\n",
              "Credit_History_Yes         8\n",
              "Property_Area_Rural       18\n",
              "Property_Area_Semiurban   10\n",
              "Property_Area_Urban       16"
            ]
          },
          "metadata": {
            "tags": []
          },
          "execution_count": 72
        }
      ]
    },
    {
      "cell_type": "code",
      "metadata": {
        "colab": {
          "base_uri": "https://localhost:8080/",
          "height": 677
        },
        "id": "OVg6ErHKM-yQ",
        "outputId": "f55d5411-8d3a-48b4-b4ab-74c3bc5a85ed"
      },
      "source": [
        "importanceDF"
      ],
      "execution_count": null,
      "outputs": [
        {
          "output_type": "execute_result",
          "data": {
            "text/html": [
              "<div>\n",
              "<style scoped>\n",
              "    .dataframe tbody tr th:only-of-type {\n",
              "        vertical-align: middle;\n",
              "    }\n",
              "\n",
              "    .dataframe tbody tr th {\n",
              "        vertical-align: top;\n",
              "    }\n",
              "\n",
              "    .dataframe thead th {\n",
              "        text-align: right;\n",
              "    }\n",
              "</style>\n",
              "<table border=\"1\" class=\"dataframe\">\n",
              "  <thead>\n",
              "    <tr style=\"text-align: right;\">\n",
              "      <th></th>\n",
              "      <th>0</th>\n",
              "    </tr>\n",
              "  </thead>\n",
              "  <tbody>\n",
              "    <tr>\n",
              "      <th>ApplicantIncome</th>\n",
              "      <td>161</td>\n",
              "    </tr>\n",
              "    <tr>\n",
              "      <th>CoapplicantIncome</th>\n",
              "      <td>116</td>\n",
              "    </tr>\n",
              "    <tr>\n",
              "      <th>LoanAmount</th>\n",
              "      <td>190</td>\n",
              "    </tr>\n",
              "    <tr>\n",
              "      <th>Loan_Amount_Term</th>\n",
              "      <td>7</td>\n",
              "    </tr>\n",
              "    <tr>\n",
              "      <th>Married_No</th>\n",
              "      <td>13</td>\n",
              "    </tr>\n",
              "    <tr>\n",
              "      <th>Married_Yes</th>\n",
              "      <td>6</td>\n",
              "    </tr>\n",
              "    <tr>\n",
              "      <th>Dependents_0</th>\n",
              "      <td>15</td>\n",
              "    </tr>\n",
              "    <tr>\n",
              "      <th>Dependents_1</th>\n",
              "      <td>26</td>\n",
              "    </tr>\n",
              "    <tr>\n",
              "      <th>Dependents_2</th>\n",
              "      <td>0</td>\n",
              "    </tr>\n",
              "    <tr>\n",
              "      <th>Dependents_3+</th>\n",
              "      <td>0</td>\n",
              "    </tr>\n",
              "    <tr>\n",
              "      <th>Education_Graduate</th>\n",
              "      <td>8</td>\n",
              "    </tr>\n",
              "    <tr>\n",
              "      <th>Education_Not Graduate</th>\n",
              "      <td>9</td>\n",
              "    </tr>\n",
              "    <tr>\n",
              "      <th>Self_Employed_No</th>\n",
              "      <td>1</td>\n",
              "    </tr>\n",
              "    <tr>\n",
              "      <th>Self_Employed_Yes</th>\n",
              "      <td>6</td>\n",
              "    </tr>\n",
              "    <tr>\n",
              "      <th>Credit_History_No</th>\n",
              "      <td>36</td>\n",
              "    </tr>\n",
              "    <tr>\n",
              "      <th>Credit_History_Yes</th>\n",
              "      <td>8</td>\n",
              "    </tr>\n",
              "    <tr>\n",
              "      <th>Property_Area_Rural</th>\n",
              "      <td>18</td>\n",
              "    </tr>\n",
              "    <tr>\n",
              "      <th>Property_Area_Semiurban</th>\n",
              "      <td>10</td>\n",
              "    </tr>\n",
              "    <tr>\n",
              "      <th>Property_Area_Urban</th>\n",
              "      <td>16</td>\n",
              "    </tr>\n",
              "    <tr>\n",
              "      <th>Married</th>\n",
              "      <td>19</td>\n",
              "    </tr>\n",
              "  </tbody>\n",
              "</table>\n",
              "</div>"
            ],
            "text/plain": [
              "                           0\n",
              "ApplicantIncome          161\n",
              "CoapplicantIncome        116\n",
              "LoanAmount               190\n",
              "Loan_Amount_Term           7\n",
              "Married_No                13\n",
              "Married_Yes                6\n",
              "Dependents_0              15\n",
              "Dependents_1              26\n",
              "Dependents_2               0\n",
              "Dependents_3+              0\n",
              "Education_Graduate         8\n",
              "Education_Not Graduate     9\n",
              "Self_Employed_No           1\n",
              "Self_Employed_Yes          6\n",
              "Credit_History_No         36\n",
              "Credit_History_Yes         8\n",
              "Property_Area_Rural       18\n",
              "Property_Area_Semiurban   10\n",
              "Property_Area_Urban       16\n",
              "Married                   19"
            ]
          },
          "metadata": {
            "tags": []
          },
          "execution_count": 74
        }
      ]
    },
    {
      "cell_type": "code",
      "metadata": {
        "id": "M9YLmdlfJeZT"
      },
      "source": [
        "importanceDF.loc['Married'] = importanceDF[0][['Married_No','Married_Yes']].sum()\n",
        "importanceDF = importanceDF.drop(['Married_No','Married_Yes'])"
      ],
      "execution_count": null,
      "outputs": []
    },
    {
      "cell_type": "code",
      "metadata": {
        "colab": {
          "base_uri": "https://localhost:8080/",
          "height": 284
        },
        "id": "RgPNwFgiNDLP",
        "outputId": "10b01a86-227f-4a47-d41d-dd0f2b4aafdd"
      },
      "source": [
        "importanceDF.sort_values(0) \\\n",
        "            .plot(kind='barh') "
      ],
      "execution_count": null,
      "outputs": [
        {
          "output_type": "execute_result",
          "data": {
            "text/plain": [
              "<matplotlib.axes._subplots.AxesSubplot at 0x7f358ce3a950>"
            ]
          },
          "metadata": {
            "tags": []
          },
          "execution_count": 87
        },
        {
          "output_type": "display_data",
          "data": {
            "image/png": "[encoded data removed]",
            "text/plain": [
              "<Figure size 432x288 with 1 Axes>"
            ]
          },
          "metadata": {
            "tags": [],
            "needs_background": "light"
          }
        }
      ]
    },
    {
      "cell_type": "code",
      "metadata": {
        "id": "dFtdgcsrLOoT"
      },
      "source": [
        "importanceDF.loc['Dependents'] = importanceDF[0][['Dependents_0','Dependents_1','Dependents_2','Dependents_3+']].sum()\n",
        "importanceDF = importanceDF.drop(['Dependents_0','Dependents_1','Dependents_2','Dependents_3+'])"
      ],
      "execution_count": null,
      "outputs": []
    },
    {
      "cell_type": "code",
      "metadata": {
        "colab": {
          "base_uri": "https://localhost:8080/"
        },
        "id": "ohLVHdw6Mge4",
        "outputId": "f8ad2e6a-206c-43e0-bbd9-a7c6cc7c18bd"
      },
      "source": [
        "importanceDF.index"
      ],
      "execution_count": null,
      "outputs": [
        {
          "output_type": "execute_result",
          "data": {
            "text/plain": [
              "Index(['ApplicantIncome', 'CoapplicantIncome', 'LoanAmount',\n",
              "       'Loan_Amount_Term', 'Education_Graduate', 'Education_Not Graduate',\n",
              "       'Self_Employed_No', 'Self_Employed_Yes', 'Credit_History_No',\n",
              "       'Credit_History_Yes', 'Property_Area_Rural', 'Property_Area_Semiurban',\n",
              "       'Property_Area_Urban', 'Married', 'Dependents'],\n",
              "      dtype='object')"
            ]
          },
          "metadata": {
            "tags": []
          },
          "execution_count": 80
        }
      ]
    },
    {
      "cell_type": "code",
      "metadata": {
        "id": "VH00sCrZLfkB"
      },
      "source": [
        "importanceDF.loc['Education'] = importanceDF[0][['Education_Graduate','Education_Not Graduate']].sum()\n",
        "importanceDF = importanceDF.drop(['Education_Graduate','Education_Not Graduate'])\n",
        "importanceDF.loc['Self_Employed'] = importanceDF[0][['Self_Employed_No','Self_Employed_Yes']].sum()\n",
        "importanceDF = importanceDF.drop(['Self_Employed_No','Self_Employed_Yes'])"
      ],
      "execution_count": null,
      "outputs": []
    },
    {
      "cell_type": "code",
      "metadata": {
        "id": "C_BJTaDSL22f"
      },
      "source": [
        "importanceDF.loc['Credit_History'] = importanceDF[0][['Credit_History_No','Credit_History_Yes']].sum()\n",
        "importanceDF = importanceDF.drop(['Credit_History_No','Credit_History_Yes'])"
      ],
      "execution_count": null,
      "outputs": []
    },
    {
      "cell_type": "code",
      "metadata": {
        "id": "Y0KaeClVL-Op"
      },
      "source": [
        "importanceDF.loc['Property_Area'] = importanceDF[0][['Property_Area_Rural','Property_Area_Semiurban','Property_Area_Urban']].sum()\n",
        "importanceDF = importanceDF.drop(['Property_Area_Rural','Property_Area_Semiurban','Property_Area_Urban'])"
      ],
      "execution_count": null,
      "outputs": []
    },
    {
      "cell_type": "code",
      "metadata": {
        "colab": {
          "base_uri": "https://localhost:8080/",
          "height": 363
        },
        "id": "EPcjvtkxNhWv",
        "outputId": "e38813e1-806a-42d7-99c0-7bb84e8bb966"
      },
      "source": [
        "importanceDF"
      ],
      "execution_count": null,
      "outputs": [
        {
          "output_type": "execute_result",
          "data": {
            "text/html": [
              "<div>\n",
              "<style scoped>\n",
              "    .dataframe tbody tr th:only-of-type {\n",
              "        vertical-align: middle;\n",
              "    }\n",
              "\n",
              "    .dataframe tbody tr th {\n",
              "        vertical-align: top;\n",
              "    }\n",
              "\n",
              "    .dataframe thead th {\n",
              "        text-align: right;\n",
              "    }\n",
              "</style>\n",
              "<table border=\"1\" class=\"dataframe\">\n",
              "  <thead>\n",
              "    <tr style=\"text-align: right;\">\n",
              "      <th></th>\n",
              "      <th>0</th>\n",
              "    </tr>\n",
              "  </thead>\n",
              "  <tbody>\n",
              "    <tr>\n",
              "      <th>ApplicantIncome</th>\n",
              "      <td>161</td>\n",
              "    </tr>\n",
              "    <tr>\n",
              "      <th>CoapplicantIncome</th>\n",
              "      <td>116</td>\n",
              "    </tr>\n",
              "    <tr>\n",
              "      <th>LoanAmount</th>\n",
              "      <td>190</td>\n",
              "    </tr>\n",
              "    <tr>\n",
              "      <th>Loan_Amount_Term</th>\n",
              "      <td>7</td>\n",
              "    </tr>\n",
              "    <tr>\n",
              "      <th>Married</th>\n",
              "      <td>19</td>\n",
              "    </tr>\n",
              "    <tr>\n",
              "      <th>Dependents</th>\n",
              "      <td>41</td>\n",
              "    </tr>\n",
              "    <tr>\n",
              "      <th>Education</th>\n",
              "      <td>17</td>\n",
              "    </tr>\n",
              "    <tr>\n",
              "      <th>Self_Employed</th>\n",
              "      <td>7</td>\n",
              "    </tr>\n",
              "    <tr>\n",
              "      <th>Credit_History</th>\n",
              "      <td>44</td>\n",
              "    </tr>\n",
              "    <tr>\n",
              "      <th>Property_Area</th>\n",
              "      <td>44</td>\n",
              "    </tr>\n",
              "  </tbody>\n",
              "</table>\n",
              "</div>"
            ],
            "text/plain": [
              "                     0\n",
              "ApplicantIncome    161\n",
              "CoapplicantIncome  116\n",
              "LoanAmount         190\n",
              "Loan_Amount_Term     7\n",
              "Married             19\n",
              "Dependents          41\n",
              "Education           17\n",
              "Self_Employed        7\n",
              "Credit_History      44\n",
              "Property_Area       44"
            ]
          },
          "metadata": {
            "tags": []
          },
          "execution_count": 85
        }
      ]
    },
    {
      "cell_type": "code",
      "metadata": {
        "id": "ATvqgtR3ODmK"
      },
      "source": [
        "importanceDF= importanceDF.rename(columns={0:'Importance'})"
      ],
      "execution_count": null,
      "outputs": []
    },
    {
      "cell_type": "code",
      "metadata": {
        "colab": {
          "base_uri": "https://localhost:8080/",
          "height": 284
        },
        "id": "YswofIhQOX2v",
        "outputId": "fcc30b99-fc4f-417c-8a6c-5d70611437c0"
      },
      "source": [
        "importanceDF.sort_values('Importance') \\\n",
        "            .plot(kind='barh') "
      ],
      "execution_count": null,
      "outputs": [
        {
          "output_type": "execute_result",
          "data": {
            "text/plain": [
              "<matplotlib.axes._subplots.AxesSubplot at 0x7f358fc65e10>"
            ]
          },
          "metadata": {
            "tags": []
          },
          "execution_count": 90
        },
        {
          "output_type": "display_data",
          "data": {
            "image/png": "[encoded data removed]",
            "text/plain": [
              "<Figure size 432x288 with 1 Axes>"
            ]
          },
          "metadata": {
            "tags": [],
            "needs_background": "light"
          }
        }
      ]
    },
    {
      "cell_type": "markdown",
      "metadata": {
        "jupyter": {
          "outputs_hidden": false
        },
        "id": "89rvKwHsw-AY"
      },
      "source": [
        "## 5. Using Pipeline\n",
        "If you didn't use pipelines before, transform your data prep, feat. engineering and modeling steps into Pipeline. It will be helpful for deployment.\n",
        "\n",
        "The goal here is to create the pipeline that will take one row of our dataset and predict the probability of being granted a loan.\n",
        "\n",
        "`pipeline.predict(x)`"
      ]
    },
    {
      "cell_type": "code",
      "metadata": {
        "id": "fPrwuzz9w-AY"
      },
      "source": [
        "pipeline = Pipeline([ \n",
        "            ('preprocessor', preprocessor),                \n",
        "            ('LGBMClassifier', LGBMClassifier(random_state=1).set_params(**grid_search.best_params_))])"
      ],
      "execution_count": null,
      "outputs": []
    },
    {
      "cell_type": "code",
      "metadata": {
        "id": "32OcU4Dcw-AY",
        "colab": {
          "base_uri": "https://localhost:8080/"
        },
        "outputId": "c9af2e68-a980-4041-f73e-308ac92a8a6a"
      },
      "source": [
        "pipeline.fit(X_train,y_train)\n",
        "pipeline.predict_proba(X_test.reset_index(drop=True).head(1))[:, 1] "
      ],
      "execution_count": null,
      "outputs": [
        {
          "output_type": "stream",
          "text": [
            "[ColumnTransformer] ........... (1 of 2) Processing num, total=   0.0s\n",
            "[ColumnTransformer] ........... (2 of 2) Processing cat, total=   0.0s\n"
          ],
          "name": "stdout"
        },
        {
          "output_type": "execute_result",
          "data": {
            "text/plain": [
              "array([0.14320897])"
            ]
          },
          "metadata": {
            "tags": []
          },
          "execution_count": 118
        }
      ]
    },
    {
      "cell_type": "code",
      "metadata": {
        "id": "76cf81KXVidz"
      },
      "source": [
        "import pickle"
      ],
      "execution_count": null,
      "outputs": []
    },
    {
      "cell_type": "markdown",
      "metadata": {
        "id": "m8pEqNFIw-AY"
      },
      "source": [
        "## 6. Deploy your model to cloud and test it with PostMan, BASH or Python"
      ]
    },
    {
      "cell_type": "code",
      "metadata": {
        "id": "qyrJZ-ftw-AZ"
      },
      "source": [
        "pickle.dump(pipeline, open( \"/content/drive/MyDrive/Colab Notebooks/miniproject4.pickle\", \"wb\" ) )"
      ],
      "execution_count": null,
      "outputs": []
    },
    {
      "cell_type": "code",
      "metadata": {
        "id": "530ZGLIDw-AZ",
        "colab": {
          "base_uri": "https://localhost:8080/"
        },
        "outputId": "1682854a-0a1d-4baa-fa72-0fe250ae0726"
      },
      "source": [
        "grid_search.best_params_"
      ],
      "execution_count": null,
      "outputs": [
        {
          "output_type": "execute_result",
          "data": {
            "text/plain": [
              "{'LGBMClassifier__boosting_type': 'dart',\n",
              " 'LGBMClassifier__learning_rate': 0.5,\n",
              " 'LGBMClassifier__n_estimators': 100}"
            ]
          },
          "metadata": {
            "tags": []
          },
          "execution_count": 119
        }
      ]
    },
    {
      "cell_type": "code",
      "metadata": {
        "id": "kUjDOfSEw-AZ",
        "colab": {
          "base_uri": "https://localhost:8080/",
          "height": 118
        },
        "outputId": "9db5ba40-4a9c-42d0-8779-5258574e6761"
      },
      "source": [
        "X_test.reset_index(drop=True).head(1).to_json"
      ],
      "execution_count": null,
      "outputs": [
        {
          "output_type": "execute_result",
          "data": {
            "text/html": [
              "<div>\n",
              "<style scoped>\n",
              "    .dataframe tbody tr th:only-of-type {\n",
              "        vertical-align: middle;\n",
              "    }\n",
              "\n",
              "    .dataframe tbody tr th {\n",
              "        vertical-align: top;\n",
              "    }\n",
              "\n",
              "    .dataframe thead th {\n",
              "        text-align: right;\n",
              "    }\n",
              "</style>\n",
              "<table border=\"1\" class=\"dataframe\">\n",
              "  <thead>\n",
              "    <tr style=\"text-align: right;\">\n",
              "      <th></th>\n",
              "      <th>Gender</th>\n",
              "      <th>Married</th>\n",
              "      <th>Dependents</th>\n",
              "      <th>Education</th>\n",
              "      <th>Self_Employed</th>\n",
              "      <th>ApplicantIncome</th>\n",
              "      <th>CoapplicantIncome</th>\n",
              "      <th>LoanAmount</th>\n",
              "      <th>Loan_Amount_Term</th>\n",
              "      <th>Credit_History</th>\n",
              "      <th>Property_Area</th>\n",
              "    </tr>\n",
              "  </thead>\n",
              "  <tbody>\n",
              "    <tr>\n",
              "      <th>0</th>\n",
              "      <td>Male</td>\n",
              "      <td>No</td>\n",
              "      <td>0</td>\n",
              "      <td>Not Graduate</td>\n",
              "      <td>No</td>\n",
              "      <td>3833</td>\n",
              "      <td>0.0</td>\n",
              "      <td>110.0</td>\n",
              "      <td>360.0</td>\n",
              "      <td>Yes</td>\n",
              "      <td>Rural</td>\n",
              "    </tr>\n",
              "  </tbody>\n",
              "</table>\n",
              "</div>"
            ],
            "text/plain": [
              "  Gender Married Dependents  ... Loan_Amount_Term Credit_History  Property_Area\n",
              "0   Male      No          0  ...            360.0            Yes          Rural\n",
              "\n",
              "[1 rows x 11 columns]"
            ]
          },
          "metadata": {
            "tags": []
          },
          "execution_count": 123
        }
      ]
    },
    {
      "cell_type": "code",
      "metadata": {
        "colab": {
          "base_uri": "https://localhost:8080/",
          "height": 92
        },
        "id": "dFpQ8zrDXsAc",
        "outputId": "5b2d14f1-18ee-4c16-8140-dcc93f828329"
      },
      "source": [
        "X_test.reset_index(drop=True).loc[0].to_json()"
      ],
      "execution_count": null,
      "outputs": [
        {
          "output_type": "execute_result",
          "data": {
            "application/vnd.google.colaboratory.intrinsic+json": {
              "type": "string"
            },
            "text/plain": [
              "'{\"Gender\":\"Male\",\"Married\":\"No\",\"Dependents\":\"0\",\"Education\":\"Not Graduate\",\"Self_Employed\":\"No\",\"ApplicantIncome\":3833,\"CoapplicantIncome\":0.0,\"LoanAmount\":110.0,\"Loan_Amount_Term\":360.0,\"Credit_History\":\"Yes\",\"Property_Area\":\"Rural\"}'"
            ]
          },
          "metadata": {
            "tags": []
          },
          "execution_count": 127
        }
      ]
    },
    {
      "cell_type": "code",
      "metadata": {
        "colab": {
          "base_uri": "https://localhost:8080/"
        },
        "id": "rFS5PYehX8kL",
        "outputId": "d7b03ce8-f75f-49e7-c881-49b9fd23044d"
      },
      "source": [
        "pipeline.predict_proba(X_test.reset_index(drop=True).tail(12)).tolist()"
      ],
      "execution_count": null,
      "outputs": [
        {
          "output_type": "execute_result",
          "data": {
            "text/plain": [
              "[[0.5302513661808672, 0.46974863381913273],\n",
              " [0.9951446247194486, 0.004855375280551396],\n",
              " [0.2974992381242446, 0.7025007618757554],\n",
              " [0.9645219955690556, 0.03547800443094435],\n",
              " [0.43859729304798367, 0.5614027069520163],\n",
              " [0.3485043210335115, 0.6514956789664885],\n",
              " [0.873950861531277, 0.12604913846872298],\n",
              " [0.9314547312224684, 0.06854526877753163],\n",
              " [0.17631432007064507, 0.8236856799293549],\n",
              " [0.45444777915793977, 0.5455522208420602],\n",
              " [0.7342362089959218, 0.2657637910040782],\n",
              " [0.993376765744091, 0.006623234255908996]]"
            ]
          },
          "metadata": {
            "tags": []
          },
          "execution_count": 138
        }
      ]
    },
    {
      "cell_type": "code",
      "metadata": {
        "id": "ppHqT91xitix"
      },
      "source": [
        ""
      ],
      "execution_count": null,
      "outputs": []
    }
  ]
}